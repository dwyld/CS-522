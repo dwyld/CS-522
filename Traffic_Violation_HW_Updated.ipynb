{
  "nbformat": 4,
  "nbformat_minor": 0,
  "metadata": {
    "colab": {
      "name": "Traffic_Violation_HW_Updated.ipynb",
      "provenance": [],
      "collapsed_sections": [],
      "authorship_tag": "ABX9TyOT9mRXJMhOqRGMeEn3f4AE",
      "include_colab_link": true
    },
    "kernelspec": {
      "name": "python3",
      "display_name": "Python 3"
    },
    "language_info": {
      "name": "python"
    }
  },
  "cells": [
    {
      "cell_type": "markdown",
      "metadata": {
        "id": "view-in-github",
        "colab_type": "text"
      },
      "source": [
        "<a href=\"https://colab.research.google.com/github/dwyld/CS-522/blob/main/Traffic_Violation_HW_Updated.ipynb\" target=\"_parent\"><img src=\"https://colab.research.google.com/assets/colab-badge.svg\" alt=\"Open In Colab\"/></a>"
      ]
    },
    {
      "cell_type": "code",
      "metadata": {
        "colab": {
          "base_uri": "https://localhost:8080/"
        },
        "id": "7xcWC4h_ZU7e",
        "outputId": "6ff1b8dd-d075-4109-fc4d-06fd19457ce1"
      },
      "source": [
        "from google.colab import drive\n",
        "drive.mount('/content/drive')"
      ],
      "execution_count": 1,
      "outputs": [
        {
          "output_type": "stream",
          "name": "stdout",
          "text": [
            "Mounted at /content/drive\n"
          ]
        }
      ]
    },
    {
      "cell_type": "code",
      "metadata": {
        "id": "6lg-fsr-Zla9"
      },
      "source": [
        "import pandas as pd\n",
        "import numpy as np"
      ],
      "execution_count": 2,
      "outputs": []
    },
    {
      "cell_type": "code",
      "metadata": {
        "colab": {
          "base_uri": "https://localhost:8080/",
          "height": 661
        },
        "id": "Jk4GkcS9Zr1g",
        "outputId": "4810d10d-f01f-49b3-903d-5183590a839a"
      },
      "source": [
        "traffic_violations_df = pd.read_csv('/content/drive/MyDrive/Traffic_Violations.csv')\n",
        "traffic_violations_df.head(5)"
      ],
      "execution_count": 3,
      "outputs": [
        {
          "output_type": "stream",
          "name": "stderr",
          "text": [
            "/usr/local/lib/python3.7/dist-packages/IPython/core/interactiveshell.py:2718: DtypeWarning: Columns (26) have mixed types.Specify dtype option on import or set low_memory=False.\n",
            "  interactivity=interactivity, compiler=compiler, result=result)\n"
          ]
        },
        {
          "output_type": "execute_result",
          "data": {
            "text/html": [
              "<div>\n",
              "<style scoped>\n",
              "    .dataframe tbody tr th:only-of-type {\n",
              "        vertical-align: middle;\n",
              "    }\n",
              "\n",
              "    .dataframe tbody tr th {\n",
              "        vertical-align: top;\n",
              "    }\n",
              "\n",
              "    .dataframe thead th {\n",
              "        text-align: right;\n",
              "    }\n",
              "</style>\n",
              "<table border=\"1\" class=\"dataframe\">\n",
              "  <thead>\n",
              "    <tr style=\"text-align: right;\">\n",
              "      <th></th>\n",
              "      <th>Date Of Stop</th>\n",
              "      <th>Time Of Stop</th>\n",
              "      <th>Agency</th>\n",
              "      <th>SubAgency</th>\n",
              "      <th>Description</th>\n",
              "      <th>Location</th>\n",
              "      <th>Latitude</th>\n",
              "      <th>Longitude</th>\n",
              "      <th>Accident</th>\n",
              "      <th>Belts</th>\n",
              "      <th>Personal Injury</th>\n",
              "      <th>Property Damage</th>\n",
              "      <th>Fatal</th>\n",
              "      <th>Commercial License</th>\n",
              "      <th>HAZMAT</th>\n",
              "      <th>Commercial Vehicle</th>\n",
              "      <th>Alcohol</th>\n",
              "      <th>Work Zone</th>\n",
              "      <th>State</th>\n",
              "      <th>VehicleType</th>\n",
              "      <th>Year</th>\n",
              "      <th>Make</th>\n",
              "      <th>Model</th>\n",
              "      <th>Color</th>\n",
              "      <th>Violation Type</th>\n",
              "      <th>Charge</th>\n",
              "      <th>Article</th>\n",
              "      <th>Contributed To Accident</th>\n",
              "      <th>Race</th>\n",
              "      <th>Gender</th>\n",
              "      <th>Driver City</th>\n",
              "      <th>Driver State</th>\n",
              "      <th>DL State</th>\n",
              "      <th>Arrest Type</th>\n",
              "      <th>Geolocation</th>\n",
              "    </tr>\n",
              "  </thead>\n",
              "  <tbody>\n",
              "    <tr>\n",
              "      <th>0</th>\n",
              "      <td>09/24/2013</td>\n",
              "      <td>17:11:00</td>\n",
              "      <td>MCP</td>\n",
              "      <td>3rd district, Silver Spring</td>\n",
              "      <td>DRIVING VEHICLE ON HIGHWAY WITH SUSPENDED REGI...</td>\n",
              "      <td>8804 FLOWER AVE</td>\n",
              "      <td>NaN</td>\n",
              "      <td>NaN</td>\n",
              "      <td>No</td>\n",
              "      <td>No</td>\n",
              "      <td>No</td>\n",
              "      <td>No</td>\n",
              "      <td>No</td>\n",
              "      <td>No</td>\n",
              "      <td>No</td>\n",
              "      <td>No</td>\n",
              "      <td>No</td>\n",
              "      <td>No</td>\n",
              "      <td>MD</td>\n",
              "      <td>02 - Automobile</td>\n",
              "      <td>2008.0</td>\n",
              "      <td>FORD</td>\n",
              "      <td>4S</td>\n",
              "      <td>BLACK</td>\n",
              "      <td>Citation</td>\n",
              "      <td>13-401(h)</td>\n",
              "      <td>Transportation Article</td>\n",
              "      <td>No</td>\n",
              "      <td>BLACK</td>\n",
              "      <td>M</td>\n",
              "      <td>TAKOMA PARK</td>\n",
              "      <td>MD</td>\n",
              "      <td>MD</td>\n",
              "      <td>A - Marked Patrol</td>\n",
              "      <td>NaN</td>\n",
              "    </tr>\n",
              "    <tr>\n",
              "      <th>1</th>\n",
              "      <td>08/29/2017</td>\n",
              "      <td>10:19:00</td>\n",
              "      <td>MCP</td>\n",
              "      <td>2nd district, Bethesda</td>\n",
              "      <td>DRIVER FAILURE TO OBEY PROPERLY PLACED TRAFFIC...</td>\n",
              "      <td>WISCONSIN AVE@ ELM ST</td>\n",
              "      <td>38.981725</td>\n",
              "      <td>-77.092757</td>\n",
              "      <td>No</td>\n",
              "      <td>No</td>\n",
              "      <td>No</td>\n",
              "      <td>No</td>\n",
              "      <td>No</td>\n",
              "      <td>No</td>\n",
              "      <td>No</td>\n",
              "      <td>No</td>\n",
              "      <td>No</td>\n",
              "      <td>No</td>\n",
              "      <td>VA</td>\n",
              "      <td>02 - Automobile</td>\n",
              "      <td>2001.0</td>\n",
              "      <td>TOYOTA</td>\n",
              "      <td>COROLLA</td>\n",
              "      <td>GREEN</td>\n",
              "      <td>Citation</td>\n",
              "      <td>21-201(a1)</td>\n",
              "      <td>Transportation Article</td>\n",
              "      <td>No</td>\n",
              "      <td>WHITE</td>\n",
              "      <td>F</td>\n",
              "      <td>FAIRFAX STATION</td>\n",
              "      <td>VA</td>\n",
              "      <td>VA</td>\n",
              "      <td>A - Marked Patrol</td>\n",
              "      <td>(38.981725, -77.0927566666667)</td>\n",
              "    </tr>\n",
              "    <tr>\n",
              "      <th>2</th>\n",
              "      <td>12/01/2014</td>\n",
              "      <td>12:52:00</td>\n",
              "      <td>MCP</td>\n",
              "      <td>6th district, Gaithersburg / Montgomery Village</td>\n",
              "      <td>FAILURE STOP AND YIELD AT THRU HWY</td>\n",
              "      <td>CHRISTOPHER AVE/MONTGOMERY VILLAGE AVE</td>\n",
              "      <td>39.162888</td>\n",
              "      <td>-77.229088</td>\n",
              "      <td>No</td>\n",
              "      <td>No</td>\n",
              "      <td>No</td>\n",
              "      <td>Yes</td>\n",
              "      <td>No</td>\n",
              "      <td>No</td>\n",
              "      <td>No</td>\n",
              "      <td>No</td>\n",
              "      <td>No</td>\n",
              "      <td>No</td>\n",
              "      <td>MD</td>\n",
              "      <td>02 - Automobile</td>\n",
              "      <td>2001.0</td>\n",
              "      <td>HONDA</td>\n",
              "      <td>ACCORD</td>\n",
              "      <td>SILVER</td>\n",
              "      <td>Citation</td>\n",
              "      <td>21-403(b)</td>\n",
              "      <td>Transportation Article</td>\n",
              "      <td>No</td>\n",
              "      <td>BLACK</td>\n",
              "      <td>F</td>\n",
              "      <td>UPPER MARLBORO</td>\n",
              "      <td>MD</td>\n",
              "      <td>MD</td>\n",
              "      <td>A - Marked Patrol</td>\n",
              "      <td>(39.1628883333333, -77.2290883333333)</td>\n",
              "    </tr>\n",
              "    <tr>\n",
              "      <th>3</th>\n",
              "      <td>08/29/2017</td>\n",
              "      <td>09:22:00</td>\n",
              "      <td>MCP</td>\n",
              "      <td>3rd district, Silver Spring</td>\n",
              "      <td>FAILURE YIELD RIGHT OF WAY ON U TURN</td>\n",
              "      <td>CHERRY HILL RD./CALVERTON BLVD.</td>\n",
              "      <td>39.056975</td>\n",
              "      <td>-76.954633</td>\n",
              "      <td>No</td>\n",
              "      <td>No</td>\n",
              "      <td>No</td>\n",
              "      <td>Yes</td>\n",
              "      <td>No</td>\n",
              "      <td>No</td>\n",
              "      <td>No</td>\n",
              "      <td>No</td>\n",
              "      <td>No</td>\n",
              "      <td>No</td>\n",
              "      <td>MD</td>\n",
              "      <td>02 - Automobile</td>\n",
              "      <td>1998.0</td>\n",
              "      <td>DODG</td>\n",
              "      <td>DAKOTA</td>\n",
              "      <td>WHITE</td>\n",
              "      <td>Citation</td>\n",
              "      <td>21-402(b)</td>\n",
              "      <td>Transportation Article</td>\n",
              "      <td>No</td>\n",
              "      <td>BLACK</td>\n",
              "      <td>M</td>\n",
              "      <td>FORT WASHINGTON</td>\n",
              "      <td>MD</td>\n",
              "      <td>MD</td>\n",
              "      <td>A - Marked Patrol</td>\n",
              "      <td>(39.056975, -76.9546333333333)</td>\n",
              "    </tr>\n",
              "    <tr>\n",
              "      <th>4</th>\n",
              "      <td>08/28/2017</td>\n",
              "      <td>23:41:00</td>\n",
              "      <td>MCP</td>\n",
              "      <td>6th district, Gaithersburg / Montgomery Village</td>\n",
              "      <td>FAILURE OF DR. TO MAKE LANE CHANGE TO AVAIL. L...</td>\n",
              "      <td>355 @ SOUTH WESTLAND DRIVE</td>\n",
              "      <td>NaN</td>\n",
              "      <td>NaN</td>\n",
              "      <td>No</td>\n",
              "      <td>No</td>\n",
              "      <td>No</td>\n",
              "      <td>No</td>\n",
              "      <td>No</td>\n",
              "      <td>No</td>\n",
              "      <td>No</td>\n",
              "      <td>No</td>\n",
              "      <td>No</td>\n",
              "      <td>No</td>\n",
              "      <td>MD</td>\n",
              "      <td>02 - Automobile</td>\n",
              "      <td>2015.0</td>\n",
              "      <td>MINI COOPER</td>\n",
              "      <td>2S</td>\n",
              "      <td>WHITE</td>\n",
              "      <td>Citation</td>\n",
              "      <td>21-405(e1)</td>\n",
              "      <td>Transportation Article</td>\n",
              "      <td>No</td>\n",
              "      <td>WHITE</td>\n",
              "      <td>M</td>\n",
              "      <td>GAITHERSBURG</td>\n",
              "      <td>MD</td>\n",
              "      <td>MD</td>\n",
              "      <td>A - Marked Patrol</td>\n",
              "      <td>NaN</td>\n",
              "    </tr>\n",
              "  </tbody>\n",
              "</table>\n",
              "</div>"
            ],
            "text/plain": [
              "  Date Of Stop  ...                            Geolocation\n",
              "0   09/24/2013  ...                                    NaN\n",
              "1   08/29/2017  ...         (38.981725, -77.0927566666667)\n",
              "2   12/01/2014  ...  (39.1628883333333, -77.2290883333333)\n",
              "3   08/29/2017  ...         (39.056975, -76.9546333333333)\n",
              "4   08/28/2017  ...                                    NaN\n",
              "\n",
              "[5 rows x 35 columns]"
            ]
          },
          "metadata": {},
          "execution_count": 3
        }
      ]
    },
    {
      "cell_type": "code",
      "metadata": {
        "colab": {
          "base_uri": "https://localhost:8080/"
        },
        "id": "zyj-oMgJe8fO",
        "outputId": "f2812193-c696-4ff7-8d15-b59b969f4714"
      },
      "source": [
        "traffic_violations_df.columns"
      ],
      "execution_count": 4,
      "outputs": [
        {
          "output_type": "execute_result",
          "data": {
            "text/plain": [
              "Index(['Date Of Stop', 'Time Of Stop', 'Agency', 'SubAgency', 'Description',\n",
              "       'Location', 'Latitude', 'Longitude', 'Accident', 'Belts',\n",
              "       'Personal Injury', 'Property Damage', 'Fatal', 'Commercial License',\n",
              "       'HAZMAT', 'Commercial Vehicle', 'Alcohol', 'Work Zone', 'State',\n",
              "       'VehicleType', 'Year', 'Make', 'Model', 'Color', 'Violation Type',\n",
              "       'Charge', 'Article', 'Contributed To Accident', 'Race', 'Gender',\n",
              "       'Driver City', 'Driver State', 'DL State', 'Arrest Type',\n",
              "       'Geolocation'],\n",
              "      dtype='object')"
            ]
          },
          "metadata": {},
          "execution_count": 4
        }
      ]
    },
    {
      "cell_type": "markdown",
      "metadata": {
        "id": "mobhecS8gcbX"
      },
      "source": [
        "# New Section \n",
        "Homework Question 1"
      ]
    },
    {
      "cell_type": "code",
      "metadata": {
        "id": "YoAqGIldfJnS"
      },
      "source": [
        "color_df = traffic_violations_df['Color']"
      ],
      "execution_count": 5,
      "outputs": []
    },
    {
      "cell_type": "code",
      "metadata": {
        "colab": {
          "base_uri": "https://localhost:8080/"
        },
        "id": "SoJZSjHZfesU",
        "outputId": "c2d2b8b1-a43c-42b7-be98-e1e325a20a49"
      },
      "source": [
        "color_df.head()"
      ],
      "execution_count": 6,
      "outputs": [
        {
          "output_type": "execute_result",
          "data": {
            "text/plain": [
              "0     BLACK\n",
              "1     GREEN\n",
              "2    SILVER\n",
              "3     WHITE\n",
              "4     WHITE\n",
              "Name: Color, dtype: object"
            ]
          },
          "metadata": {},
          "execution_count": 6
        }
      ]
    },
    {
      "cell_type": "code",
      "metadata": {
        "colab": {
          "base_uri": "https://localhost:8080/"
        },
        "id": "PqFAxg-hgB3Z",
        "outputId": "20ec139c-f4da-4cec-bdd5-9bc0275205c2"
      },
      "source": [
        "color_df.value_counts()"
      ],
      "execution_count": 7,
      "outputs": [
        {
          "output_type": "execute_result",
          "data": {
            "text/plain": [
              "BLACK          259499\n",
              "SILVER         236828\n",
              "WHITE          197558\n",
              "GRAY           141092\n",
              "RED            101733\n",
              "BLUE            94814\n",
              "GREEN           49520\n",
              "GOLD            41177\n",
              "BLUE, DARK      27111\n",
              "TAN             27015\n",
              "MAROON          22408\n",
              "BLUE, LIGHT     17221\n",
              "BEIGE           15047\n",
              "GREEN, DK       14457\n",
              "GREEN, LGT       7345\n",
              "BROWN            6021\n",
              "YELLOW           4889\n",
              "ORANGE           4538\n",
              "BRONZE           2964\n",
              "PURPLE           2524\n",
              "MULTICOLOR       1021\n",
              "CREAM             837\n",
              "COPPER            414\n",
              "PINK              188\n",
              "CHROME             27\n",
              "CAMOUFLAGE         24\n",
              "Name: Color, dtype: int64"
            ]
          },
          "metadata": {},
          "execution_count": 7
        }
      ]
    },
    {
      "cell_type": "markdown",
      "metadata": {
        "id": "XqyXlfZbgZAI"
      },
      "source": [
        "According to the reults of the function used above, black colored vehicles have the most amount of traffic violations."
      ]
    },
    {
      "cell_type": "markdown",
      "metadata": {
        "id": "WWhUiKfAg2A3"
      },
      "source": [
        "# New Section\n",
        "Homework Question 2"
      ]
    },
    {
      "cell_type": "code",
      "metadata": {
        "colab": {
          "base_uri": "https://localhost:8080/"
        },
        "id": "s-xrrwwOg7VY",
        "outputId": "23f0fb57-1a6e-4117-a7f3-91725807ef18"
      },
      "source": [
        "model_df = traffic_violations_df['Model']\n",
        "model_df.head()"
      ],
      "execution_count": 8,
      "outputs": [
        {
          "output_type": "execute_result",
          "data": {
            "text/plain": [
              "0         4S\n",
              "1    COROLLA\n",
              "2     ACCORD\n",
              "3     DAKOTA\n",
              "4         2S\n",
              "Name: Model, dtype: object"
            ]
          },
          "metadata": {},
          "execution_count": 8
        }
      ]
    },
    {
      "cell_type": "code",
      "metadata": {
        "colab": {
          "base_uri": "https://localhost:8080/"
        },
        "id": "_9ZkRopPhHt1",
        "outputId": "fea004f1-bf13-4206-b110-7ec10d2d1552"
      },
      "source": [
        "model_df.value_counts()"
      ],
      "execution_count": 9,
      "outputs": [
        {
          "output_type": "execute_result",
          "data": {
            "text/plain": [
              "4S               144337\n",
              "TK                84159\n",
              "ACCORD            47388\n",
              "CIVIC             44291\n",
              "CAMRY             43232\n",
              "                  ...  \n",
              "RAM-TRUCK             1\n",
              "QUEST 3.5 SL          1\n",
              "SU / TAHOE            1\n",
              "4S / GRAND AM         1\n",
              "4D G25X               1\n",
              "Name: Model, Length: 17560, dtype: int64"
            ]
          },
          "metadata": {},
          "execution_count": 9
        }
      ]
    },
    {
      "cell_type": "markdown",
      "metadata": {
        "id": "sVE1pL6mhSYS"
      },
      "source": [
        "According to the results of the function, the car model with the most traffic violations is the \"4S\"."
      ]
    },
    {
      "cell_type": "markdown",
      "metadata": {
        "id": "uTcJRNhkhb9K"
      },
      "source": [
        "# New Section\n",
        "Fun Analysis:\n",
        "\n",
        "I was able to answer the simple questions and load the dataset using Google Collab, but when I tried to make some fun graphs and \"wow\" you, it kept crashing or just loading forever.  (I waited over an hour for a simple bar graph that never loaded.)"
      ]
    },
    {
      "cell_type": "code",
      "metadata": {
        "id": "UEJnnChxngBY"
      },
      "source": [
        ""
      ],
      "execution_count": 9,
      "outputs": []
    },
    {
      "cell_type": "markdown",
      "metadata": {
        "id": "4Vz0CVCHcaGG"
      },
      "source": [
        "# Homework 4\n"
      ]
    },
    {
      "cell_type": "code",
      "metadata": {
        "id": "nyZnEBU7cpRI"
      },
      "source": [
        "import numpy as np\n",
        "import pandas as pd\n",
        "import seaborn as sn\n",
        "from sklearn import metrics\n",
        "import matplotlib.pyplot as plt\n",
        "%matplotlib inline\n",
        "from sklearn.datasets import make_classification"
      ],
      "execution_count": 10,
      "outputs": []
    },
    {
      "cell_type": "code",
      "metadata": {
        "id": "90b4aodjc5nD"
      },
      "source": [
        "Traffic_Violations_2 = traffic_violations_df.dropna()"
      ],
      "execution_count": 11,
      "outputs": []
    },
    {
      "cell_type": "code",
      "metadata": {
        "colab": {
          "base_uri": "https://localhost:8080/"
        },
        "id": "onTcMI9Zm09B",
        "outputId": "214bb3bd-ad2c-41a4-b570-f4f0d231ed1e"
      },
      "source": [
        "Traffic_Violations_2.shape"
      ],
      "execution_count": 13,
      "outputs": [
        {
          "output_type": "execute_result",
          "data": {
            "text/plain": [
              "(1120327, 35)"
            ]
          },
          "metadata": {},
          "execution_count": 13
        }
      ]
    },
    {
      "cell_type": "markdown",
      "metadata": {
        "id": "toUp0vTCn9Yh"
      },
      "source": [
        "Build a Decision Tree to tell whether a traffic violation may result in a citation or a warning"
      ]
    },
    {
      "cell_type": "code",
      "metadata": {
        "colab": {
          "base_uri": "https://localhost:8080/"
        },
        "id": "wvw72g8onBbK",
        "outputId": "d7254e6d-7c19-4bd3-fb6d-454372fa9125"
      },
      "source": [
        "Traffic_Violations_2['Violation Type']=Traffic_Violations_2['Violation Type'].replace(to_replace='Citation',value='1')\n",
        "Traffic_Violations_2['Violation Type']=Traffic_Violations_2['Violation Type'].replace(to_replace='Warning',value='0')\n",
        "Traffic_Violations_2['Violation Type']=Traffic_Violations_2['Violation Type'].replace(to_replace='SERO',value='2')"
      ],
      "execution_count": 14,
      "outputs": [
        {
          "output_type": "stream",
          "name": "stderr",
          "text": [
            "/usr/local/lib/python3.7/dist-packages/ipykernel_launcher.py:1: SettingWithCopyWarning: \n",
            "A value is trying to be set on a copy of a slice from a DataFrame.\n",
            "Try using .loc[row_indexer,col_indexer] = value instead\n",
            "\n",
            "See the caveats in the documentation: https://pandas.pydata.org/pandas-docs/stable/user_guide/indexing.html#returning-a-view-versus-a-copy\n",
            "  \"\"\"Entry point for launching an IPython kernel.\n",
            "/usr/local/lib/python3.7/dist-packages/ipykernel_launcher.py:2: SettingWithCopyWarning: \n",
            "A value is trying to be set on a copy of a slice from a DataFrame.\n",
            "Try using .loc[row_indexer,col_indexer] = value instead\n",
            "\n",
            "See the caveats in the documentation: https://pandas.pydata.org/pandas-docs/stable/user_guide/indexing.html#returning-a-view-versus-a-copy\n",
            "  \n",
            "/usr/local/lib/python3.7/dist-packages/ipykernel_launcher.py:3: SettingWithCopyWarning: \n",
            "A value is trying to be set on a copy of a slice from a DataFrame.\n",
            "Try using .loc[row_indexer,col_indexer] = value instead\n",
            "\n",
            "See the caveats in the documentation: https://pandas.pydata.org/pandas-docs/stable/user_guide/indexing.html#returning-a-view-versus-a-copy\n",
            "  This is separate from the ipykernel package so we can avoid doing imports until\n"
          ]
        }
      ]
    },
    {
      "cell_type": "code",
      "metadata": {
        "id": "6XvWJKRIqyMw"
      },
      "source": [
        "Traffic_Violations_2['Belts']=Traffic_Violations_2['Belts'].replace(to_replace='Yes',value='1')\n",
        "Traffic_Violations_2['Belts']=Traffic_Violations_2['Belts'].replace(to_replace='No',value='0')\n",
        "\n",
        "Traffic_Violations_2['Personal Injury']=Traffic_Violations_2['Personal Injury'].replace(to_replace='Yes',value='1')\n",
        "Traffic_Violations_2['Personal Injury']=Traffic_Violations_2['Personal Injury'].replace(to_replace='No',value='0')\n",
        "\n",
        "Traffic_Violations_2['Property Damage']=Traffic_Violations_2['Property Damage'].replace(to_replace='Yes',value='1')\n",
        "Traffic_Violations_2['Property Damage']=Traffic_Violations_2['Property Damage'].replace(to_replace='No',value='0')\n",
        "\n",
        "Traffic_Violations_2['Fatal']=Traffic_Violations_2['Fatal'].replace(to_replace='Yes',value='1')\n",
        "Traffic_Violations_2['Fatal']=Traffic_Violations_2['Fatal'].replace(to_replace='No',value='0')\n",
        "\n",
        "Traffic_Violations_2['Commercial License']=Traffic_Violations_2['Commercial License'].replace(to_replace='Yes',value='1')\n",
        "Traffic_Violations_2['Commercial License']=Traffic_Violations_2['Commercial License'].replace(to_replace='No',value='0')\n",
        "\n",
        "Traffic_Violations_2['HAZMAT']=Traffic_Violations_2['HAZMAT'].replace(to_replace='Yes',value='1')\n",
        "Traffic_Violations_2['HAZMAT']=Traffic_Violations_2['HAZMAT'].replace(to_replace='No',value='0')\n",
        "\n",
        "Traffic_Violations_2['Commercial Vehicle']=Traffic_Violations_2['Commercial Vehicle'].replace(to_replace='Yes',value='1')\n",
        "Traffic_Violations_2['Commercial Vehicle']=Traffic_Violations_2['Commercial Vehicle'].replace(to_replace='No',value='0')\n",
        "\n",
        "Traffic_Violations_2['Alcohol']=Traffic_Violations_2['Alcohol'].replace(to_replace='Yes',value='1')\n",
        "Traffic_Violations_2['Alcohol']=Traffic_Violations_2['Alcohol'].replace(to_replace='No',value='0')\n",
        "\n",
        "Traffic_Violations_2['Work Zone']=Traffic_Violations_2['Work Zone'].replace(to_replace='Yes',value='1')\n",
        "Traffic_Violations_2['Work Zone']=Traffic_Violations_2['Work Zone'].replace(to_replace='No',value='0')\n",
        "\n",
        "Traffic_Violations_2['Contributed To Accident']=Traffic_Violations_2['Contributed To Accident'].replace(to_replace='Yes',value='1')\n",
        "Traffic_Violations_2['Contributed To Accident']=Traffic_Violations_2['Contributed To Accident'].replace(to_replace='No',value='0')"
      ],
      "execution_count": null,
      "outputs": []
    },
    {
      "cell_type": "markdown",
      "metadata": {
        "id": "ACFKwUf-rLrr"
      },
      "source": [
        "Changed all the columns responses to values we can handle for creating the tree.\n"
      ]
    },
    {
      "cell_type": "code",
      "metadata": {
        "id": "y8Xs77gQrSbX"
      },
      "source": [
        "Traffic_Violations_2['Belts'] = Traffic_Violations_2['Belts'].astype(int)\n",
        "Traffic_Violations_2['Personal Injury'] = Traffic_Violations_2['Personal Injury'].astype(int)\n",
        "Traffic_Violations_2['Property Damage'] = Traffic_Violations_2['Property Damage'].astype(int)\n",
        "Traffic_Violations_2['Fatal'] = Traffic_Violations_2['Fatal'].astype(int)\n",
        "Traffic_Violations_2['Commercial License'] = Traffic_Violations_2['Commercial License'].astype(int)\n",
        "Traffic_Violations_2['HAZMAT'] = Traffic_Violations_2['HAZMAT'].astype(int)\n",
        "Traffic_Violations_2['Commercial Vehicle'] = Traffic_Violations_2['Commercial Vehicle'].astype(int)\n",
        "Traffic_Violations_2['Alcohol'] = Traffic_Violations_2['Alcohol'].astype(int)\n",
        "Traffic_Violations_2['Work Zone'] = Traffic_Violations_2['Work Zone'].astype(int)\n",
        "Traffic_Violations_2['Contributed To Accident'] = Traffic_Violations_2['Contributed To Accident'].astype(int)"
      ],
      "execution_count": null,
      "outputs": []
    },
    {
      "cell_type": "code",
      "metadata": {
        "colab": {
          "base_uri": "https://localhost:8080/",
          "height": 625
        },
        "id": "H1l8DMd-rcT6",
        "outputId": "3edc0131-6b90-4056-e335-9d38b1d615c8"
      },
      "source": [
        "Traffic_Violations_2.head()"
      ],
      "execution_count": 17,
      "outputs": [
        {
          "output_type": "execute_result",
          "data": {
            "text/html": [
              "<div>\n",
              "<style scoped>\n",
              "    .dataframe tbody tr th:only-of-type {\n",
              "        vertical-align: middle;\n",
              "    }\n",
              "\n",
              "    .dataframe tbody tr th {\n",
              "        vertical-align: top;\n",
              "    }\n",
              "\n",
              "    .dataframe thead th {\n",
              "        text-align: right;\n",
              "    }\n",
              "</style>\n",
              "<table border=\"1\" class=\"dataframe\">\n",
              "  <thead>\n",
              "    <tr style=\"text-align: right;\">\n",
              "      <th></th>\n",
              "      <th>Date Of Stop</th>\n",
              "      <th>Time Of Stop</th>\n",
              "      <th>Agency</th>\n",
              "      <th>SubAgency</th>\n",
              "      <th>Description</th>\n",
              "      <th>Location</th>\n",
              "      <th>Latitude</th>\n",
              "      <th>Longitude</th>\n",
              "      <th>Accident</th>\n",
              "      <th>Belts</th>\n",
              "      <th>Personal Injury</th>\n",
              "      <th>Property Damage</th>\n",
              "      <th>Fatal</th>\n",
              "      <th>Commercial License</th>\n",
              "      <th>HAZMAT</th>\n",
              "      <th>Commercial Vehicle</th>\n",
              "      <th>Alcohol</th>\n",
              "      <th>Work Zone</th>\n",
              "      <th>State</th>\n",
              "      <th>VehicleType</th>\n",
              "      <th>Year</th>\n",
              "      <th>Make</th>\n",
              "      <th>Model</th>\n",
              "      <th>Color</th>\n",
              "      <th>Violation Type</th>\n",
              "      <th>Charge</th>\n",
              "      <th>Article</th>\n",
              "      <th>Contributed To Accident</th>\n",
              "      <th>Race</th>\n",
              "      <th>Gender</th>\n",
              "      <th>Driver City</th>\n",
              "      <th>Driver State</th>\n",
              "      <th>DL State</th>\n",
              "      <th>Arrest Type</th>\n",
              "      <th>Geolocation</th>\n",
              "    </tr>\n",
              "  </thead>\n",
              "  <tbody>\n",
              "    <tr>\n",
              "      <th>1</th>\n",
              "      <td>08/29/2017</td>\n",
              "      <td>10:19:00</td>\n",
              "      <td>MCP</td>\n",
              "      <td>2nd district, Bethesda</td>\n",
              "      <td>DRIVER FAILURE TO OBEY PROPERLY PLACED TRAFFIC...</td>\n",
              "      <td>WISCONSIN AVE@ ELM ST</td>\n",
              "      <td>38.981725</td>\n",
              "      <td>-77.092757</td>\n",
              "      <td>No</td>\n",
              "      <td>0</td>\n",
              "      <td>0</td>\n",
              "      <td>0</td>\n",
              "      <td>0</td>\n",
              "      <td>0</td>\n",
              "      <td>0</td>\n",
              "      <td>0</td>\n",
              "      <td>0</td>\n",
              "      <td>0</td>\n",
              "      <td>VA</td>\n",
              "      <td>02 - Automobile</td>\n",
              "      <td>2001.0</td>\n",
              "      <td>TOYOTA</td>\n",
              "      <td>COROLLA</td>\n",
              "      <td>GREEN</td>\n",
              "      <td>1</td>\n",
              "      <td>21-201(a1)</td>\n",
              "      <td>Transportation Article</td>\n",
              "      <td>0</td>\n",
              "      <td>WHITE</td>\n",
              "      <td>F</td>\n",
              "      <td>FAIRFAX STATION</td>\n",
              "      <td>VA</td>\n",
              "      <td>VA</td>\n",
              "      <td>A - Marked Patrol</td>\n",
              "      <td>(38.981725, -77.0927566666667)</td>\n",
              "    </tr>\n",
              "    <tr>\n",
              "      <th>2</th>\n",
              "      <td>12/01/2014</td>\n",
              "      <td>12:52:00</td>\n",
              "      <td>MCP</td>\n",
              "      <td>6th district, Gaithersburg / Montgomery Village</td>\n",
              "      <td>FAILURE STOP AND YIELD AT THRU HWY</td>\n",
              "      <td>CHRISTOPHER AVE/MONTGOMERY VILLAGE AVE</td>\n",
              "      <td>39.162888</td>\n",
              "      <td>-77.229088</td>\n",
              "      <td>No</td>\n",
              "      <td>0</td>\n",
              "      <td>0</td>\n",
              "      <td>1</td>\n",
              "      <td>0</td>\n",
              "      <td>0</td>\n",
              "      <td>0</td>\n",
              "      <td>0</td>\n",
              "      <td>0</td>\n",
              "      <td>0</td>\n",
              "      <td>MD</td>\n",
              "      <td>02 - Automobile</td>\n",
              "      <td>2001.0</td>\n",
              "      <td>HONDA</td>\n",
              "      <td>ACCORD</td>\n",
              "      <td>SILVER</td>\n",
              "      <td>1</td>\n",
              "      <td>21-403(b)</td>\n",
              "      <td>Transportation Article</td>\n",
              "      <td>0</td>\n",
              "      <td>BLACK</td>\n",
              "      <td>F</td>\n",
              "      <td>UPPER MARLBORO</td>\n",
              "      <td>MD</td>\n",
              "      <td>MD</td>\n",
              "      <td>A - Marked Patrol</td>\n",
              "      <td>(39.1628883333333, -77.2290883333333)</td>\n",
              "    </tr>\n",
              "    <tr>\n",
              "      <th>3</th>\n",
              "      <td>08/29/2017</td>\n",
              "      <td>09:22:00</td>\n",
              "      <td>MCP</td>\n",
              "      <td>3rd district, Silver Spring</td>\n",
              "      <td>FAILURE YIELD RIGHT OF WAY ON U TURN</td>\n",
              "      <td>CHERRY HILL RD./CALVERTON BLVD.</td>\n",
              "      <td>39.056975</td>\n",
              "      <td>-76.954633</td>\n",
              "      <td>No</td>\n",
              "      <td>0</td>\n",
              "      <td>0</td>\n",
              "      <td>1</td>\n",
              "      <td>0</td>\n",
              "      <td>0</td>\n",
              "      <td>0</td>\n",
              "      <td>0</td>\n",
              "      <td>0</td>\n",
              "      <td>0</td>\n",
              "      <td>MD</td>\n",
              "      <td>02 - Automobile</td>\n",
              "      <td>1998.0</td>\n",
              "      <td>DODG</td>\n",
              "      <td>DAKOTA</td>\n",
              "      <td>WHITE</td>\n",
              "      <td>1</td>\n",
              "      <td>21-402(b)</td>\n",
              "      <td>Transportation Article</td>\n",
              "      <td>0</td>\n",
              "      <td>BLACK</td>\n",
              "      <td>M</td>\n",
              "      <td>FORT WASHINGTON</td>\n",
              "      <td>MD</td>\n",
              "      <td>MD</td>\n",
              "      <td>A - Marked Patrol</td>\n",
              "      <td>(39.056975, -76.9546333333333)</td>\n",
              "    </tr>\n",
              "    <tr>\n",
              "      <th>6</th>\n",
              "      <td>10/08/2013</td>\n",
              "      <td>13:23:00</td>\n",
              "      <td>MCP</td>\n",
              "      <td>4th district, Wheaton</td>\n",
              "      <td>DRIVING VEHICLE ON HIGHWAY WITH SUSPENDED REGI...</td>\n",
              "      <td>GEORGIA AVE / BEL PRE RD</td>\n",
              "      <td>39.093383</td>\n",
              "      <td>-77.079552</td>\n",
              "      <td>No</td>\n",
              "      <td>0</td>\n",
              "      <td>0</td>\n",
              "      <td>0</td>\n",
              "      <td>0</td>\n",
              "      <td>0</td>\n",
              "      <td>0</td>\n",
              "      <td>0</td>\n",
              "      <td>0</td>\n",
              "      <td>0</td>\n",
              "      <td>MD</td>\n",
              "      <td>02 - Automobile</td>\n",
              "      <td>1993.0</td>\n",
              "      <td>FORD</td>\n",
              "      <td>PICKUP</td>\n",
              "      <td>BLACK</td>\n",
              "      <td>1</td>\n",
              "      <td>13-401(h)</td>\n",
              "      <td>Transportation Article</td>\n",
              "      <td>0</td>\n",
              "      <td>HISPANIC</td>\n",
              "      <td>M</td>\n",
              "      <td>BELTSVILLE</td>\n",
              "      <td>MD</td>\n",
              "      <td>MD</td>\n",
              "      <td>A - Marked Patrol</td>\n",
              "      <td>(39.0933833333333, -77.0795516666667)</td>\n",
              "    </tr>\n",
              "    <tr>\n",
              "      <th>10</th>\n",
              "      <td>02/14/2014</td>\n",
              "      <td>20:10:00</td>\n",
              "      <td>MCP</td>\n",
              "      <td>1st district, Rockville</td>\n",
              "      <td>FAILURE TO DRIVE ON RIGHT HAND ROADWAY OF DIVI...</td>\n",
              "      <td>GATEWAY CENTER DR @ CLARKSBURG RD</td>\n",
              "      <td>39.234843</td>\n",
              "      <td>-77.281540</td>\n",
              "      <td>No</td>\n",
              "      <td>0</td>\n",
              "      <td>0</td>\n",
              "      <td>0</td>\n",
              "      <td>0</td>\n",
              "      <td>0</td>\n",
              "      <td>0</td>\n",
              "      <td>0</td>\n",
              "      <td>0</td>\n",
              "      <td>0</td>\n",
              "      <td>MD</td>\n",
              "      <td>02 - Automobile</td>\n",
              "      <td>2005.0</td>\n",
              "      <td>CADI</td>\n",
              "      <td>STS</td>\n",
              "      <td>BLACK</td>\n",
              "      <td>1</td>\n",
              "      <td>21-311(1)</td>\n",
              "      <td>Transportation Article</td>\n",
              "      <td>0</td>\n",
              "      <td>WHITE</td>\n",
              "      <td>M</td>\n",
              "      <td>POINT OF ROCK</td>\n",
              "      <td>MD</td>\n",
              "      <td>WV</td>\n",
              "      <td>A - Marked Patrol</td>\n",
              "      <td>(39.2348434333333, -77.28153995)</td>\n",
              "    </tr>\n",
              "  </tbody>\n",
              "</table>\n",
              "</div>"
            ],
            "text/plain": [
              "   Date Of Stop  ...                            Geolocation\n",
              "1    08/29/2017  ...         (38.981725, -77.0927566666667)\n",
              "2    12/01/2014  ...  (39.1628883333333, -77.2290883333333)\n",
              "3    08/29/2017  ...         (39.056975, -76.9546333333333)\n",
              "6    10/08/2013  ...  (39.0933833333333, -77.0795516666667)\n",
              "10   02/14/2014  ...       (39.2348434333333, -77.28153995)\n",
              "\n",
              "[5 rows x 35 columns]"
            ]
          },
          "metadata": {},
          "execution_count": 17
        }
      ]
    },
    {
      "cell_type": "code",
      "metadata": {
        "id": "eBLAhzJIL3AB"
      },
      "source": [
        "Traffic_Violations_2['Violation Type'] = Traffic_Violations_2['Violation Type'].astype(int)"
      ],
      "execution_count": null,
      "outputs": []
    },
    {
      "cell_type": "markdown",
      "metadata": {
        "id": "E7fd1QYjriC1"
      },
      "source": [
        "New changed values shown in the data"
      ]
    },
    {
      "cell_type": "code",
      "metadata": {
        "id": "nh5EXUkOMCBw"
      },
      "source": [
        "Traffic_Violations_3 = Traffic_Violations_2.drop(columns= [ 'Date Of Stop', 'Time Of Stop', 'Charge','Article',\n",
        "                                        'Accident', 'Agency', 'Latitude', 'Make', 'Model', 'Color', 'Race', 'Year',\n",
        "                                        'Longitude', 'SubAgency', 'Description', 'Location', 'State', 'VehicleType',\n",
        "                                        'Gender', 'Driver City', 'Driver State', 'DL State','Arrest Type','Geolocation'])"
      ],
      "execution_count": 19,
      "outputs": []
    },
    {
      "cell_type": "markdown",
      "metadata": {
        "id": "WD-daahnMIz9"
      },
      "source": [
        "Removed the columns we are no longer interested in."
      ]
    },
    {
      "cell_type": "code",
      "metadata": {
        "colab": {
          "base_uri": "https://localhost:8080/"
        },
        "id": "u3c3ogZgMOPI",
        "outputId": "04397481-edf4-4c2b-9cda-78cb4e50ac5a"
      },
      "source": [
        "Traffic_Violations_3.info()"
      ],
      "execution_count": 21,
      "outputs": [
        {
          "output_type": "stream",
          "name": "stdout",
          "text": [
            "<class 'pandas.core.frame.DataFrame'>\n",
            "Int64Index: 1120327 entries, 1 to 1291740\n",
            "Data columns (total 11 columns):\n",
            " #   Column                   Non-Null Count    Dtype\n",
            "---  ------                   --------------    -----\n",
            " 0   Belts                    1120327 non-null  int64\n",
            " 1   Personal Injury          1120327 non-null  int64\n",
            " 2   Property Damage          1120327 non-null  int64\n",
            " 3   Fatal                    1120327 non-null  int64\n",
            " 4   Commercial License       1120327 non-null  int64\n",
            " 5   HAZMAT                   1120327 non-null  int64\n",
            " 6   Commercial Vehicle       1120327 non-null  int64\n",
            " 7   Alcohol                  1120327 non-null  int64\n",
            " 8   Work Zone                1120327 non-null  int64\n",
            " 9   Violation Type           1120327 non-null  int64\n",
            " 10  Contributed To Accident  1120327 non-null  int64\n",
            "dtypes: int64(11)\n",
            "memory usage: 102.6 MB\n"
          ]
        }
      ]
    },
    {
      "cell_type": "markdown",
      "metadata": {
        "id": "MEeQ9O7OMkY-"
      },
      "source": [
        "Begin to create the tree"
      ]
    },
    {
      "cell_type": "code",
      "metadata": {
        "id": "GsTwSnv9Mdur"
      },
      "source": [
        "from sklearn.model_selection import train_test_split"
      ],
      "execution_count": 22,
      "outputs": []
    },
    {
      "cell_type": "code",
      "metadata": {
        "id": "lno1q0UgMoG_"
      },
      "source": [
        "X_1 = Traffic_Violations_3.drop(columns= ['Violation Type'])\n",
        "\n",
        "\n",
        "y_1 = Traffic_Violations_3['Violation Type']\n",
        "\n",
        "X_train_1, X_test_1, y_train_1, y_test_1 = train_test_split(X_1, y_1, test_size=0.2, random_state=1)"
      ],
      "execution_count": 23,
      "outputs": []
    },
    {
      "cell_type": "code",
      "metadata": {
        "colab": {
          "base_uri": "https://localhost:8080/"
        },
        "id": "FZmKutGZMtjK",
        "outputId": "f6daffd5-4a50-4b63-8f95-2c82485e2230"
      },
      "source": [
        "from sklearn.tree import DecisionTreeClassifier\n",
        "from sklearn import tree\n",
        "\n",
        "clf = tree.DecisionTreeClassifier(max_depth=5)\n",
        "clf.fit(X_train_1,y_train_1)"
      ],
      "execution_count": 24,
      "outputs": [
        {
          "output_type": "execute_result",
          "data": {
            "text/plain": [
              "DecisionTreeClassifier(ccp_alpha=0.0, class_weight=None, criterion='gini',\n",
              "                       max_depth=5, max_features=None, max_leaf_nodes=None,\n",
              "                       min_impurity_decrease=0.0, min_impurity_split=None,\n",
              "                       min_samples_leaf=1, min_samples_split=2,\n",
              "                       min_weight_fraction_leaf=0.0, presort='deprecated',\n",
              "                       random_state=None, splitter='best')"
            ]
          },
          "metadata": {},
          "execution_count": 24
        }
      ]
    },
    {
      "cell_type": "code",
      "metadata": {
        "colab": {
          "base_uri": "https://localhost:8080/"
        },
        "id": "RlsqA1ZOMxwI",
        "outputId": "b956b1a1-f03d-4aff-b325-e3a99e91c4bb"
      },
      "source": [
        "clf.score(X_test_1,y_test_1)"
      ],
      "execution_count": 25,
      "outputs": [
        {
          "output_type": "execute_result",
          "data": {
            "text/plain": [
              "0.554912391884534"
            ]
          },
          "metadata": {},
          "execution_count": 25
        }
      ]
    },
    {
      "cell_type": "markdown",
      "metadata": {
        "id": "JdecPmPFM3Q2"
      },
      "source": [
        "I was struggling to get what I was doing with the tree to work, so I am using Ibrahim's syntax so I can at least produce a working product."
      ]
    },
    {
      "cell_type": "code",
      "metadata": {
        "colab": {
          "base_uri": "https://localhost:8080/",
          "height": 935
        },
        "id": "7pkwHGD_NBX1",
        "outputId": "8a6b83c8-7bbc-4003-ee77-bb34325577c8"
      },
      "source": [
        "import graphviz \n",
        "tree_data = tree.export_graphviz(clf, out_file=None,\n",
        "                               feature_names=['Belts','Personal Injury','Property Damage','Fatal',\n",
        "                                              'Commercial License','HAZMAT','Commercial Vehicle',\n",
        "                                              'Work Zone','Contributed To Accident','Alcohol'],\n",
        "                               class_names=['Yes','No'],filled=True,\n",
        "                                rounded=True,  \n",
        "                              special_characters=True) \n",
        "graph = graphviz.Source(tree_data)\n",
        "graph.render(\"Gini\")\n",
        "graph"
      ],
      "execution_count": 26,
      "outputs": [
        {
          "output_type": "execute_result",
          "data": {
            "text/plain": [
              "<graphviz.files.Source at 0x7fc473ef5710>"
            ],
            "image/svg+xml": "<?xml version=\"1.0\" encoding=\"UTF-8\" standalone=\"no\"?>\n<!DOCTYPE svg PUBLIC \"-//W3C//DTD SVG 1.1//EN\"\n \"http://www.w3.org/Graphics/SVG/1.1/DTD/svg11.dtd\">\n<!-- Generated by graphviz version 2.40.1 (20161225.0304)\n -->\n<!-- Title: Tree Pages: 1 -->\n<svg width=\"4639pt\" height=\"671pt\"\n viewBox=\"0.00 0.00 4638.50 671.00\" xmlns=\"http://www.w3.org/2000/svg\" xmlns:xlink=\"http://www.w3.org/1999/xlink\">\n<g id=\"graph0\" class=\"graph\" transform=\"scale(1 1) rotate(0) translate(4 667)\">\n<title>Tree</title>\n<polygon fill=\"#ffffff\" stroke=\"transparent\" points=\"-4,4 -4,-667 4634.5,-667 4634.5,4 -4,4\"/>\n<!-- 0 -->\n<g id=\"node1\" class=\"node\">\n<title>0</title>\n<path fill=\"#fdf7f3\" stroke=\"#000000\" d=\"M2844,-663C2844,-663 2662,-663 2662,-663 2656,-663 2650,-657 2650,-651 2650,-651 2650,-592 2650,-592 2650,-586 2656,-580 2662,-580 2662,-580 2844,-580 2844,-580 2850,-580 2856,-586 2856,-592 2856,-592 2856,-651 2856,-651 2856,-657 2850,-663 2844,-663\"/>\n<text text-anchor=\"start\" x=\"2711\" y=\"-647.8\" font-family=\"Helvetica,sans-Serif\" font-size=\"14.00\" fill=\"#000000\">Alcohol ≤ 0.5</text>\n<text text-anchor=\"start\" x=\"2723.5\" y=\"-632.8\" font-family=\"Helvetica,sans-Serif\" font-size=\"14.00\" fill=\"#000000\">gini = 0.5</text>\n<text text-anchor=\"start\" x=\"2692.5\" y=\"-617.8\" font-family=\"Helvetica,sans-Serif\" font-size=\"14.00\" fill=\"#000000\">samples = 896261</text>\n<text text-anchor=\"start\" x=\"2658\" y=\"-602.8\" font-family=\"Helvetica,sans-Serif\" font-size=\"14.00\" fill=\"#000000\">value = [462198, 434044, 19]</text>\n<text text-anchor=\"start\" x=\"2716\" y=\"-587.8\" font-family=\"Helvetica,sans-Serif\" font-size=\"14.00\" fill=\"#000000\">class = Yes</text>\n</g>\n<!-- 1 -->\n<g id=\"node2\" class=\"node\">\n<title>1</title>\n<path fill=\"#fcf2eb\" stroke=\"#000000\" d=\"M2065,-544C2065,-544 1883,-544 1883,-544 1877,-544 1871,-538 1871,-532 1871,-532 1871,-473 1871,-473 1871,-467 1877,-461 1883,-461 1883,-461 2065,-461 2065,-461 2071,-461 2077,-467 2077,-473 2077,-473 2077,-532 2077,-532 2077,-538 2071,-544 2065,-544\"/>\n<text text-anchor=\"start\" x=\"1899\" y=\"-528.8\" font-family=\"Helvetica,sans-Serif\" font-size=\"14.00\" fill=\"#000000\">Property Damage ≤ 0.5</text>\n<text text-anchor=\"start\" x=\"1936\" y=\"-513.8\" font-family=\"Helvetica,sans-Serif\" font-size=\"14.00\" fill=\"#000000\">gini = 0.499</text>\n<text text-anchor=\"start\" x=\"1913.5\" y=\"-498.8\" font-family=\"Helvetica,sans-Serif\" font-size=\"14.00\" fill=\"#000000\">samples = 874980</text>\n<text text-anchor=\"start\" x=\"1879\" y=\"-483.8\" font-family=\"Helvetica,sans-Serif\" font-size=\"14.00\" fill=\"#000000\">value = [460566, 414395, 19]</text>\n<text text-anchor=\"start\" x=\"1937\" y=\"-468.8\" font-family=\"Helvetica,sans-Serif\" font-size=\"14.00\" fill=\"#000000\">class = Yes</text>\n</g>\n<!-- 0&#45;&gt;1 -->\n<g id=\"edge1\" class=\"edge\">\n<title>0&#45;&gt;1</title>\n<path fill=\"none\" stroke=\"#000000\" d=\"M2649.9569,-605.7591C2504.133,-583.4831 2238.5144,-542.9072 2087.2999,-519.8077\"/>\n<polygon fill=\"#000000\" stroke=\"#000000\" points=\"2087.4745,-516.2938 2077.0606,-518.2435 2086.4174,-523.2136 2087.4745,-516.2938\"/>\n<text text-anchor=\"middle\" x=\"2091.8661\" y=\"-534.688\" font-family=\"Helvetica,sans-Serif\" font-size=\"14.00\" fill=\"#000000\">True</text>\n</g>\n<!-- 32 -->\n<g id=\"node33\" class=\"node\">\n<title>32</title>\n<path fill=\"#49e78b\" stroke=\"#000000\" d=\"M3187.5,-544C3187.5,-544 3038.5,-544 3038.5,-544 3032.5,-544 3026.5,-538 3026.5,-532 3026.5,-532 3026.5,-473 3026.5,-473 3026.5,-467 3032.5,-461 3038.5,-461 3038.5,-461 3187.5,-461 3187.5,-461 3193.5,-461 3199.5,-467 3199.5,-473 3199.5,-473 3199.5,-532 3199.5,-532 3199.5,-538 3193.5,-544 3187.5,-544\"/>\n<text text-anchor=\"start\" x=\"3046.5\" y=\"-528.8\" font-family=\"Helvetica,sans-Serif\" font-size=\"14.00\" fill=\"#000000\">Personal Injury ≤ 0.5</text>\n<text text-anchor=\"start\" x=\"3075\" y=\"-513.8\" font-family=\"Helvetica,sans-Serif\" font-size=\"14.00\" fill=\"#000000\">gini = 0.142</text>\n<text text-anchor=\"start\" x=\"3057\" y=\"-498.8\" font-family=\"Helvetica,sans-Serif\" font-size=\"14.00\" fill=\"#000000\">samples = 21281</text>\n<text text-anchor=\"start\" x=\"3034.5\" y=\"-483.8\" font-family=\"Helvetica,sans-Serif\" font-size=\"14.00\" fill=\"#000000\">value = [1632, 19649, 0]</text>\n<text text-anchor=\"start\" x=\"3078.5\" y=\"-468.8\" font-family=\"Helvetica,sans-Serif\" font-size=\"14.00\" fill=\"#000000\">class = No</text>\n</g>\n<!-- 0&#45;&gt;32 -->\n<g id=\"edge32\" class=\"edge\">\n<title>0&#45;&gt;32</title>\n<path fill=\"none\" stroke=\"#000000\" d=\"M2856.1616,-587.3994C2906.6112,-570.723 2966.9747,-550.7695 3016.5025,-534.3978\"/>\n<polygon fill=\"#000000\" stroke=\"#000000\" points=\"3017.8612,-537.635 3026.2574,-531.1733 3015.6642,-530.9887 3017.8612,-537.635\"/>\n<text text-anchor=\"middle\" x=\"3015.0211\" y=\"-549.8059\" font-family=\"Helvetica,sans-Serif\" font-size=\"14.00\" fill=\"#000000\">False</text>\n</g>\n<!-- 2 -->\n<g id=\"node3\" class=\"node\">\n<title>2</title>\n<path fill=\"#fcf0e8\" stroke=\"#000000\" d=\"M1138,-425C1138,-425 956,-425 956,-425 950,-425 944,-419 944,-413 944,-413 944,-354 944,-354 944,-348 950,-342 956,-342 956,-342 1138,-342 1138,-342 1144,-342 1150,-348 1150,-354 1150,-354 1150,-413 1150,-413 1150,-419 1144,-425 1138,-425\"/>\n<text text-anchor=\"start\" x=\"980.5\" y=\"-409.8\" font-family=\"Helvetica,sans-Serif\" font-size=\"14.00\" fill=\"#000000\">Personal Injury ≤ 0.5</text>\n<text text-anchor=\"start\" x=\"1009\" y=\"-394.8\" font-family=\"Helvetica,sans-Serif\" font-size=\"14.00\" fill=\"#000000\">gini = 0.498</text>\n<text text-anchor=\"start\" x=\"986.5\" y=\"-379.8\" font-family=\"Helvetica,sans-Serif\" font-size=\"14.00\" fill=\"#000000\">samples = 865344</text>\n<text text-anchor=\"start\" x=\"952\" y=\"-364.8\" font-family=\"Helvetica,sans-Serif\" font-size=\"14.00\" fill=\"#000000\">value = [459603, 405724, 17]</text>\n<text text-anchor=\"start\" x=\"1010\" y=\"-349.8\" font-family=\"Helvetica,sans-Serif\" font-size=\"14.00\" fill=\"#000000\">class = Yes</text>\n</g>\n<!-- 1&#45;&gt;2 -->\n<g id=\"edge2\" class=\"edge\">\n<title>1&#45;&gt;2</title>\n<path fill=\"none\" stroke=\"#000000\" d=\"M1870.8067,-489.253C1695.7278,-466.7779 1341.8521,-421.3505 1160.2057,-398.0323\"/>\n<polygon fill=\"#000000\" stroke=\"#000000\" points=\"1160.4547,-394.5357 1150.0904,-396.7338 1159.5634,-401.4787 1160.4547,-394.5357\"/>\n</g>\n<!-- 17 -->\n<g id=\"node18\" class=\"node\">\n<title>17</title>\n<path fill=\"#4fe88f\" stroke=\"#000000\" d=\"M2040,-425C2040,-425 1908,-425 1908,-425 1902,-425 1896,-419 1896,-413 1896,-413 1896,-354 1896,-354 1896,-348 1902,-342 1908,-342 1908,-342 2040,-342 2040,-342 2046,-342 2052,-348 2052,-354 2052,-354 2052,-413 2052,-413 2052,-419 2046,-425 2040,-425\"/>\n<text text-anchor=\"start\" x=\"1940\" y=\"-409.8\" font-family=\"Helvetica,sans-Serif\" font-size=\"14.00\" fill=\"#000000\">Belts ≤ 0.5</text>\n<text text-anchor=\"start\" x=\"1940.5\" y=\"-394.8\" font-family=\"Helvetica,sans-Serif\" font-size=\"14.00\" fill=\"#000000\">gini = 0.18</text>\n<text text-anchor=\"start\" x=\"1922\" y=\"-379.8\" font-family=\"Helvetica,sans-Serif\" font-size=\"14.00\" fill=\"#000000\">samples = 9636</text>\n<text text-anchor=\"start\" x=\"1904\" y=\"-364.8\" font-family=\"Helvetica,sans-Serif\" font-size=\"14.00\" fill=\"#000000\">value = [963, 8671, 2]</text>\n<text text-anchor=\"start\" x=\"1939.5\" y=\"-349.8\" font-family=\"Helvetica,sans-Serif\" font-size=\"14.00\" fill=\"#000000\">class = No</text>\n</g>\n<!-- 1&#45;&gt;17 -->\n<g id=\"edge17\" class=\"edge\">\n<title>1&#45;&gt;17</title>\n<path fill=\"none\" stroke=\"#000000\" d=\"M1974,-460.8796C1974,-452.6838 1974,-443.9891 1974,-435.5013\"/>\n<polygon fill=\"#000000\" stroke=\"#000000\" points=\"1977.5001,-435.298 1974,-425.2981 1970.5001,-435.2981 1977.5001,-435.298\"/>\n</g>\n<!-- 3 -->\n<g id=\"node4\" class=\"node\">\n<title>3</title>\n<path fill=\"#fcefe6\" stroke=\"#000000\" d=\"M684,-306C684,-306 502,-306 502,-306 496,-306 490,-300 490,-294 490,-294 490,-235 490,-235 490,-229 496,-223 502,-223 502,-223 684,-223 684,-223 690,-223 696,-229 696,-235 696,-235 696,-294 696,-294 696,-300 690,-306 684,-306\"/>\n<text text-anchor=\"start\" x=\"539.5\" y=\"-290.8\" font-family=\"Helvetica,sans-Serif\" font-size=\"14.00\" fill=\"#000000\">Work Zone ≤ 0.5</text>\n<text text-anchor=\"start\" x=\"555\" y=\"-275.8\" font-family=\"Helvetica,sans-Serif\" font-size=\"14.00\" fill=\"#000000\">gini = 0.498</text>\n<text text-anchor=\"start\" x=\"532.5\" y=\"-260.8\" font-family=\"Helvetica,sans-Serif\" font-size=\"14.00\" fill=\"#000000\">samples = 860185</text>\n<text text-anchor=\"start\" x=\"498\" y=\"-245.8\" font-family=\"Helvetica,sans-Serif\" font-size=\"14.00\" fill=\"#000000\">value = [459133, 401035, 17]</text>\n<text text-anchor=\"start\" x=\"556\" y=\"-230.8\" font-family=\"Helvetica,sans-Serif\" font-size=\"14.00\" fill=\"#000000\">class = Yes</text>\n</g>\n<!-- 2&#45;&gt;3 -->\n<g id=\"edge3\" class=\"edge\">\n<title>2&#45;&gt;3</title>\n<path fill=\"none\" stroke=\"#000000\" d=\"M943.9804,-356.4971C872.9983,-337.8916 778.6855,-313.1709 705.7016,-294.0407\"/>\n<polygon fill=\"#000000\" stroke=\"#000000\" points=\"706.5648,-290.6488 696.0041,-291.4989 704.7899,-297.4201 706.5648,-290.6488\"/>\n</g>\n<!-- 10 -->\n<g id=\"node11\" class=\"node\">\n<title>10</title>\n<path fill=\"#4de88e\" stroke=\"#000000\" d=\"M1125,-306C1125,-306 969,-306 969,-306 963,-306 957,-300 957,-294 957,-294 957,-235 957,-235 957,-229 963,-223 969,-223 969,-223 1125,-223 1125,-223 1131,-223 1137,-229 1137,-235 1137,-235 1137,-294 1137,-294 1137,-300 1131,-306 1125,-306\"/>\n<text text-anchor=\"start\" x=\"965\" y=\"-290.8\" font-family=\"Helvetica,sans-Serif\" font-size=\"14.00\" fill=\"#000000\">Commercial Vehicle ≤ 0.5</text>\n<text text-anchor=\"start\" x=\"1009\" y=\"-275.8\" font-family=\"Helvetica,sans-Serif\" font-size=\"14.00\" fill=\"#000000\">gini = 0.166</text>\n<text text-anchor=\"start\" x=\"995\" y=\"-260.8\" font-family=\"Helvetica,sans-Serif\" font-size=\"14.00\" fill=\"#000000\">samples = 5159</text>\n<text text-anchor=\"start\" x=\"977\" y=\"-245.8\" font-family=\"Helvetica,sans-Serif\" font-size=\"14.00\" fill=\"#000000\">value = [470, 4689, 0]</text>\n<text text-anchor=\"start\" x=\"1012.5\" y=\"-230.8\" font-family=\"Helvetica,sans-Serif\" font-size=\"14.00\" fill=\"#000000\">class = No</text>\n</g>\n<!-- 2&#45;&gt;10 -->\n<g id=\"edge10\" class=\"edge\">\n<title>2&#45;&gt;10</title>\n<path fill=\"none\" stroke=\"#000000\" d=\"M1047,-341.8796C1047,-333.6838 1047,-324.9891 1047,-316.5013\"/>\n<polygon fill=\"#000000\" stroke=\"#000000\" points=\"1050.5001,-316.298 1047,-306.2981 1043.5001,-316.2981 1050.5001,-316.298\"/>\n</g>\n<!-- 4 -->\n<g id=\"node5\" class=\"node\">\n<title>4</title>\n<path fill=\"#fcefe5\" stroke=\"#000000\" d=\"M406,-187C406,-187 224,-187 224,-187 218,-187 212,-181 212,-175 212,-175 212,-116 212,-116 212,-110 218,-104 224,-104 224,-104 406,-104 406,-104 412,-104 418,-110 418,-116 418,-116 418,-175 418,-175 418,-181 412,-187 406,-187\"/>\n<text text-anchor=\"start\" x=\"281\" y=\"-171.8\" font-family=\"Helvetica,sans-Serif\" font-size=\"14.00\" fill=\"#000000\">Belts ≤ 0.5</text>\n<text text-anchor=\"start\" x=\"277\" y=\"-156.8\" font-family=\"Helvetica,sans-Serif\" font-size=\"14.00\" fill=\"#000000\">gini = 0.498</text>\n<text text-anchor=\"start\" x=\"254.5\" y=\"-141.8\" font-family=\"Helvetica,sans-Serif\" font-size=\"14.00\" fill=\"#000000\">samples = 858898</text>\n<text text-anchor=\"start\" x=\"220\" y=\"-126.8\" font-family=\"Helvetica,sans-Serif\" font-size=\"14.00\" fill=\"#000000\">value = [459052, 399829, 17]</text>\n<text text-anchor=\"start\" x=\"278\" y=\"-111.8\" font-family=\"Helvetica,sans-Serif\" font-size=\"14.00\" fill=\"#000000\">class = Yes</text>\n</g>\n<!-- 3&#45;&gt;4 -->\n<g id=\"edge4\" class=\"edge\">\n<title>3&#45;&gt;4</title>\n<path fill=\"none\" stroke=\"#000000\" d=\"M495.7691,-222.8796C471.7499,-212.598 445.8963,-201.5311 421.4637,-191.0726\"/>\n<polygon fill=\"#000000\" stroke=\"#000000\" points=\"422.7465,-187.8146 412.176,-187.0969 419.9918,-194.2498 422.7465,-187.8146\"/>\n</g>\n<!-- 7 -->\n<g id=\"node8\" class=\"node\">\n<title>7</title>\n<path fill=\"#46e789\" stroke=\"#000000\" d=\"M684,-187C684,-187 502,-187 502,-187 496,-187 490,-181 490,-175 490,-175 490,-116 490,-116 490,-110 496,-104 502,-104 502,-104 684,-104 684,-104 690,-104 696,-110 696,-116 696,-116 696,-175 696,-175 696,-181 690,-187 684,-187\"/>\n<text text-anchor=\"start\" x=\"498\" y=\"-171.8\" font-family=\"Helvetica,sans-Serif\" font-size=\"14.00\" fill=\"#000000\">Contributed To Accident ≤ 0.5</text>\n<text text-anchor=\"start\" x=\"555\" y=\"-156.8\" font-family=\"Helvetica,sans-Serif\" font-size=\"14.00\" fill=\"#000000\">gini = 0.118</text>\n<text text-anchor=\"start\" x=\"541\" y=\"-141.8\" font-family=\"Helvetica,sans-Serif\" font-size=\"14.00\" fill=\"#000000\">samples = 1287</text>\n<text text-anchor=\"start\" x=\"527\" y=\"-126.8\" font-family=\"Helvetica,sans-Serif\" font-size=\"14.00\" fill=\"#000000\">value = [81, 1206, 0]</text>\n<text text-anchor=\"start\" x=\"558.5\" y=\"-111.8\" font-family=\"Helvetica,sans-Serif\" font-size=\"14.00\" fill=\"#000000\">class = No</text>\n</g>\n<!-- 3&#45;&gt;7 -->\n<g id=\"edge7\" class=\"edge\">\n<title>3&#45;&gt;7</title>\n<path fill=\"none\" stroke=\"#000000\" d=\"M593,-222.8796C593,-214.6838 593,-205.9891 593,-197.5013\"/>\n<polygon fill=\"#000000\" stroke=\"#000000\" points=\"596.5001,-197.298 593,-187.2981 589.5001,-197.2981 596.5001,-197.298\"/>\n</g>\n<!-- 5 -->\n<g id=\"node6\" class=\"node\">\n<title>5</title>\n<path fill=\"#fbede3\" stroke=\"#000000\" d=\"M194,-68C194,-68 12,-68 12,-68 6,-68 0,-62 0,-56 0,-56 0,-12 0,-12 0,-6 6,0 12,0 12,0 194,0 194,0 200,0 206,-6 206,-12 206,-12 206,-56 206,-56 206,-62 200,-68 194,-68\"/>\n<text text-anchor=\"start\" x=\"65\" y=\"-52.8\" font-family=\"Helvetica,sans-Serif\" font-size=\"14.00\" fill=\"#000000\">gini = 0.497</text>\n<text text-anchor=\"start\" x=\"42.5\" y=\"-37.8\" font-family=\"Helvetica,sans-Serif\" font-size=\"14.00\" fill=\"#000000\">samples = 831918</text>\n<text text-anchor=\"start\" x=\"8\" y=\"-22.8\" font-family=\"Helvetica,sans-Serif\" font-size=\"14.00\" fill=\"#000000\">value = [447105, 384796, 17]</text>\n<text text-anchor=\"start\" x=\"66\" y=\"-7.8\" font-family=\"Helvetica,sans-Serif\" font-size=\"14.00\" fill=\"#000000\">class = Yes</text>\n</g>\n<!-- 4&#45;&gt;5 -->\n<g id=\"edge5\" class=\"edge\">\n<title>4&#45;&gt;5</title>\n<path fill=\"none\" stroke=\"#000000\" d=\"M236.059,-103.9815C216.6479,-93.7724 195.9394,-82.8809 176.7823,-72.8053\"/>\n<polygon fill=\"#000000\" stroke=\"#000000\" points=\"178.2883,-69.6429 167.8085,-68.0856 175.0299,-75.8383 178.2883,-69.6429\"/>\n</g>\n<!-- 6 -->\n<g id=\"node7\" class=\"node\">\n<title>6</title>\n<path fill=\"#d6fae5\" stroke=\"#000000\" d=\"M393.5,-68C393.5,-68 236.5,-68 236.5,-68 230.5,-68 224.5,-62 224.5,-56 224.5,-56 224.5,-12 224.5,-12 224.5,-6 230.5,0 236.5,0 236.5,0 393.5,0 393.5,0 399.5,0 405.5,-6 405.5,-12 405.5,-12 405.5,-56 405.5,-56 405.5,-62 399.5,-68 393.5,-68\"/>\n<text text-anchor=\"start\" x=\"277\" y=\"-52.8\" font-family=\"Helvetica,sans-Serif\" font-size=\"14.00\" fill=\"#000000\">gini = 0.493</text>\n<text text-anchor=\"start\" x=\"259\" y=\"-37.8\" font-family=\"Helvetica,sans-Serif\" font-size=\"14.00\" fill=\"#000000\">samples = 26980</text>\n<text text-anchor=\"start\" x=\"232.5\" y=\"-22.8\" font-family=\"Helvetica,sans-Serif\" font-size=\"14.00\" fill=\"#000000\">value = [11947, 15033, 0]</text>\n<text text-anchor=\"start\" x=\"280.5\" y=\"-7.8\" font-family=\"Helvetica,sans-Serif\" font-size=\"14.00\" fill=\"#000000\">class = No</text>\n</g>\n<!-- 4&#45;&gt;6 -->\n<g id=\"edge6\" class=\"edge\">\n<title>4&#45;&gt;6</title>\n<path fill=\"none\" stroke=\"#000000\" d=\"M315,-103.9815C315,-95.618 315,-86.7965 315,-78.3409\"/>\n<polygon fill=\"#000000\" stroke=\"#000000\" points=\"318.5001,-78.2636 315,-68.2637 311.5001,-78.2637 318.5001,-78.2636\"/>\n</g>\n<!-- 8 -->\n<g id=\"node9\" class=\"node\">\n<title>8</title>\n<path fill=\"#46e789\" stroke=\"#000000\" d=\"M560,-68C560,-68 436,-68 436,-68 430,-68 424,-62 424,-56 424,-56 424,-12 424,-12 424,-6 430,0 436,0 436,0 560,0 560,0 566,0 572,-6 572,-12 572,-12 572,-56 572,-56 572,-62 566,-68 560,-68\"/>\n<text text-anchor=\"start\" x=\"460\" y=\"-52.8\" font-family=\"Helvetica,sans-Serif\" font-size=\"14.00\" fill=\"#000000\">gini = 0.117</text>\n<text text-anchor=\"start\" x=\"446\" y=\"-37.8\" font-family=\"Helvetica,sans-Serif\" font-size=\"14.00\" fill=\"#000000\">samples = 1286</text>\n<text text-anchor=\"start\" x=\"432\" y=\"-22.8\" font-family=\"Helvetica,sans-Serif\" font-size=\"14.00\" fill=\"#000000\">value = [80, 1206, 0]</text>\n<text text-anchor=\"start\" x=\"463.5\" y=\"-7.8\" font-family=\"Helvetica,sans-Serif\" font-size=\"14.00\" fill=\"#000000\">class = No</text>\n</g>\n<!-- 7&#45;&gt;8 -->\n<g id=\"edge8\" class=\"edge\">\n<title>7&#45;&gt;8</title>\n<path fill=\"none\" stroke=\"#000000\" d=\"M557.6255,-103.9815C549.8732,-94.8828 541.6591,-85.242 533.8869,-76.1199\"/>\n<polygon fill=\"#000000\" stroke=\"#000000\" points=\"536.3428,-73.6056 527.1933,-68.2637 531.0146,-78.1454 536.3428,-73.6056\"/>\n</g>\n<!-- 9 -->\n<g id=\"node10\" class=\"node\">\n<title>9</title>\n<path fill=\"#e58139\" stroke=\"#000000\" d=\"M693.5,-68C693.5,-68 602.5,-68 602.5,-68 596.5,-68 590.5,-62 590.5,-56 590.5,-56 590.5,-12 590.5,-12 590.5,-6 596.5,0 602.5,0 602.5,0 693.5,0 693.5,0 699.5,0 705.5,-6 705.5,-12 705.5,-12 705.5,-56 705.5,-56 705.5,-62 699.5,-68 693.5,-68\"/>\n<text text-anchor=\"start\" x=\"618.5\" y=\"-52.8\" font-family=\"Helvetica,sans-Serif\" font-size=\"14.00\" fill=\"#000000\">gini = 0.0</text>\n<text text-anchor=\"start\" x=\"608.5\" y=\"-37.8\" font-family=\"Helvetica,sans-Serif\" font-size=\"14.00\" fill=\"#000000\">samples = 1</text>\n<text text-anchor=\"start\" x=\"598.5\" y=\"-22.8\" font-family=\"Helvetica,sans-Serif\" font-size=\"14.00\" fill=\"#000000\">value = [1, 0, 0]</text>\n<text text-anchor=\"start\" x=\"611\" y=\"-7.8\" font-family=\"Helvetica,sans-Serif\" font-size=\"14.00\" fill=\"#000000\">class = Yes</text>\n</g>\n<!-- 7&#45;&gt;9 -->\n<g id=\"edge9\" class=\"edge\">\n<title>7&#45;&gt;9</title>\n<path fill=\"none\" stroke=\"#000000\" d=\"M613.48,-103.9815C617.7415,-95.3423 622.244,-86.2144 626.5397,-77.5059\"/>\n<polygon fill=\"#000000\" stroke=\"#000000\" points=\"629.8137,-78.7803 631.0986,-68.2637 623.5359,-75.6836 629.8137,-78.7803\"/>\n</g>\n<!-- 11 -->\n<g id=\"node12\" class=\"node\">\n<title>11</title>\n<path fill=\"#4ce88d\" stroke=\"#000000\" d=\"M1019,-187C1019,-187 887,-187 887,-187 881,-187 875,-181 875,-175 875,-175 875,-116 875,-116 875,-110 881,-104 887,-104 887,-104 1019,-104 1019,-104 1025,-104 1031,-110 1031,-116 1031,-116 1031,-175 1031,-175 1031,-181 1025,-187 1019,-187\"/>\n<text text-anchor=\"start\" x=\"919\" y=\"-171.8\" font-family=\"Helvetica,sans-Serif\" font-size=\"14.00\" fill=\"#000000\">Belts ≤ 0.5</text>\n<text text-anchor=\"start\" x=\"915\" y=\"-156.8\" font-family=\"Helvetica,sans-Serif\" font-size=\"14.00\" fill=\"#000000\">gini = 0.162</text>\n<text text-anchor=\"start\" x=\"901\" y=\"-141.8\" font-family=\"Helvetica,sans-Serif\" font-size=\"14.00\" fill=\"#000000\">samples = 5135</text>\n<text text-anchor=\"start\" x=\"883\" y=\"-126.8\" font-family=\"Helvetica,sans-Serif\" font-size=\"14.00\" fill=\"#000000\">value = [458, 4677, 0]</text>\n<text text-anchor=\"start\" x=\"918.5\" y=\"-111.8\" font-family=\"Helvetica,sans-Serif\" font-size=\"14.00\" fill=\"#000000\">class = No</text>\n</g>\n<!-- 10&#45;&gt;11 -->\n<g id=\"edge11\" class=\"edge\">\n<title>10&#45;&gt;11</title>\n<path fill=\"none\" stroke=\"#000000\" d=\"M1014.1234,-222.8796C1007.0803,-213.9633 999.5707,-204.4565 992.3126,-195.268\"/>\n<polygon fill=\"#000000\" stroke=\"#000000\" points=\"994.9621,-192.9757 986.017,-187.2981 989.4691,-197.3147 994.9621,-192.9757\"/>\n</g>\n<!-- 14 -->\n<g id=\"node15\" class=\"node\">\n<title>14</title>\n<path fill=\"#ffffff\" stroke=\"#000000\" d=\"M1221,-187C1221,-187 1061,-187 1061,-187 1055,-187 1049,-181 1049,-175 1049,-175 1049,-116 1049,-116 1049,-110 1055,-104 1061,-104 1061,-104 1221,-104 1221,-104 1227,-104 1233,-110 1233,-116 1233,-116 1233,-175 1233,-175 1233,-181 1227,-187 1221,-187\"/>\n<text text-anchor=\"start\" x=\"1057\" y=\"-171.8\" font-family=\"Helvetica,sans-Serif\" font-size=\"14.00\" fill=\"#000000\">Commercial License ≤ 0.5</text>\n<text text-anchor=\"start\" x=\"1111.5\" y=\"-156.8\" font-family=\"Helvetica,sans-Serif\" font-size=\"14.00\" fill=\"#000000\">gini = 0.5</text>\n<text text-anchor=\"start\" x=\"1097\" y=\"-141.8\" font-family=\"Helvetica,sans-Serif\" font-size=\"14.00\" fill=\"#000000\">samples = 24</text>\n<text text-anchor=\"start\" x=\"1083.5\" y=\"-126.8\" font-family=\"Helvetica,sans-Serif\" font-size=\"14.00\" fill=\"#000000\">value = [12, 12, 0]</text>\n<text text-anchor=\"start\" x=\"1104\" y=\"-111.8\" font-family=\"Helvetica,sans-Serif\" font-size=\"14.00\" fill=\"#000000\">class = Yes</text>\n</g>\n<!-- 10&#45;&gt;14 -->\n<g id=\"edge14\" class=\"edge\">\n<title>10&#45;&gt;14</title>\n<path fill=\"none\" stroke=\"#000000\" d=\"M1079.8766,-222.8796C1086.9197,-213.9633 1094.4293,-204.4565 1101.6874,-195.268\"/>\n<polygon fill=\"#000000\" stroke=\"#000000\" points=\"1104.5309,-197.3147 1107.983,-187.2981 1099.0379,-192.9757 1104.5309,-197.3147\"/>\n</g>\n<!-- 12 -->\n<g id=\"node13\" class=\"node\">\n<title>12</title>\n<path fill=\"#4ae78c\" stroke=\"#000000\" d=\"M868,-68C868,-68 736,-68 736,-68 730,-68 724,-62 724,-56 724,-56 724,-12 724,-12 724,-6 730,0 736,0 736,0 868,0 868,0 874,0 880,-6 880,-12 880,-12 880,-56 880,-56 880,-62 874,-68 868,-68\"/>\n<text text-anchor=\"start\" x=\"764\" y=\"-52.8\" font-family=\"Helvetica,sans-Serif\" font-size=\"14.00\" fill=\"#000000\">gini = 0.147</text>\n<text text-anchor=\"start\" x=\"750\" y=\"-37.8\" font-family=\"Helvetica,sans-Serif\" font-size=\"14.00\" fill=\"#000000\">samples = 4092</text>\n<text text-anchor=\"start\" x=\"732\" y=\"-22.8\" font-family=\"Helvetica,sans-Serif\" font-size=\"14.00\" fill=\"#000000\">value = [326, 3766, 0]</text>\n<text text-anchor=\"start\" x=\"767.5\" y=\"-7.8\" font-family=\"Helvetica,sans-Serif\" font-size=\"14.00\" fill=\"#000000\">class = No</text>\n</g>\n<!-- 11&#45;&gt;12 -->\n<g id=\"edge12\" class=\"edge\">\n<title>11&#45;&gt;12</title>\n<path fill=\"none\" stroke=\"#000000\" d=\"M896.7732,-103.9815C883.7043,-94.3313 869.8097,-84.0714 856.8032,-74.4673\"/>\n<polygon fill=\"#000000\" stroke=\"#000000\" points=\"858.5255,-71.3883 848.4019,-68.2637 854.3674,-77.0195 858.5255,-71.3883\"/>\n</g>\n<!-- 13 -->\n<g id=\"node14\" class=\"node\">\n<title>13</title>\n<path fill=\"#56e993\" stroke=\"#000000\" d=\"M1034,-68C1034,-68 910,-68 910,-68 904,-68 898,-62 898,-56 898,-56 898,-12 898,-12 898,-6 904,0 910,0 910,0 1034,0 1034,0 1040,0 1046,-6 1046,-12 1046,-12 1046,-56 1046,-56 1046,-62 1040,-68 1034,-68\"/>\n<text text-anchor=\"start\" x=\"934\" y=\"-52.8\" font-family=\"Helvetica,sans-Serif\" font-size=\"14.00\" fill=\"#000000\">gini = 0.221</text>\n<text text-anchor=\"start\" x=\"920\" y=\"-37.8\" font-family=\"Helvetica,sans-Serif\" font-size=\"14.00\" fill=\"#000000\">samples = 1043</text>\n<text text-anchor=\"start\" x=\"906\" y=\"-22.8\" font-family=\"Helvetica,sans-Serif\" font-size=\"14.00\" fill=\"#000000\">value = [132, 911, 0]</text>\n<text text-anchor=\"start\" x=\"937.5\" y=\"-7.8\" font-family=\"Helvetica,sans-Serif\" font-size=\"14.00\" fill=\"#000000\">class = No</text>\n</g>\n<!-- 11&#45;&gt;13 -->\n<g id=\"edge13\" class=\"edge\">\n<title>11&#45;&gt;13</title>\n<path fill=\"none\" stroke=\"#000000\" d=\"M960.0749,-103.9815C961.5001,-95.618 963.0033,-86.7965 964.4442,-78.3409\"/>\n<polygon fill=\"#000000\" stroke=\"#000000\" points=\"967.9317,-78.7095 966.1613,-68.2637 961.0312,-77.5336 967.9317,-78.7095\"/>\n</g>\n<!-- 15 -->\n<g id=\"node16\" class=\"node\">\n<title>15</title>\n<path fill=\"#39e581\" stroke=\"#000000\" d=\"M1167.5,-68C1167.5,-68 1076.5,-68 1076.5,-68 1070.5,-68 1064.5,-62 1064.5,-56 1064.5,-56 1064.5,-12 1064.5,-12 1064.5,-6 1070.5,0 1076.5,0 1076.5,0 1167.5,0 1167.5,0 1173.5,0 1179.5,-6 1179.5,-12 1179.5,-12 1179.5,-56 1179.5,-56 1179.5,-62 1173.5,-68 1167.5,-68\"/>\n<text text-anchor=\"start\" x=\"1092.5\" y=\"-52.8\" font-family=\"Helvetica,sans-Serif\" font-size=\"14.00\" fill=\"#000000\">gini = 0.0</text>\n<text text-anchor=\"start\" x=\"1082.5\" y=\"-37.8\" font-family=\"Helvetica,sans-Serif\" font-size=\"14.00\" fill=\"#000000\">samples = 2</text>\n<text text-anchor=\"start\" x=\"1072.5\" y=\"-22.8\" font-family=\"Helvetica,sans-Serif\" font-size=\"14.00\" fill=\"#000000\">value = [0, 2, 0]</text>\n<text text-anchor=\"start\" x=\"1087.5\" y=\"-7.8\" font-family=\"Helvetica,sans-Serif\" font-size=\"14.00\" fill=\"#000000\">class = No</text>\n</g>\n<!-- 14&#45;&gt;15 -->\n<g id=\"edge15\" class=\"edge\">\n<title>14&#45;&gt;15</title>\n<path fill=\"none\" stroke=\"#000000\" d=\"M1133.9251,-103.9815C1132.4999,-95.618 1130.9967,-86.7965 1129.5558,-78.3409\"/>\n<polygon fill=\"#000000\" stroke=\"#000000\" points=\"1132.9688,-77.5336 1127.8387,-68.2637 1126.0683,-78.7095 1132.9688,-77.5336\"/>\n</g>\n<!-- 16 -->\n<g id=\"node17\" class=\"node\">\n<title>16</title>\n<path fill=\"#fbeade\" stroke=\"#000000\" d=\"M1316.5,-68C1316.5,-68 1209.5,-68 1209.5,-68 1203.5,-68 1197.5,-62 1197.5,-56 1197.5,-56 1197.5,-12 1197.5,-12 1197.5,-6 1203.5,0 1209.5,0 1209.5,0 1316.5,0 1316.5,0 1322.5,0 1328.5,-6 1328.5,-12 1328.5,-12 1328.5,-56 1328.5,-56 1328.5,-62 1322.5,-68 1316.5,-68\"/>\n<text text-anchor=\"start\" x=\"1225\" y=\"-52.8\" font-family=\"Helvetica,sans-Serif\" font-size=\"14.00\" fill=\"#000000\">gini = 0.496</text>\n<text text-anchor=\"start\" x=\"1219\" y=\"-37.8\" font-family=\"Helvetica,sans-Serif\" font-size=\"14.00\" fill=\"#000000\">samples = 22</text>\n<text text-anchor=\"start\" x=\"1205.5\" y=\"-22.8\" font-family=\"Helvetica,sans-Serif\" font-size=\"14.00\" fill=\"#000000\">value = [12, 10, 0]</text>\n<text text-anchor=\"start\" x=\"1226\" y=\"-7.8\" font-family=\"Helvetica,sans-Serif\" font-size=\"14.00\" fill=\"#000000\">class = Yes</text>\n</g>\n<!-- 14&#45;&gt;16 -->\n<g id=\"edge16\" class=\"edge\">\n<title>14&#45;&gt;16</title>\n<path fill=\"none\" stroke=\"#000000\" d=\"M1186.4283,-103.9815C1196.7861,-94.5151 1207.7859,-84.462 1218.1206,-75.0168\"/>\n<polygon fill=\"#000000\" stroke=\"#000000\" points=\"1220.4893,-77.5935 1225.5097,-68.2637 1215.7669,-72.4264 1220.4893,-77.5935\"/>\n</g>\n<!-- 18 -->\n<g id=\"node19\" class=\"node\">\n<title>18</title>\n<path fill=\"#4de88e\" stroke=\"#000000\" d=\"M1900,-306C1900,-306 1744,-306 1744,-306 1738,-306 1732,-300 1732,-294 1732,-294 1732,-235 1732,-235 1732,-229 1738,-223 1744,-223 1744,-223 1900,-223 1900,-223 1906,-223 1912,-229 1912,-235 1912,-235 1912,-294 1912,-294 1912,-300 1906,-306 1900,-306\"/>\n<text text-anchor=\"start\" x=\"1740\" y=\"-290.8\" font-family=\"Helvetica,sans-Serif\" font-size=\"14.00\" fill=\"#000000\">Commercial Vehicle ≤ 0.5</text>\n<text text-anchor=\"start\" x=\"1784\" y=\"-275.8\" font-family=\"Helvetica,sans-Serif\" font-size=\"14.00\" fill=\"#000000\">gini = 0.169</text>\n<text text-anchor=\"start\" x=\"1770\" y=\"-260.8\" font-family=\"Helvetica,sans-Serif\" font-size=\"14.00\" fill=\"#000000\">samples = 8548</text>\n<text text-anchor=\"start\" x=\"1752\" y=\"-245.8\" font-family=\"Helvetica,sans-Serif\" font-size=\"14.00\" fill=\"#000000\">value = [796, 7752, 0]</text>\n<text text-anchor=\"start\" x=\"1787.5\" y=\"-230.8\" font-family=\"Helvetica,sans-Serif\" font-size=\"14.00\" fill=\"#000000\">class = No</text>\n</g>\n<!-- 17&#45;&gt;18 -->\n<g id=\"edge18\" class=\"edge\">\n<title>17&#45;&gt;18</title>\n<path fill=\"none\" stroke=\"#000000\" d=\"M1920.8378,-341.8796C1908.6885,-332.368 1895.6808,-322.1843 1883.224,-312.432\"/>\n<polygon fill=\"#000000\" stroke=\"#000000\" points=\"1885.1638,-309.5055 1875.1322,-306.0969 1880.8486,-315.0173 1885.1638,-309.5055\"/>\n</g>\n<!-- 25 -->\n<g id=\"node26\" class=\"node\">\n<title>25</title>\n<path fill=\"#5dea98\" stroke=\"#000000\" d=\"M2139,-306C2139,-306 1979,-306 1979,-306 1973,-306 1967,-300 1967,-294 1967,-294 1967,-235 1967,-235 1967,-229 1973,-223 1979,-223 1979,-223 2139,-223 2139,-223 2145,-223 2151,-229 2151,-235 2151,-235 2151,-294 2151,-294 2151,-300 2145,-306 2139,-306\"/>\n<text text-anchor=\"start\" x=\"1975\" y=\"-290.8\" font-family=\"Helvetica,sans-Serif\" font-size=\"14.00\" fill=\"#000000\">Commercial License ≤ 0.5</text>\n<text text-anchor=\"start\" x=\"2021\" y=\"-275.8\" font-family=\"Helvetica,sans-Serif\" font-size=\"14.00\" fill=\"#000000\">gini = 0.263</text>\n<text text-anchor=\"start\" x=\"2007\" y=\"-260.8\" font-family=\"Helvetica,sans-Serif\" font-size=\"14.00\" fill=\"#000000\">samples = 1088</text>\n<text text-anchor=\"start\" x=\"1993\" y=\"-245.8\" font-family=\"Helvetica,sans-Serif\" font-size=\"14.00\" fill=\"#000000\">value = [167, 919, 2]</text>\n<text text-anchor=\"start\" x=\"2024.5\" y=\"-230.8\" font-family=\"Helvetica,sans-Serif\" font-size=\"14.00\" fill=\"#000000\">class = No</text>\n</g>\n<!-- 17&#45;&gt;25 -->\n<g id=\"edge25\" class=\"edge\">\n<title>17&#45;&gt;25</title>\n<path fill=\"none\" stroke=\"#000000\" d=\"M2003.7289,-341.8796C2010.0333,-333.0534 2016.751,-323.6485 2023.2524,-314.5466\"/>\n<polygon fill=\"#000000\" stroke=\"#000000\" points=\"2026.1799,-316.4698 2029.1442,-306.2981 2020.4837,-312.4011 2026.1799,-316.4698\"/>\n</g>\n<!-- 19 -->\n<g id=\"node20\" class=\"node\">\n<title>19</title>\n<path fill=\"#4de88e\" stroke=\"#000000\" d=\"M1670,-187C1670,-187 1488,-187 1488,-187 1482,-187 1476,-181 1476,-175 1476,-175 1476,-116 1476,-116 1476,-110 1482,-104 1488,-104 1488,-104 1670,-104 1670,-104 1676,-104 1682,-110 1682,-116 1682,-116 1682,-175 1682,-175 1682,-181 1676,-187 1670,-187\"/>\n<text text-anchor=\"start\" x=\"1484\" y=\"-171.8\" font-family=\"Helvetica,sans-Serif\" font-size=\"14.00\" fill=\"#000000\">Contributed To Accident ≤ 0.5</text>\n<text text-anchor=\"start\" x=\"1541\" y=\"-156.8\" font-family=\"Helvetica,sans-Serif\" font-size=\"14.00\" fill=\"#000000\">gini = 0.168</text>\n<text text-anchor=\"start\" x=\"1527\" y=\"-141.8\" font-family=\"Helvetica,sans-Serif\" font-size=\"14.00\" fill=\"#000000\">samples = 8522</text>\n<text text-anchor=\"start\" x=\"1509\" y=\"-126.8\" font-family=\"Helvetica,sans-Serif\" font-size=\"14.00\" fill=\"#000000\">value = [787, 7735, 0]</text>\n<text text-anchor=\"start\" x=\"1544.5\" y=\"-111.8\" font-family=\"Helvetica,sans-Serif\" font-size=\"14.00\" fill=\"#000000\">class = No</text>\n</g>\n<!-- 18&#45;&gt;19 -->\n<g id=\"edge19\" class=\"edge\">\n<title>18&#45;&gt;19</title>\n<path fill=\"none\" stroke=\"#000000\" d=\"M1737.0104,-222.8796C1716.3852,-212.7791 1694.2125,-201.9209 1673.1901,-191.626\"/>\n<polygon fill=\"#000000\" stroke=\"#000000\" points=\"1674.4619,-188.3517 1663.9416,-187.0969 1671.3832,-194.6384 1674.4619,-188.3517\"/>\n</g>\n<!-- 22 -->\n<g id=\"node23\" class=\"node\">\n<title>22</title>\n<path fill=\"#a2f3c4\" stroke=\"#000000\" d=\"M1902,-187C1902,-187 1742,-187 1742,-187 1736,-187 1730,-181 1730,-175 1730,-175 1730,-116 1730,-116 1730,-110 1736,-104 1742,-104 1742,-104 1902,-104 1902,-104 1908,-104 1914,-110 1914,-116 1914,-116 1914,-175 1914,-175 1914,-181 1908,-187 1902,-187\"/>\n<text text-anchor=\"start\" x=\"1738\" y=\"-171.8\" font-family=\"Helvetica,sans-Serif\" font-size=\"14.00\" fill=\"#000000\">Commercial License ≤ 0.5</text>\n<text text-anchor=\"start\" x=\"1784\" y=\"-156.8\" font-family=\"Helvetica,sans-Serif\" font-size=\"14.00\" fill=\"#000000\">gini = 0.453</text>\n<text text-anchor=\"start\" x=\"1778\" y=\"-141.8\" font-family=\"Helvetica,sans-Serif\" font-size=\"14.00\" fill=\"#000000\">samples = 26</text>\n<text text-anchor=\"start\" x=\"1768.5\" y=\"-126.8\" font-family=\"Helvetica,sans-Serif\" font-size=\"14.00\" fill=\"#000000\">value = [9, 17, 0]</text>\n<text text-anchor=\"start\" x=\"1787.5\" y=\"-111.8\" font-family=\"Helvetica,sans-Serif\" font-size=\"14.00\" fill=\"#000000\">class = No</text>\n</g>\n<!-- 18&#45;&gt;22 -->\n<g id=\"edge22\" class=\"edge\">\n<title>18&#45;&gt;22</title>\n<path fill=\"none\" stroke=\"#000000\" d=\"M1822,-222.8796C1822,-214.6838 1822,-205.9891 1822,-197.5013\"/>\n<polygon fill=\"#000000\" stroke=\"#000000\" points=\"1825.5001,-197.298 1822,-187.2981 1818.5001,-197.2981 1825.5001,-197.298\"/>\n</g>\n<!-- 20 -->\n<g id=\"node21\" class=\"node\">\n<title>20</title>\n<path fill=\"#4de88e\" stroke=\"#000000\" d=\"M1491,-68C1491,-68 1359,-68 1359,-68 1353,-68 1347,-62 1347,-56 1347,-56 1347,-12 1347,-12 1347,-6 1353,0 1359,0 1359,0 1491,0 1491,0 1497,0 1503,-6 1503,-12 1503,-12 1503,-56 1503,-56 1503,-62 1497,-68 1491,-68\"/>\n<text text-anchor=\"start\" x=\"1387\" y=\"-52.8\" font-family=\"Helvetica,sans-Serif\" font-size=\"14.00\" fill=\"#000000\">gini = 0.167</text>\n<text text-anchor=\"start\" x=\"1373\" y=\"-37.8\" font-family=\"Helvetica,sans-Serif\" font-size=\"14.00\" fill=\"#000000\">samples = 8514</text>\n<text text-anchor=\"start\" x=\"1355\" y=\"-22.8\" font-family=\"Helvetica,sans-Serif\" font-size=\"14.00\" fill=\"#000000\">value = [783, 7731, 0]</text>\n<text text-anchor=\"start\" x=\"1390.5\" y=\"-7.8\" font-family=\"Helvetica,sans-Serif\" font-size=\"14.00\" fill=\"#000000\">class = No</text>\n</g>\n<!-- 19&#45;&gt;20 -->\n<g id=\"edge20\" class=\"edge\">\n<title>19&#45;&gt;20</title>\n<path fill=\"none\" stroke=\"#000000\" d=\"M1521.6561,-103.9815C1508.2006,-94.2394 1493.8869,-83.8759 1480.5133,-74.193\"/>\n<polygon fill=\"#000000\" stroke=\"#000000\" points=\"1482.4763,-71.2933 1472.3238,-68.2637 1478.3711,-76.9632 1482.4763,-71.2933\"/>\n</g>\n<!-- 21 -->\n<g id=\"node22\" class=\"node\">\n<title>21</title>\n<path fill=\"#ffffff\" stroke=\"#000000\" d=\"M1624.5,-68C1624.5,-68 1533.5,-68 1533.5,-68 1527.5,-68 1521.5,-62 1521.5,-56 1521.5,-56 1521.5,-12 1521.5,-12 1521.5,-6 1527.5,0 1533.5,0 1533.5,0 1624.5,0 1624.5,0 1630.5,0 1636.5,-6 1636.5,-12 1636.5,-12 1636.5,-56 1636.5,-56 1636.5,-62 1630.5,-68 1624.5,-68\"/>\n<text text-anchor=\"start\" x=\"1549.5\" y=\"-52.8\" font-family=\"Helvetica,sans-Serif\" font-size=\"14.00\" fill=\"#000000\">gini = 0.5</text>\n<text text-anchor=\"start\" x=\"1539.5\" y=\"-37.8\" font-family=\"Helvetica,sans-Serif\" font-size=\"14.00\" fill=\"#000000\">samples = 8</text>\n<text text-anchor=\"start\" x=\"1529.5\" y=\"-22.8\" font-family=\"Helvetica,sans-Serif\" font-size=\"14.00\" fill=\"#000000\">value = [4, 4, 0]</text>\n<text text-anchor=\"start\" x=\"1542\" y=\"-7.8\" font-family=\"Helvetica,sans-Serif\" font-size=\"14.00\" fill=\"#000000\">class = Yes</text>\n</g>\n<!-- 19&#45;&gt;21 -->\n<g id=\"edge21\" class=\"edge\">\n<title>19&#45;&gt;21</title>\n<path fill=\"none\" stroke=\"#000000\" d=\"M1579,-103.9815C1579,-95.618 1579,-86.7965 1579,-78.3409\"/>\n<polygon fill=\"#000000\" stroke=\"#000000\" points=\"1582.5001,-78.2636 1579,-68.2637 1575.5001,-78.2637 1582.5001,-78.2636\"/>\n</g>\n<!-- 23 -->\n<g id=\"node24\" class=\"node\">\n<title>23</title>\n<path fill=\"#9cf2c0\" stroke=\"#000000\" d=\"M1765.5,-68C1765.5,-68 1666.5,-68 1666.5,-68 1660.5,-68 1654.5,-62 1654.5,-56 1654.5,-56 1654.5,-12 1654.5,-12 1654.5,-6 1660.5,0 1666.5,0 1666.5,0 1765.5,0 1765.5,0 1771.5,0 1777.5,-6 1777.5,-12 1777.5,-12 1777.5,-56 1777.5,-56 1777.5,-62 1771.5,-68 1765.5,-68\"/>\n<text text-anchor=\"start\" x=\"1678\" y=\"-52.8\" font-family=\"Helvetica,sans-Serif\" font-size=\"14.00\" fill=\"#000000\">gini = 0.444</text>\n<text text-anchor=\"start\" x=\"1672\" y=\"-37.8\" font-family=\"Helvetica,sans-Serif\" font-size=\"14.00\" fill=\"#000000\">samples = 15</text>\n<text text-anchor=\"start\" x=\"1662.5\" y=\"-22.8\" font-family=\"Helvetica,sans-Serif\" font-size=\"14.00\" fill=\"#000000\">value = [5, 10, 0]</text>\n<text text-anchor=\"start\" x=\"1681.5\" y=\"-7.8\" font-family=\"Helvetica,sans-Serif\" font-size=\"14.00\" fill=\"#000000\">class = No</text>\n</g>\n<!-- 22&#45;&gt;23 -->\n<g id=\"edge23\" class=\"edge\">\n<title>22&#45;&gt;23</title>\n<path fill=\"none\" stroke=\"#000000\" d=\"M1782.5295,-103.9815C1773.7048,-94.6989 1764.3438,-84.8522 1755.5173,-75.5677\"/>\n<polygon fill=\"#000000\" stroke=\"#000000\" points=\"1758.0003,-73.0997 1748.5735,-68.2637 1752.927,-77.9228 1758.0003,-73.0997\"/>\n</g>\n<!-- 24 -->\n<g id=\"node25\" class=\"node\">\n<title>24</title>\n<path fill=\"#aaf4c9\" stroke=\"#000000\" d=\"M1898.5,-68C1898.5,-68 1807.5,-68 1807.5,-68 1801.5,-68 1795.5,-62 1795.5,-56 1795.5,-56 1795.5,-12 1795.5,-12 1795.5,-6 1801.5,0 1807.5,0 1807.5,0 1898.5,0 1898.5,0 1904.5,0 1910.5,-6 1910.5,-12 1910.5,-12 1910.5,-56 1910.5,-56 1910.5,-62 1904.5,-68 1898.5,-68\"/>\n<text text-anchor=\"start\" x=\"1815\" y=\"-52.8\" font-family=\"Helvetica,sans-Serif\" font-size=\"14.00\" fill=\"#000000\">gini = 0.463</text>\n<text text-anchor=\"start\" x=\"1809\" y=\"-37.8\" font-family=\"Helvetica,sans-Serif\" font-size=\"14.00\" fill=\"#000000\">samples = 11</text>\n<text text-anchor=\"start\" x=\"1803.5\" y=\"-22.8\" font-family=\"Helvetica,sans-Serif\" font-size=\"14.00\" fill=\"#000000\">value = [4, 7, 0]</text>\n<text text-anchor=\"start\" x=\"1818.5\" y=\"-7.8\" font-family=\"Helvetica,sans-Serif\" font-size=\"14.00\" fill=\"#000000\">class = No</text>\n</g>\n<!-- 22&#45;&gt;24 -->\n<g id=\"edge24\" class=\"edge\">\n<title>22&#45;&gt;24</title>\n<path fill=\"none\" stroke=\"#000000\" d=\"M1833.5433,-103.9815C1835.8941,-95.5261 1838.3751,-86.6026 1840.7495,-78.0623\"/>\n<polygon fill=\"#000000\" stroke=\"#000000\" points=\"1844.1671,-78.8358 1843.4738,-68.2637 1837.4229,-76.9607 1844.1671,-78.8358\"/>\n</g>\n<!-- 26 -->\n<g id=\"node27\" class=\"node\">\n<title>26</title>\n<path fill=\"#5cea97\" stroke=\"#000000\" d=\"M2137,-187C2137,-187 1981,-187 1981,-187 1975,-187 1969,-181 1969,-175 1969,-175 1969,-116 1969,-116 1969,-110 1975,-104 1981,-104 1981,-104 2137,-104 2137,-104 2143,-104 2149,-110 2149,-116 2149,-116 2149,-175 2149,-175 2149,-181 2143,-187 2137,-187\"/>\n<text text-anchor=\"start\" x=\"1977\" y=\"-171.8\" font-family=\"Helvetica,sans-Serif\" font-size=\"14.00\" fill=\"#000000\">Commercial Vehicle ≤ 0.5</text>\n<text text-anchor=\"start\" x=\"2021\" y=\"-156.8\" font-family=\"Helvetica,sans-Serif\" font-size=\"14.00\" fill=\"#000000\">gini = 0.254</text>\n<text text-anchor=\"start\" x=\"2007\" y=\"-141.8\" font-family=\"Helvetica,sans-Serif\" font-size=\"14.00\" fill=\"#000000\">samples = 1039</text>\n<text text-anchor=\"start\" x=\"1993\" y=\"-126.8\" font-family=\"Helvetica,sans-Serif\" font-size=\"14.00\" fill=\"#000000\">value = [155, 884, 0]</text>\n<text text-anchor=\"start\" x=\"2024.5\" y=\"-111.8\" font-family=\"Helvetica,sans-Serif\" font-size=\"14.00\" fill=\"#000000\">class = No</text>\n</g>\n<!-- 25&#45;&gt;26 -->\n<g id=\"edge26\" class=\"edge\">\n<title>25&#45;&gt;26</title>\n<path fill=\"none\" stroke=\"#000000\" d=\"M2059,-222.8796C2059,-214.6838 2059,-205.9891 2059,-197.5013\"/>\n<polygon fill=\"#000000\" stroke=\"#000000\" points=\"2062.5001,-197.298 2059,-187.2981 2055.5001,-197.2981 2062.5001,-197.298\"/>\n</g>\n<!-- 29 -->\n<g id=\"node30\" class=\"node\">\n<title>29</title>\n<path fill=\"#84efb1\" stroke=\"#000000\" d=\"M2372,-187C2372,-187 2216,-187 2216,-187 2210,-187 2204,-181 2204,-175 2204,-175 2204,-116 2204,-116 2204,-110 2210,-104 2216,-104 2216,-104 2372,-104 2372,-104 2378,-104 2384,-110 2384,-116 2384,-116 2384,-175 2384,-175 2384,-181 2378,-187 2372,-187\"/>\n<text text-anchor=\"start\" x=\"2212\" y=\"-171.8\" font-family=\"Helvetica,sans-Serif\" font-size=\"14.00\" fill=\"#000000\">Commercial Vehicle ≤ 0.5</text>\n<text text-anchor=\"start\" x=\"2256\" y=\"-156.8\" font-family=\"Helvetica,sans-Serif\" font-size=\"14.00\" fill=\"#000000\">gini = 0.428</text>\n<text text-anchor=\"start\" x=\"2250\" y=\"-141.8\" font-family=\"Helvetica,sans-Serif\" font-size=\"14.00\" fill=\"#000000\">samples = 49</text>\n<text text-anchor=\"start\" x=\"2236.5\" y=\"-126.8\" font-family=\"Helvetica,sans-Serif\" font-size=\"14.00\" fill=\"#000000\">value = [12, 35, 2]</text>\n<text text-anchor=\"start\" x=\"2259.5\" y=\"-111.8\" font-family=\"Helvetica,sans-Serif\" font-size=\"14.00\" fill=\"#000000\">class = No</text>\n</g>\n<!-- 25&#45;&gt;29 -->\n<g id=\"edge29\" class=\"edge\">\n<title>25&#45;&gt;29</title>\n<path fill=\"none\" stroke=\"#000000\" d=\"M2141.1916,-222.8796C2161.1378,-212.7791 2182.5805,-201.9209 2202.9108,-191.626\"/>\n<polygon fill=\"#000000\" stroke=\"#000000\" points=\"2204.5146,-194.7371 2211.8548,-187.0969 2201.3522,-188.4921 2204.5146,-194.7371\"/>\n</g>\n<!-- 27 -->\n<g id=\"node28\" class=\"node\">\n<title>27</title>\n<path fill=\"#5cea97\" stroke=\"#000000\" d=\"M2065,-68C2065,-68 1941,-68 1941,-68 1935,-68 1929,-62 1929,-56 1929,-56 1929,-12 1929,-12 1929,-6 1935,0 1941,0 1941,0 2065,0 2065,0 2071,0 2077,-6 2077,-12 2077,-12 2077,-56 2077,-56 2077,-62 2071,-68 2065,-68\"/>\n<text text-anchor=\"start\" x=\"1965\" y=\"-52.8\" font-family=\"Helvetica,sans-Serif\" font-size=\"14.00\" fill=\"#000000\">gini = 0.253</text>\n<text text-anchor=\"start\" x=\"1951\" y=\"-37.8\" font-family=\"Helvetica,sans-Serif\" font-size=\"14.00\" fill=\"#000000\">samples = 1037</text>\n<text text-anchor=\"start\" x=\"1937\" y=\"-22.8\" font-family=\"Helvetica,sans-Serif\" font-size=\"14.00\" fill=\"#000000\">value = [154, 883, 0]</text>\n<text text-anchor=\"start\" x=\"1968.5\" y=\"-7.8\" font-family=\"Helvetica,sans-Serif\" font-size=\"14.00\" fill=\"#000000\">class = No</text>\n</g>\n<!-- 26&#45;&gt;27 -->\n<g id=\"edge27\" class=\"edge\">\n<title>26&#45;&gt;27</title>\n<path fill=\"none\" stroke=\"#000000\" d=\"M2038.1477,-103.9815C2033.7625,-95.2504 2029.1267,-86.0202 2024.711,-77.2281\"/>\n<polygon fill=\"#000000\" stroke=\"#000000\" points=\"2027.8246,-75.6291 2020.2087,-68.2637 2021.5692,-78.7708 2027.8246,-75.6291\"/>\n</g>\n<!-- 28 -->\n<g id=\"node29\" class=\"node\">\n<title>28</title>\n<path fill=\"#ffffff\" stroke=\"#000000\" d=\"M2198.5,-68C2198.5,-68 2107.5,-68 2107.5,-68 2101.5,-68 2095.5,-62 2095.5,-56 2095.5,-56 2095.5,-12 2095.5,-12 2095.5,-6 2101.5,0 2107.5,0 2107.5,0 2198.5,0 2198.5,0 2204.5,0 2210.5,-6 2210.5,-12 2210.5,-12 2210.5,-56 2210.5,-56 2210.5,-62 2204.5,-68 2198.5,-68\"/>\n<text text-anchor=\"start\" x=\"2123.5\" y=\"-52.8\" font-family=\"Helvetica,sans-Serif\" font-size=\"14.00\" fill=\"#000000\">gini = 0.5</text>\n<text text-anchor=\"start\" x=\"2113.5\" y=\"-37.8\" font-family=\"Helvetica,sans-Serif\" font-size=\"14.00\" fill=\"#000000\">samples = 2</text>\n<text text-anchor=\"start\" x=\"2103.5\" y=\"-22.8\" font-family=\"Helvetica,sans-Serif\" font-size=\"14.00\" fill=\"#000000\">value = [1, 1, 0]</text>\n<text text-anchor=\"start\" x=\"2116\" y=\"-7.8\" font-family=\"Helvetica,sans-Serif\" font-size=\"14.00\" fill=\"#000000\">class = Yes</text>\n</g>\n<!-- 26&#45;&gt;28 -->\n<g id=\"edge28\" class=\"edge\">\n<title>26&#45;&gt;28</title>\n<path fill=\"none\" stroke=\"#000000\" d=\"M2094.0021,-103.9815C2101.6728,-94.8828 2109.8005,-85.242 2117.4909,-76.1199\"/>\n<polygon fill=\"#000000\" stroke=\"#000000\" points=\"2120.3444,-78.1652 2124.114,-68.2637 2114.9925,-73.6533 2120.3444,-78.1652\"/>\n</g>\n<!-- 30 -->\n<g id=\"node31\" class=\"node\">\n<title>30</title>\n<path fill=\"#87efb3\" stroke=\"#000000\" d=\"M2347.5,-68C2347.5,-68 2240.5,-68 2240.5,-68 2234.5,-68 2228.5,-62 2228.5,-56 2228.5,-56 2228.5,-12 2228.5,-12 2228.5,-6 2234.5,0 2240.5,0 2240.5,0 2347.5,0 2347.5,0 2353.5,0 2359.5,-6 2359.5,-12 2359.5,-12 2359.5,-56 2359.5,-56 2359.5,-62 2353.5,-68 2347.5,-68\"/>\n<text text-anchor=\"start\" x=\"2256\" y=\"-52.8\" font-family=\"Helvetica,sans-Serif\" font-size=\"14.00\" fill=\"#000000\">gini = 0.439</text>\n<text text-anchor=\"start\" x=\"2250\" y=\"-37.8\" font-family=\"Helvetica,sans-Serif\" font-size=\"14.00\" fill=\"#000000\">samples = 44</text>\n<text text-anchor=\"start\" x=\"2236.5\" y=\"-22.8\" font-family=\"Helvetica,sans-Serif\" font-size=\"14.00\" fill=\"#000000\">value = [11, 31, 2]</text>\n<text text-anchor=\"start\" x=\"2259.5\" y=\"-7.8\" font-family=\"Helvetica,sans-Serif\" font-size=\"14.00\" fill=\"#000000\">class = No</text>\n</g>\n<!-- 29&#45;&gt;30 -->\n<g id=\"edge30\" class=\"edge\">\n<title>29&#45;&gt;30</title>\n<path fill=\"none\" stroke=\"#000000\" d=\"M2294,-103.9815C2294,-95.618 2294,-86.7965 2294,-78.3409\"/>\n<polygon fill=\"#000000\" stroke=\"#000000\" points=\"2297.5001,-78.2636 2294,-68.2637 2290.5001,-78.2637 2297.5001,-78.2636\"/>\n</g>\n<!-- 31 -->\n<g id=\"node32\" class=\"node\">\n<title>31</title>\n<path fill=\"#6aeca0\" stroke=\"#000000\" d=\"M2480.5,-68C2480.5,-68 2389.5,-68 2389.5,-68 2383.5,-68 2377.5,-62 2377.5,-56 2377.5,-56 2377.5,-12 2377.5,-12 2377.5,-6 2383.5,0 2389.5,0 2389.5,0 2480.5,0 2480.5,0 2486.5,0 2492.5,-6 2492.5,-12 2492.5,-12 2492.5,-56 2492.5,-56 2492.5,-62 2486.5,-68 2480.5,-68\"/>\n<text text-anchor=\"start\" x=\"2401.5\" y=\"-52.8\" font-family=\"Helvetica,sans-Serif\" font-size=\"14.00\" fill=\"#000000\">gini = 0.32</text>\n<text text-anchor=\"start\" x=\"2395.5\" y=\"-37.8\" font-family=\"Helvetica,sans-Serif\" font-size=\"14.00\" fill=\"#000000\">samples = 5</text>\n<text text-anchor=\"start\" x=\"2385.5\" y=\"-22.8\" font-family=\"Helvetica,sans-Serif\" font-size=\"14.00\" fill=\"#000000\">value = [1, 4, 0]</text>\n<text text-anchor=\"start\" x=\"2400.5\" y=\"-7.8\" font-family=\"Helvetica,sans-Serif\" font-size=\"14.00\" fill=\"#000000\">class = No</text>\n</g>\n<!-- 29&#45;&gt;31 -->\n<g id=\"edge31\" class=\"edge\">\n<title>29&#45;&gt;31</title>\n<path fill=\"none\" stroke=\"#000000\" d=\"M2346.5032,-103.9815C2358.7066,-94.3313 2371.681,-84.0714 2383.8261,-74.4673\"/>\n<polygon fill=\"#000000\" stroke=\"#000000\" points=\"2385.9982,-77.2118 2391.671,-68.2637 2381.6562,-71.7211 2385.9982,-77.2118\"/>\n</g>\n<!-- 33 -->\n<g id=\"node34\" class=\"node\">\n<title>33</title>\n<path fill=\"#4ce88d\" stroke=\"#000000\" d=\"M3187.5,-425C3187.5,-425 3038.5,-425 3038.5,-425 3032.5,-425 3026.5,-419 3026.5,-413 3026.5,-413 3026.5,-354 3026.5,-354 3026.5,-348 3032.5,-342 3038.5,-342 3038.5,-342 3187.5,-342 3187.5,-342 3193.5,-342 3199.5,-348 3199.5,-354 3199.5,-354 3199.5,-413 3199.5,-413 3199.5,-419 3193.5,-425 3187.5,-425\"/>\n<text text-anchor=\"start\" x=\"3038\" y=\"-409.8\" font-family=\"Helvetica,sans-Serif\" font-size=\"14.00\" fill=\"#000000\">Property Damage ≤ 0.5</text>\n<text text-anchor=\"start\" x=\"3075\" y=\"-394.8\" font-family=\"Helvetica,sans-Serif\" font-size=\"14.00\" fill=\"#000000\">gini = 0.163</text>\n<text text-anchor=\"start\" x=\"3057\" y=\"-379.8\" font-family=\"Helvetica,sans-Serif\" font-size=\"14.00\" fill=\"#000000\">samples = 15910</text>\n<text text-anchor=\"start\" x=\"3034.5\" y=\"-364.8\" font-family=\"Helvetica,sans-Serif\" font-size=\"14.00\" fill=\"#000000\">value = [1426, 14484, 0]</text>\n<text text-anchor=\"start\" x=\"3078.5\" y=\"-349.8\" font-family=\"Helvetica,sans-Serif\" font-size=\"14.00\" fill=\"#000000\">class = No</text>\n</g>\n<!-- 32&#45;&gt;33 -->\n<g id=\"edge33\" class=\"edge\">\n<title>32&#45;&gt;33</title>\n<path fill=\"none\" stroke=\"#000000\" d=\"M3113,-460.8796C3113,-452.6838 3113,-443.9891 3113,-435.5013\"/>\n<polygon fill=\"#000000\" stroke=\"#000000\" points=\"3116.5001,-435.298 3113,-425.2981 3109.5001,-435.2981 3116.5001,-435.298\"/>\n</g>\n<!-- 48 -->\n<g id=\"node49\" class=\"node\">\n<title>48</title>\n<path fill=\"#41e686\" stroke=\"#000000\" d=\"M4025,-425C4025,-425 3893,-425 3893,-425 3887,-425 3881,-419 3881,-413 3881,-413 3881,-354 3881,-354 3881,-348 3887,-342 3893,-342 3893,-342 4025,-342 4025,-342 4031,-342 4037,-348 4037,-354 4037,-354 4037,-413 4037,-413 4037,-419 4031,-425 4025,-425\"/>\n<text text-anchor=\"start\" x=\"3925\" y=\"-409.8\" font-family=\"Helvetica,sans-Serif\" font-size=\"14.00\" fill=\"#000000\">Belts ≤ 0.5</text>\n<text text-anchor=\"start\" x=\"3921\" y=\"-394.8\" font-family=\"Helvetica,sans-Serif\" font-size=\"14.00\" fill=\"#000000\">gini = 0.074</text>\n<text text-anchor=\"start\" x=\"3907\" y=\"-379.8\" font-family=\"Helvetica,sans-Serif\" font-size=\"14.00\" fill=\"#000000\">samples = 5371</text>\n<text text-anchor=\"start\" x=\"3889\" y=\"-364.8\" font-family=\"Helvetica,sans-Serif\" font-size=\"14.00\" fill=\"#000000\">value = [206, 5165, 0]</text>\n<text text-anchor=\"start\" x=\"3924.5\" y=\"-349.8\" font-family=\"Helvetica,sans-Serif\" font-size=\"14.00\" fill=\"#000000\">class = No</text>\n</g>\n<!-- 32&#45;&gt;48 -->\n<g id=\"edge48\" class=\"edge\">\n<title>32&#45;&gt;48</title>\n<path fill=\"none\" stroke=\"#000000\" d=\"M3199.5611,-490.3241C3361.3605,-467.5651 3707.9731,-418.8099 3870.9208,-395.8894\"/>\n<polygon fill=\"#000000\" stroke=\"#000000\" points=\"3871.4959,-399.343 3880.9109,-394.4842 3870.5208,-392.4113 3871.4959,-399.343\"/>\n</g>\n<!-- 34 -->\n<g id=\"node35\" class=\"node\">\n<title>34</title>\n<path fill=\"#54e992\" stroke=\"#000000\" d=\"M3069,-306C3069,-306 2929,-306 2929,-306 2923,-306 2917,-300 2917,-294 2917,-294 2917,-235 2917,-235 2917,-229 2923,-223 2929,-223 2929,-223 3069,-223 3069,-223 3075,-223 3081,-229 3081,-235 3081,-235 3081,-294 3081,-294 3081,-300 3075,-306 3069,-306\"/>\n<text text-anchor=\"start\" x=\"2965\" y=\"-290.8\" font-family=\"Helvetica,sans-Serif\" font-size=\"14.00\" fill=\"#000000\">Belts ≤ 0.5</text>\n<text text-anchor=\"start\" x=\"2965.5\" y=\"-275.8\" font-family=\"Helvetica,sans-Serif\" font-size=\"14.00\" fill=\"#000000\">gini = 0.21</text>\n<text text-anchor=\"start\" x=\"2947\" y=\"-260.8\" font-family=\"Helvetica,sans-Serif\" font-size=\"14.00\" fill=\"#000000\">samples = 8723</text>\n<text text-anchor=\"start\" x=\"2925\" y=\"-245.8\" font-family=\"Helvetica,sans-Serif\" font-size=\"14.00\" fill=\"#000000\">value = [1042, 7681, 0]</text>\n<text text-anchor=\"start\" x=\"2964.5\" y=\"-230.8\" font-family=\"Helvetica,sans-Serif\" font-size=\"14.00\" fill=\"#000000\">class = No</text>\n</g>\n<!-- 33&#45;&gt;34 -->\n<g id=\"edge34\" class=\"edge\">\n<title>33&#45;&gt;34</title>\n<path fill=\"none\" stroke=\"#000000\" d=\"M3073.1283,-341.8796C3064.4142,-332.7832 3055.1112,-323.0722 3046.1438,-313.7116\"/>\n<polygon fill=\"#000000\" stroke=\"#000000\" points=\"3048.487,-311.098 3039.0419,-306.2981 3043.4322,-315.9405 3048.487,-311.098\"/>\n</g>\n<!-- 41 -->\n<g id=\"node42\" class=\"node\">\n<title>41</title>\n<path fill=\"#44e688\" stroke=\"#000000\" d=\"M3358,-306C3358,-306 3198,-306 3198,-306 3192,-306 3186,-300 3186,-294 3186,-294 3186,-235 3186,-235 3186,-229 3192,-223 3198,-223 3198,-223 3358,-223 3358,-223 3364,-223 3370,-229 3370,-235 3370,-235 3370,-294 3370,-294 3370,-300 3364,-306 3358,-306\"/>\n<text text-anchor=\"start\" x=\"3194\" y=\"-290.8\" font-family=\"Helvetica,sans-Serif\" font-size=\"14.00\" fill=\"#000000\">Commercial License ≤ 0.5</text>\n<text text-anchor=\"start\" x=\"3240\" y=\"-275.8\" font-family=\"Helvetica,sans-Serif\" font-size=\"14.00\" fill=\"#000000\">gini = 0.101</text>\n<text text-anchor=\"start\" x=\"3226\" y=\"-260.8\" font-family=\"Helvetica,sans-Serif\" font-size=\"14.00\" fill=\"#000000\">samples = 7187</text>\n<text text-anchor=\"start\" x=\"3208\" y=\"-245.8\" font-family=\"Helvetica,sans-Serif\" font-size=\"14.00\" fill=\"#000000\">value = [384, 6803, 0]</text>\n<text text-anchor=\"start\" x=\"3243.5\" y=\"-230.8\" font-family=\"Helvetica,sans-Serif\" font-size=\"14.00\" fill=\"#000000\">class = No</text>\n</g>\n<!-- 33&#45;&gt;41 -->\n<g id=\"edge41\" class=\"edge\">\n<title>33&#45;&gt;41</title>\n<path fill=\"none\" stroke=\"#000000\" d=\"M3170.709,-341.8796C3184.023,-332.2774 3198.2866,-321.9903 3211.9259,-312.1534\"/>\n<polygon fill=\"#000000\" stroke=\"#000000\" points=\"3214.2602,-314.7852 3220.3236,-306.0969 3210.1655,-309.1077 3214.2602,-314.7852\"/>\n</g>\n<!-- 35 -->\n<g id=\"node36\" class=\"node\">\n<title>35</title>\n<path fill=\"#54e992\" stroke=\"#000000\" d=\"M2825,-187C2825,-187 2685,-187 2685,-187 2679,-187 2673,-181 2673,-175 2673,-175 2673,-116 2673,-116 2673,-110 2679,-104 2685,-104 2685,-104 2825,-104 2825,-104 2831,-104 2837,-110 2837,-116 2837,-116 2837,-175 2837,-175 2837,-181 2831,-187 2825,-187\"/>\n<text text-anchor=\"start\" x=\"2721\" y=\"-171.8\" font-family=\"Helvetica,sans-Serif\" font-size=\"14.00\" fill=\"#000000\">Fatal ≤ 0.5</text>\n<text text-anchor=\"start\" x=\"2717\" y=\"-156.8\" font-family=\"Helvetica,sans-Serif\" font-size=\"14.00\" fill=\"#000000\">gini = 0.213</text>\n<text text-anchor=\"start\" x=\"2703\" y=\"-141.8\" font-family=\"Helvetica,sans-Serif\" font-size=\"14.00\" fill=\"#000000\">samples = 8491</text>\n<text text-anchor=\"start\" x=\"2681\" y=\"-126.8\" font-family=\"Helvetica,sans-Serif\" font-size=\"14.00\" fill=\"#000000\">value = [1027, 7464, 0]</text>\n<text text-anchor=\"start\" x=\"2720.5\" y=\"-111.8\" font-family=\"Helvetica,sans-Serif\" font-size=\"14.00\" fill=\"#000000\">class = No</text>\n</g>\n<!-- 34&#45;&gt;35 -->\n<g id=\"edge35\" class=\"edge\">\n<title>34&#45;&gt;35</title>\n<path fill=\"none\" stroke=\"#000000\" d=\"M2916.7329,-224.3779C2894.1373,-213.358 2869.5005,-201.3425 2846.4238,-190.0878\"/>\n<polygon fill=\"#000000\" stroke=\"#000000\" points=\"2847.8472,-186.888 2837.3249,-185.6503 2844.7787,-193.1796 2847.8472,-186.888\"/>\n</g>\n<!-- 38 -->\n<g id=\"node39\" class=\"node\">\n<title>38</title>\n<path fill=\"#47e78a\" stroke=\"#000000\" d=\"M3079,-187C3079,-187 2919,-187 2919,-187 2913,-187 2907,-181 2907,-175 2907,-175 2907,-116 2907,-116 2907,-110 2913,-104 2919,-104 2919,-104 3079,-104 3079,-104 3085,-104 3091,-110 3091,-116 3091,-116 3091,-175 3091,-175 3091,-181 3085,-187 3079,-187\"/>\n<text text-anchor=\"start\" x=\"2915\" y=\"-171.8\" font-family=\"Helvetica,sans-Serif\" font-size=\"14.00\" fill=\"#000000\">Commercial License ≤ 0.5</text>\n<text text-anchor=\"start\" x=\"2961\" y=\"-156.8\" font-family=\"Helvetica,sans-Serif\" font-size=\"14.00\" fill=\"#000000\">gini = 0.121</text>\n<text text-anchor=\"start\" x=\"2951\" y=\"-141.8\" font-family=\"Helvetica,sans-Serif\" font-size=\"14.00\" fill=\"#000000\">samples = 232</text>\n<text text-anchor=\"start\" x=\"2937\" y=\"-126.8\" font-family=\"Helvetica,sans-Serif\" font-size=\"14.00\" fill=\"#000000\">value = [15, 217, 0]</text>\n<text text-anchor=\"start\" x=\"2964.5\" y=\"-111.8\" font-family=\"Helvetica,sans-Serif\" font-size=\"14.00\" fill=\"#000000\">class = No</text>\n</g>\n<!-- 34&#45;&gt;38 -->\n<g id=\"edge38\" class=\"edge\">\n<title>34&#45;&gt;38</title>\n<path fill=\"none\" stroke=\"#000000\" d=\"M2999,-222.8796C2999,-214.6838 2999,-205.9891 2999,-197.5013\"/>\n<polygon fill=\"#000000\" stroke=\"#000000\" points=\"3002.5001,-197.298 2999,-187.2981 2995.5001,-197.2981 3002.5001,-197.298\"/>\n</g>\n<!-- 36 -->\n<g id=\"node37\" class=\"node\">\n<title>36</title>\n<path fill=\"#54e992\" stroke=\"#000000\" d=\"M2663,-68C2663,-68 2523,-68 2523,-68 2517,-68 2511,-62 2511,-56 2511,-56 2511,-12 2511,-12 2511,-6 2517,0 2523,0 2523,0 2663,0 2663,0 2669,0 2675,-6 2675,-12 2675,-12 2675,-56 2675,-56 2675,-62 2669,-68 2663,-68\"/>\n<text text-anchor=\"start\" x=\"2555\" y=\"-52.8\" font-family=\"Helvetica,sans-Serif\" font-size=\"14.00\" fill=\"#000000\">gini = 0.213</text>\n<text text-anchor=\"start\" x=\"2541\" y=\"-37.8\" font-family=\"Helvetica,sans-Serif\" font-size=\"14.00\" fill=\"#000000\">samples = 8470</text>\n<text text-anchor=\"start\" x=\"2519\" y=\"-22.8\" font-family=\"Helvetica,sans-Serif\" font-size=\"14.00\" fill=\"#000000\">value = [1027, 7443, 0]</text>\n<text text-anchor=\"start\" x=\"2558.5\" y=\"-7.8\" font-family=\"Helvetica,sans-Serif\" font-size=\"14.00\" fill=\"#000000\">class = No</text>\n</g>\n<!-- 35&#45;&gt;36 -->\n<g id=\"edge36\" class=\"edge\">\n<title>35&#45;&gt;36</title>\n<path fill=\"none\" stroke=\"#000000\" d=\"M2694.6772,-103.9815C2680.314,-94.0957 2665.0212,-83.5701 2650.7753,-73.7651\"/>\n<polygon fill=\"#000000\" stroke=\"#000000\" points=\"2652.7454,-70.8722 2642.5235,-68.0856 2648.7766,-76.6384 2652.7454,-70.8722\"/>\n</g>\n<!-- 37 -->\n<g id=\"node38\" class=\"node\">\n<title>37</title>\n<path fill=\"#39e581\" stroke=\"#000000\" d=\"M2804.5,-68C2804.5,-68 2705.5,-68 2705.5,-68 2699.5,-68 2693.5,-62 2693.5,-56 2693.5,-56 2693.5,-12 2693.5,-12 2693.5,-6 2699.5,0 2705.5,0 2705.5,0 2804.5,0 2804.5,0 2810.5,0 2816.5,-6 2816.5,-12 2816.5,-12 2816.5,-56 2816.5,-56 2816.5,-62 2810.5,-68 2804.5,-68\"/>\n<text text-anchor=\"start\" x=\"2725.5\" y=\"-52.8\" font-family=\"Helvetica,sans-Serif\" font-size=\"14.00\" fill=\"#000000\">gini = 0.0</text>\n<text text-anchor=\"start\" x=\"2711\" y=\"-37.8\" font-family=\"Helvetica,sans-Serif\" font-size=\"14.00\" fill=\"#000000\">samples = 21</text>\n<text text-anchor=\"start\" x=\"2701.5\" y=\"-22.8\" font-family=\"Helvetica,sans-Serif\" font-size=\"14.00\" fill=\"#000000\">value = [0, 21, 0]</text>\n<text text-anchor=\"start\" x=\"2720.5\" y=\"-7.8\" font-family=\"Helvetica,sans-Serif\" font-size=\"14.00\" fill=\"#000000\">class = No</text>\n</g>\n<!-- 35&#45;&gt;37 -->\n<g id=\"edge37\" class=\"edge\">\n<title>35&#45;&gt;37</title>\n<path fill=\"none\" stroke=\"#000000\" d=\"M2755,-103.9815C2755,-95.618 2755,-86.7965 2755,-78.3409\"/>\n<polygon fill=\"#000000\" stroke=\"#000000\" points=\"2758.5001,-78.2636 2755,-68.2637 2751.5001,-78.2637 2758.5001,-78.2636\"/>\n</g>\n<!-- 39 -->\n<g id=\"node40\" class=\"node\">\n<title>39</title>\n<path fill=\"#47e78a\" stroke=\"#000000\" d=\"M2963,-68C2963,-68 2847,-68 2847,-68 2841,-68 2835,-62 2835,-56 2835,-56 2835,-12 2835,-12 2835,-6 2841,0 2847,0 2847,0 2963,0 2963,0 2969,0 2975,-6 2975,-12 2975,-12 2975,-56 2975,-56 2975,-62 2969,-68 2963,-68\"/>\n<text text-anchor=\"start\" x=\"2867\" y=\"-52.8\" font-family=\"Helvetica,sans-Serif\" font-size=\"14.00\" fill=\"#000000\">gini = 0.125</text>\n<text text-anchor=\"start\" x=\"2857\" y=\"-37.8\" font-family=\"Helvetica,sans-Serif\" font-size=\"14.00\" fill=\"#000000\">samples = 224</text>\n<text text-anchor=\"start\" x=\"2843\" y=\"-22.8\" font-family=\"Helvetica,sans-Serif\" font-size=\"14.00\" fill=\"#000000\">value = [15, 209, 0]</text>\n<text text-anchor=\"start\" x=\"2870.5\" y=\"-7.8\" font-family=\"Helvetica,sans-Serif\" font-size=\"14.00\" fill=\"#000000\">class = No</text>\n</g>\n<!-- 38&#45;&gt;39 -->\n<g id=\"edge39\" class=\"edge\">\n<title>38&#45;&gt;39</title>\n<path fill=\"none\" stroke=\"#000000\" d=\"M2963.9979,-103.9815C2956.3272,-94.8828 2948.1995,-85.242 2940.5091,-76.1199\"/>\n<polygon fill=\"#000000\" stroke=\"#000000\" points=\"2943.0075,-73.6533 2933.886,-68.2637 2937.6556,-78.1652 2943.0075,-73.6533\"/>\n</g>\n<!-- 40 -->\n<g id=\"node41\" class=\"node\">\n<title>40</title>\n<path fill=\"#39e581\" stroke=\"#000000\" d=\"M3096.5,-68C3096.5,-68 3005.5,-68 3005.5,-68 2999.5,-68 2993.5,-62 2993.5,-56 2993.5,-56 2993.5,-12 2993.5,-12 2993.5,-6 2999.5,0 3005.5,0 3005.5,0 3096.5,0 3096.5,0 3102.5,0 3108.5,-6 3108.5,-12 3108.5,-12 3108.5,-56 3108.5,-56 3108.5,-62 3102.5,-68 3096.5,-68\"/>\n<text text-anchor=\"start\" x=\"3021.5\" y=\"-52.8\" font-family=\"Helvetica,sans-Serif\" font-size=\"14.00\" fill=\"#000000\">gini = 0.0</text>\n<text text-anchor=\"start\" x=\"3011.5\" y=\"-37.8\" font-family=\"Helvetica,sans-Serif\" font-size=\"14.00\" fill=\"#000000\">samples = 8</text>\n<text text-anchor=\"start\" x=\"3001.5\" y=\"-22.8\" font-family=\"Helvetica,sans-Serif\" font-size=\"14.00\" fill=\"#000000\">value = [0, 8, 0]</text>\n<text text-anchor=\"start\" x=\"3016.5\" y=\"-7.8\" font-family=\"Helvetica,sans-Serif\" font-size=\"14.00\" fill=\"#000000\">class = No</text>\n</g>\n<!-- 38&#45;&gt;40 -->\n<g id=\"edge40\" class=\"edge\">\n<title>38&#45;&gt;40</title>\n<path fill=\"none\" stroke=\"#000000\" d=\"M3018.3629,-103.9815C3022.3919,-95.3423 3026.6489,-86.2144 3030.7103,-77.5059\"/>\n<polygon fill=\"#000000\" stroke=\"#000000\" points=\"3033.9659,-78.8059 3035.0205,-68.2637 3027.6218,-75.8472 3033.9659,-78.8059\"/>\n</g>\n<!-- 42 -->\n<g id=\"node43\" class=\"node\">\n<title>42</title>\n<path fill=\"#43e687\" stroke=\"#000000\" d=\"M3344,-187C3344,-187 3212,-187 3212,-187 3206,-187 3200,-181 3200,-175 3200,-175 3200,-116 3200,-116 3200,-110 3206,-104 3212,-104 3212,-104 3344,-104 3344,-104 3350,-104 3356,-110 3356,-116 3356,-116 3356,-175 3356,-175 3356,-181 3350,-187 3344,-187\"/>\n<text text-anchor=\"start\" x=\"3244\" y=\"-171.8\" font-family=\"Helvetica,sans-Serif\" font-size=\"14.00\" fill=\"#000000\">Belts ≤ 0.5</text>\n<text text-anchor=\"start\" x=\"3240\" y=\"-156.8\" font-family=\"Helvetica,sans-Serif\" font-size=\"14.00\" fill=\"#000000\">gini = 0.093</text>\n<text text-anchor=\"start\" x=\"3226\" y=\"-141.8\" font-family=\"Helvetica,sans-Serif\" font-size=\"14.00\" fill=\"#000000\">samples = 6839</text>\n<text text-anchor=\"start\" x=\"3208\" y=\"-126.8\" font-family=\"Helvetica,sans-Serif\" font-size=\"14.00\" fill=\"#000000\">value = [335, 6504, 0]</text>\n<text text-anchor=\"start\" x=\"3243.5\" y=\"-111.8\" font-family=\"Helvetica,sans-Serif\" font-size=\"14.00\" fill=\"#000000\">class = No</text>\n</g>\n<!-- 41&#45;&gt;42 -->\n<g id=\"edge42\" class=\"edge\">\n<title>41&#45;&gt;42</title>\n<path fill=\"none\" stroke=\"#000000\" d=\"M3278,-222.8796C3278,-214.6838 3278,-205.9891 3278,-197.5013\"/>\n<polygon fill=\"#000000\" stroke=\"#000000\" points=\"3281.5001,-197.298 3278,-187.2981 3274.5001,-197.2981 3281.5001,-197.298\"/>\n</g>\n<!-- 45 -->\n<g id=\"node46\" class=\"node\">\n<title>45</title>\n<path fill=\"#59e996\" stroke=\"#000000\" d=\"M3615,-187C3615,-187 3459,-187 3459,-187 3453,-187 3447,-181 3447,-175 3447,-175 3447,-116 3447,-116 3447,-110 3453,-104 3459,-104 3459,-104 3615,-104 3615,-104 3621,-104 3627,-110 3627,-116 3627,-116 3627,-175 3627,-175 3627,-181 3621,-187 3615,-187\"/>\n<text text-anchor=\"start\" x=\"3455\" y=\"-171.8\" font-family=\"Helvetica,sans-Serif\" font-size=\"14.00\" fill=\"#000000\">Commercial Vehicle ≤ 0.5</text>\n<text text-anchor=\"start\" x=\"3499\" y=\"-156.8\" font-family=\"Helvetica,sans-Serif\" font-size=\"14.00\" fill=\"#000000\">gini = 0.242</text>\n<text text-anchor=\"start\" x=\"3489\" y=\"-141.8\" font-family=\"Helvetica,sans-Serif\" font-size=\"14.00\" fill=\"#000000\">samples = 348</text>\n<text text-anchor=\"start\" x=\"3475\" y=\"-126.8\" font-family=\"Helvetica,sans-Serif\" font-size=\"14.00\" fill=\"#000000\">value = [49, 299, 0]</text>\n<text text-anchor=\"start\" x=\"3502.5\" y=\"-111.8\" font-family=\"Helvetica,sans-Serif\" font-size=\"14.00\" fill=\"#000000\">class = No</text>\n</g>\n<!-- 41&#45;&gt;45 -->\n<g id=\"edge45\" class=\"edge\">\n<title>41&#45;&gt;45</title>\n<path fill=\"none\" stroke=\"#000000\" d=\"M3368.5856,-222.8796C3390.8943,-212.6297 3414.9014,-201.5993 3437.6022,-191.1693\"/>\n<polygon fill=\"#000000\" stroke=\"#000000\" points=\"3439.2774,-194.2514 3446.9029,-186.896 3436.3548,-187.8907 3439.2774,-194.2514\"/>\n</g>\n<!-- 43 -->\n<g id=\"node44\" class=\"node\">\n<title>43</title>\n<path fill=\"#44e688\" stroke=\"#000000\" d=\"M3271,-68C3271,-68 3139,-68 3139,-68 3133,-68 3127,-62 3127,-56 3127,-56 3127,-12 3127,-12 3127,-6 3133,0 3139,0 3139,0 3271,0 3271,0 3277,0 3283,-6 3283,-12 3283,-12 3283,-56 3283,-56 3283,-62 3277,-68 3271,-68\"/>\n<text text-anchor=\"start\" x=\"3175.5\" y=\"-52.8\" font-family=\"Helvetica,sans-Serif\" font-size=\"14.00\" fill=\"#000000\">gini = 0.1</text>\n<text text-anchor=\"start\" x=\"3153\" y=\"-37.8\" font-family=\"Helvetica,sans-Serif\" font-size=\"14.00\" fill=\"#000000\">samples = 5629</text>\n<text text-anchor=\"start\" x=\"3135\" y=\"-22.8\" font-family=\"Helvetica,sans-Serif\" font-size=\"14.00\" fill=\"#000000\">value = [298, 5331, 0]</text>\n<text text-anchor=\"start\" x=\"3170.5\" y=\"-7.8\" font-family=\"Helvetica,sans-Serif\" font-size=\"14.00\" fill=\"#000000\">class = No</text>\n</g>\n<!-- 42&#45;&gt;43 -->\n<g id=\"edge43\" class=\"edge\">\n<title>42&#45;&gt;43</title>\n<path fill=\"none\" stroke=\"#000000\" d=\"M3250.8175,-103.9815C3244.9808,-95.0666 3238.8034,-85.6313 3232.9386,-76.6734\"/>\n<polygon fill=\"#000000\" stroke=\"#000000\" points=\"3235.8386,-74.7129 3227.4327,-68.2637 3229.9821,-78.5472 3235.8386,-74.7129\"/>\n</g>\n<!-- 44 -->\n<g id=\"node45\" class=\"node\">\n<title>44</title>\n<path fill=\"#3fe685\" stroke=\"#000000\" d=\"M3437,-68C3437,-68 3313,-68 3313,-68 3307,-68 3301,-62 3301,-56 3301,-56 3301,-12 3301,-12 3301,-6 3307,0 3313,0 3313,0 3437,0 3437,0 3443,0 3449,-6 3449,-12 3449,-12 3449,-56 3449,-56 3449,-62 3443,-68 3437,-68\"/>\n<text text-anchor=\"start\" x=\"3337\" y=\"-52.8\" font-family=\"Helvetica,sans-Serif\" font-size=\"14.00\" fill=\"#000000\">gini = 0.059</text>\n<text text-anchor=\"start\" x=\"3323\" y=\"-37.8\" font-family=\"Helvetica,sans-Serif\" font-size=\"14.00\" fill=\"#000000\">samples = 1210</text>\n<text text-anchor=\"start\" x=\"3309\" y=\"-22.8\" font-family=\"Helvetica,sans-Serif\" font-size=\"14.00\" fill=\"#000000\">value = [37, 1173, 0]</text>\n<text text-anchor=\"start\" x=\"3340.5\" y=\"-7.8\" font-family=\"Helvetica,sans-Serif\" font-size=\"14.00\" fill=\"#000000\">class = No</text>\n</g>\n<!-- 42&#45;&gt;44 -->\n<g id=\"edge44\" class=\"edge\">\n<title>42&#45;&gt;44</title>\n<path fill=\"none\" stroke=\"#000000\" d=\"M3314.1192,-103.9815C3322.1147,-94.7908 3330.5913,-85.0472 3338.5979,-75.8436\"/>\n<polygon fill=\"#000000\" stroke=\"#000000\" points=\"3341.2693,-78.1055 3345.1921,-68.2637 3335.988,-73.5111 3341.2693,-78.1055\"/>\n</g>\n<!-- 46 -->\n<g id=\"node47\" class=\"node\">\n<title>46</title>\n<path fill=\"#57e994\" stroke=\"#000000\" d=\"M3595,-68C3595,-68 3479,-68 3479,-68 3473,-68 3467,-62 3467,-56 3467,-56 3467,-12 3467,-12 3467,-6 3473,0 3479,0 3479,0 3595,0 3595,0 3601,0 3607,-6 3607,-12 3607,-12 3607,-56 3607,-56 3607,-62 3601,-68 3595,-68\"/>\n<text text-anchor=\"start\" x=\"3499\" y=\"-52.8\" font-family=\"Helvetica,sans-Serif\" font-size=\"14.00\" fill=\"#000000\">gini = 0.228</text>\n<text text-anchor=\"start\" x=\"3489\" y=\"-37.8\" font-family=\"Helvetica,sans-Serif\" font-size=\"14.00\" fill=\"#000000\">samples = 336</text>\n<text text-anchor=\"start\" x=\"3475\" y=\"-22.8\" font-family=\"Helvetica,sans-Serif\" font-size=\"14.00\" fill=\"#000000\">value = [44, 292, 0]</text>\n<text text-anchor=\"start\" x=\"3502.5\" y=\"-7.8\" font-family=\"Helvetica,sans-Serif\" font-size=\"14.00\" fill=\"#000000\">class = No</text>\n</g>\n<!-- 45&#45;&gt;46 -->\n<g id=\"edge46\" class=\"edge\">\n<title>45&#45;&gt;46</title>\n<path fill=\"none\" stroke=\"#000000\" d=\"M3537,-103.9815C3537,-95.618 3537,-86.7965 3537,-78.3409\"/>\n<polygon fill=\"#000000\" stroke=\"#000000\" points=\"3540.5001,-78.2636 3537,-68.2637 3533.5001,-78.2637 3540.5001,-78.2636\"/>\n</g>\n<!-- 47 -->\n<g id=\"node48\" class=\"node\">\n<title>47</title>\n<path fill=\"#c6f8db\" stroke=\"#000000\" d=\"M3728.5,-68C3728.5,-68 3637.5,-68 3637.5,-68 3631.5,-68 3625.5,-62 3625.5,-56 3625.5,-56 3625.5,-12 3625.5,-12 3625.5,-6 3631.5,0 3637.5,0 3637.5,0 3728.5,0 3728.5,0 3734.5,0 3740.5,-6 3740.5,-12 3740.5,-12 3740.5,-56 3740.5,-56 3740.5,-62 3734.5,-68 3728.5,-68\"/>\n<text text-anchor=\"start\" x=\"3645\" y=\"-52.8\" font-family=\"Helvetica,sans-Serif\" font-size=\"14.00\" fill=\"#000000\">gini = 0.486</text>\n<text text-anchor=\"start\" x=\"3639\" y=\"-37.8\" font-family=\"Helvetica,sans-Serif\" font-size=\"14.00\" fill=\"#000000\">samples = 12</text>\n<text text-anchor=\"start\" x=\"3633.5\" y=\"-22.8\" font-family=\"Helvetica,sans-Serif\" font-size=\"14.00\" fill=\"#000000\">value = [5, 7, 0]</text>\n<text text-anchor=\"start\" x=\"3648.5\" y=\"-7.8\" font-family=\"Helvetica,sans-Serif\" font-size=\"14.00\" fill=\"#000000\">class = No</text>\n</g>\n<!-- 45&#45;&gt;47 -->\n<g id=\"edge47\" class=\"edge\">\n<title>45&#45;&gt;47</title>\n<path fill=\"none\" stroke=\"#000000\" d=\"M3591.365,-103.9815C3604.0011,-94.3313 3617.4356,-84.0714 3630.0115,-74.4673\"/>\n<polygon fill=\"#000000\" stroke=\"#000000\" points=\"3632.3114,-77.1148 3638.1346,-68.2637 3628.0628,-71.5515 3632.3114,-77.1148\"/>\n</g>\n<!-- 49 -->\n<g id=\"node50\" class=\"node\">\n<title>49</title>\n<path fill=\"#42e687\" stroke=\"#000000\" d=\"M4025,-306C4025,-306 3893,-306 3893,-306 3887,-306 3881,-300 3881,-294 3881,-294 3881,-235 3881,-235 3881,-229 3887,-223 3893,-223 3893,-223 4025,-223 4025,-223 4031,-223 4037,-229 4037,-235 4037,-235 4037,-294 4037,-294 4037,-300 4031,-306 4025,-306\"/>\n<text text-anchor=\"start\" x=\"3905.5\" y=\"-290.8\" font-family=\"Helvetica,sans-Serif\" font-size=\"14.00\" fill=\"#000000\">Work Zone ≤ 0.5</text>\n<text text-anchor=\"start\" x=\"3921\" y=\"-275.8\" font-family=\"Helvetica,sans-Serif\" font-size=\"14.00\" fill=\"#000000\">gini = 0.084</text>\n<text text-anchor=\"start\" x=\"3907\" y=\"-260.8\" font-family=\"Helvetica,sans-Serif\" font-size=\"14.00\" fill=\"#000000\">samples = 4177</text>\n<text text-anchor=\"start\" x=\"3889\" y=\"-245.8\" font-family=\"Helvetica,sans-Serif\" font-size=\"14.00\" fill=\"#000000\">value = [183, 3994, 0]</text>\n<text text-anchor=\"start\" x=\"3924.5\" y=\"-230.8\" font-family=\"Helvetica,sans-Serif\" font-size=\"14.00\" fill=\"#000000\">class = No</text>\n</g>\n<!-- 48&#45;&gt;49 -->\n<g id=\"edge49\" class=\"edge\">\n<title>48&#45;&gt;49</title>\n<path fill=\"none\" stroke=\"#000000\" d=\"M3959,-341.8796C3959,-333.6838 3959,-324.9891 3959,-316.5013\"/>\n<polygon fill=\"#000000\" stroke=\"#000000\" points=\"3962.5001,-316.298 3959,-306.2981 3955.5001,-316.2981 3962.5001,-316.298\"/>\n</g>\n<!-- 54 -->\n<g id=\"node55\" class=\"node\">\n<title>54</title>\n<path fill=\"#3de683\" stroke=\"#000000\" d=\"M4301,-306C4301,-306 4145,-306 4145,-306 4139,-306 4133,-300 4133,-294 4133,-294 4133,-235 4133,-235 4133,-229 4139,-223 4145,-223 4145,-223 4301,-223 4301,-223 4307,-223 4313,-229 4313,-235 4313,-235 4313,-294 4313,-294 4313,-300 4307,-306 4301,-306\"/>\n<text text-anchor=\"start\" x=\"4141\" y=\"-290.8\" font-family=\"Helvetica,sans-Serif\" font-size=\"14.00\" fill=\"#000000\">Commercial Vehicle ≤ 0.5</text>\n<text text-anchor=\"start\" x=\"4185\" y=\"-275.8\" font-family=\"Helvetica,sans-Serif\" font-size=\"14.00\" fill=\"#000000\">gini = 0.038</text>\n<text text-anchor=\"start\" x=\"4171\" y=\"-260.8\" font-family=\"Helvetica,sans-Serif\" font-size=\"14.00\" fill=\"#000000\">samples = 1194</text>\n<text text-anchor=\"start\" x=\"4157\" y=\"-245.8\" font-family=\"Helvetica,sans-Serif\" font-size=\"14.00\" fill=\"#000000\">value = [23, 1171, 0]</text>\n<text text-anchor=\"start\" x=\"4188.5\" y=\"-230.8\" font-family=\"Helvetica,sans-Serif\" font-size=\"14.00\" fill=\"#000000\">class = No</text>\n</g>\n<!-- 48&#45;&gt;54 -->\n<g id=\"edge54\" class=\"edge\">\n<title>48&#45;&gt;54</title>\n<path fill=\"none\" stroke=\"#000000\" d=\"M4037.1372,-348.2791C4064.3022,-336.0342 4095.1408,-322.1335 4123.7813,-309.2236\"/>\n<polygon fill=\"#000000\" stroke=\"#000000\" points=\"4125.3172,-312.3705 4132.9955,-305.0702 4122.4405,-305.9888 4125.3172,-312.3705\"/>\n</g>\n<!-- 50 -->\n<g id=\"node51\" class=\"node\">\n<title>50</title>\n<path fill=\"#42e687\" stroke=\"#000000\" d=\"M3930,-187C3930,-187 3774,-187 3774,-187 3768,-187 3762,-181 3762,-175 3762,-175 3762,-116 3762,-116 3762,-110 3768,-104 3774,-104 3774,-104 3930,-104 3930,-104 3936,-104 3942,-110 3942,-116 3942,-116 3942,-175 3942,-175 3942,-181 3936,-187 3930,-187\"/>\n<text text-anchor=\"start\" x=\"3770\" y=\"-171.8\" font-family=\"Helvetica,sans-Serif\" font-size=\"14.00\" fill=\"#000000\">Commercial Vehicle ≤ 0.5</text>\n<text text-anchor=\"start\" x=\"3814\" y=\"-156.8\" font-family=\"Helvetica,sans-Serif\" font-size=\"14.00\" fill=\"#000000\">gini = 0.084</text>\n<text text-anchor=\"start\" x=\"3800\" y=\"-141.8\" font-family=\"Helvetica,sans-Serif\" font-size=\"14.00\" fill=\"#000000\">samples = 4143</text>\n<text text-anchor=\"start\" x=\"3782\" y=\"-126.8\" font-family=\"Helvetica,sans-Serif\" font-size=\"14.00\" fill=\"#000000\">value = [183, 3960, 0]</text>\n<text text-anchor=\"start\" x=\"3817.5\" y=\"-111.8\" font-family=\"Helvetica,sans-Serif\" font-size=\"14.00\" fill=\"#000000\">class = No</text>\n</g>\n<!-- 49&#45;&gt;50 -->\n<g id=\"edge50\" class=\"edge\">\n<title>49&#45;&gt;50</title>\n<path fill=\"none\" stroke=\"#000000\" d=\"M3921.5766,-222.8796C3913.4785,-213.8733 3904.8386,-204.2644 3896.4991,-194.9897\"/>\n<polygon fill=\"#000000\" stroke=\"#000000\" points=\"3898.872,-192.394 3889.5831,-187.2981 3893.6667,-197.0743 3898.872,-192.394\"/>\n</g>\n<!-- 53 -->\n<g id=\"node54\" class=\"node\">\n<title>53</title>\n<path fill=\"#39e581\" stroke=\"#000000\" d=\"M4071.5,-179.5C4071.5,-179.5 3972.5,-179.5 3972.5,-179.5 3966.5,-179.5 3960.5,-173.5 3960.5,-167.5 3960.5,-167.5 3960.5,-123.5 3960.5,-123.5 3960.5,-117.5 3966.5,-111.5 3972.5,-111.5 3972.5,-111.5 4071.5,-111.5 4071.5,-111.5 4077.5,-111.5 4083.5,-117.5 4083.5,-123.5 4083.5,-123.5 4083.5,-167.5 4083.5,-167.5 4083.5,-173.5 4077.5,-179.5 4071.5,-179.5\"/>\n<text text-anchor=\"start\" x=\"3992.5\" y=\"-164.3\" font-family=\"Helvetica,sans-Serif\" font-size=\"14.00\" fill=\"#000000\">gini = 0.0</text>\n<text text-anchor=\"start\" x=\"3978\" y=\"-149.3\" font-family=\"Helvetica,sans-Serif\" font-size=\"14.00\" fill=\"#000000\">samples = 34</text>\n<text text-anchor=\"start\" x=\"3968.5\" y=\"-134.3\" font-family=\"Helvetica,sans-Serif\" font-size=\"14.00\" fill=\"#000000\">value = [0, 34, 0]</text>\n<text text-anchor=\"start\" x=\"3987.5\" y=\"-119.3\" font-family=\"Helvetica,sans-Serif\" font-size=\"14.00\" fill=\"#000000\">class = No</text>\n</g>\n<!-- 49&#45;&gt;53 -->\n<g id=\"edge53\" class=\"edge\">\n<title>49&#45;&gt;53</title>\n<path fill=\"none\" stroke=\"#000000\" d=\"M3981.0343,-222.8796C3986.8558,-211.8835 3993.1527,-199.9893 3999.0227,-188.9015\"/>\n<polygon fill=\"#000000\" stroke=\"#000000\" points=\"4002.2476,-190.2905 4003.8333,-179.8149 3996.0611,-187.0152 4002.2476,-190.2905\"/>\n</g>\n<!-- 51 -->\n<g id=\"node52\" class=\"node\">\n<title>51</title>\n<path fill=\"#42e687\" stroke=\"#000000\" d=\"M3903,-68C3903,-68 3771,-68 3771,-68 3765,-68 3759,-62 3759,-56 3759,-56 3759,-12 3759,-12 3759,-6 3765,0 3771,0 3771,0 3903,0 3903,0 3909,0 3915,-6 3915,-12 3915,-12 3915,-56 3915,-56 3915,-62 3909,-68 3903,-68\"/>\n<text text-anchor=\"start\" x=\"3799\" y=\"-52.8\" font-family=\"Helvetica,sans-Serif\" font-size=\"14.00\" fill=\"#000000\">gini = 0.085</text>\n<text text-anchor=\"start\" x=\"3785\" y=\"-37.8\" font-family=\"Helvetica,sans-Serif\" font-size=\"14.00\" fill=\"#000000\">samples = 4119</text>\n<text text-anchor=\"start\" x=\"3767\" y=\"-22.8\" font-family=\"Helvetica,sans-Serif\" font-size=\"14.00\" fill=\"#000000\">value = [183, 3936, 0]</text>\n<text text-anchor=\"start\" x=\"3802.5\" y=\"-7.8\" font-family=\"Helvetica,sans-Serif\" font-size=\"14.00\" fill=\"#000000\">class = No</text>\n</g>\n<!-- 50&#45;&gt;51 -->\n<g id=\"edge51\" class=\"edge\">\n<title>50&#45;&gt;51</title>\n<path fill=\"none\" stroke=\"#000000\" d=\"M3846.4146,-103.9815C3845.2894,-95.618 3844.1027,-86.7965 3842.9651,-78.3409\"/>\n<polygon fill=\"#000000\" stroke=\"#000000\" points=\"3846.4116,-77.7077 3841.6095,-68.2637 3839.4741,-78.6411 3846.4116,-77.7077\"/>\n</g>\n<!-- 52 -->\n<g id=\"node53\" class=\"node\">\n<title>52</title>\n<path fill=\"#39e581\" stroke=\"#000000\" d=\"M4044.5,-68C4044.5,-68 3945.5,-68 3945.5,-68 3939.5,-68 3933.5,-62 3933.5,-56 3933.5,-56 3933.5,-12 3933.5,-12 3933.5,-6 3939.5,0 3945.5,0 3945.5,0 4044.5,0 4044.5,0 4050.5,0 4056.5,-6 4056.5,-12 4056.5,-12 4056.5,-56 4056.5,-56 4056.5,-62 4050.5,-68 4044.5,-68\"/>\n<text text-anchor=\"start\" x=\"3965.5\" y=\"-52.8\" font-family=\"Helvetica,sans-Serif\" font-size=\"14.00\" fill=\"#000000\">gini = 0.0</text>\n<text text-anchor=\"start\" x=\"3951\" y=\"-37.8\" font-family=\"Helvetica,sans-Serif\" font-size=\"14.00\" fill=\"#000000\">samples = 24</text>\n<text text-anchor=\"start\" x=\"3941.5\" y=\"-22.8\" font-family=\"Helvetica,sans-Serif\" font-size=\"14.00\" fill=\"#000000\">value = [0, 24, 0]</text>\n<text text-anchor=\"start\" x=\"3960.5\" y=\"-7.8\" font-family=\"Helvetica,sans-Serif\" font-size=\"14.00\" fill=\"#000000\">class = No</text>\n</g>\n<!-- 50&#45;&gt;52 -->\n<g id=\"edge52\" class=\"edge\">\n<title>50&#45;&gt;52</title>\n<path fill=\"none\" stroke=\"#000000\" d=\"M3905.2479,-103.9815C3917.6244,-94.3313 3930.7828,-84.0714 3943.1003,-74.4673\"/>\n<polygon fill=\"#000000\" stroke=\"#000000\" points=\"3945.3225,-77.1728 3951.0565,-68.2637 3941.0182,-71.6525 3945.3225,-77.1728\"/>\n</g>\n<!-- 55 -->\n<g id=\"node56\" class=\"node\">\n<title>55</title>\n<path fill=\"#3de583\" stroke=\"#000000\" d=\"M4303,-187C4303,-187 4143,-187 4143,-187 4137,-187 4131,-181 4131,-175 4131,-175 4131,-116 4131,-116 4131,-110 4137,-104 4143,-104 4143,-104 4303,-104 4303,-104 4309,-104 4315,-110 4315,-116 4315,-116 4315,-175 4315,-175 4315,-181 4309,-187 4303,-187\"/>\n<text text-anchor=\"start\" x=\"4139\" y=\"-171.8\" font-family=\"Helvetica,sans-Serif\" font-size=\"14.00\" fill=\"#000000\">Commercial License ≤ 0.5</text>\n<text text-anchor=\"start\" x=\"4185\" y=\"-156.8\" font-family=\"Helvetica,sans-Serif\" font-size=\"14.00\" fill=\"#000000\">gini = 0.036</text>\n<text text-anchor=\"start\" x=\"4171\" y=\"-141.8\" font-family=\"Helvetica,sans-Serif\" font-size=\"14.00\" fill=\"#000000\">samples = 1189</text>\n<text text-anchor=\"start\" x=\"4157\" y=\"-126.8\" font-family=\"Helvetica,sans-Serif\" font-size=\"14.00\" fill=\"#000000\">value = [22, 1167, 0]</text>\n<text text-anchor=\"start\" x=\"4188.5\" y=\"-111.8\" font-family=\"Helvetica,sans-Serif\" font-size=\"14.00\" fill=\"#000000\">class = No</text>\n</g>\n<!-- 54&#45;&gt;55 -->\n<g id=\"edge55\" class=\"edge\">\n<title>54&#45;&gt;55</title>\n<path fill=\"none\" stroke=\"#000000\" d=\"M4223,-222.8796C4223,-214.6838 4223,-205.9891 4223,-197.5013\"/>\n<polygon fill=\"#000000\" stroke=\"#000000\" points=\"4226.5001,-197.298 4223,-187.2981 4219.5001,-197.2981 4226.5001,-197.298\"/>\n</g>\n<!-- 58 -->\n<g id=\"node59\" class=\"node\">\n<title>58</title>\n<path fill=\"#6aeca0\" stroke=\"#000000\" d=\"M4520,-187C4520,-187 4360,-187 4360,-187 4354,-187 4348,-181 4348,-175 4348,-175 4348,-116 4348,-116 4348,-110 4354,-104 4360,-104 4360,-104 4520,-104 4520,-104 4526,-104 4532,-110 4532,-116 4532,-116 4532,-175 4532,-175 4532,-181 4526,-187 4520,-187\"/>\n<text text-anchor=\"start\" x=\"4356\" y=\"-171.8\" font-family=\"Helvetica,sans-Serif\" font-size=\"14.00\" fill=\"#000000\">Commercial License ≤ 0.5</text>\n<text text-anchor=\"start\" x=\"4406.5\" y=\"-156.8\" font-family=\"Helvetica,sans-Serif\" font-size=\"14.00\" fill=\"#000000\">gini = 0.32</text>\n<text text-anchor=\"start\" x=\"4400.5\" y=\"-141.8\" font-family=\"Helvetica,sans-Serif\" font-size=\"14.00\" fill=\"#000000\">samples = 5</text>\n<text text-anchor=\"start\" x=\"4390.5\" y=\"-126.8\" font-family=\"Helvetica,sans-Serif\" font-size=\"14.00\" fill=\"#000000\">value = [1, 4, 0]</text>\n<text text-anchor=\"start\" x=\"4405.5\" y=\"-111.8\" font-family=\"Helvetica,sans-Serif\" font-size=\"14.00\" fill=\"#000000\">class = No</text>\n</g>\n<!-- 54&#45;&gt;58 -->\n<g id=\"edge58\" class=\"edge\">\n<title>54&#45;&gt;58</title>\n<path fill=\"none\" stroke=\"#000000\" d=\"M4298.8961,-222.8796C4317.0667,-212.915 4336.5823,-202.2129 4355.1296,-192.0418\"/>\n<polygon fill=\"#000000\" stroke=\"#000000\" points=\"4357.0616,-194.9741 4364.1468,-187.0969 4353.6957,-188.8365 4357.0616,-194.9741\"/>\n</g>\n<!-- 56 -->\n<g id=\"node57\" class=\"node\">\n<title>56</title>\n<path fill=\"#3de583\" stroke=\"#000000\" d=\"M4211,-68C4211,-68 4087,-68 4087,-68 4081,-68 4075,-62 4075,-56 4075,-56 4075,-12 4075,-12 4075,-6 4081,0 4087,0 4087,0 4211,0 4211,0 4217,0 4223,-6 4223,-12 4223,-12 4223,-56 4223,-56 4223,-62 4217,-68 4211,-68\"/>\n<text text-anchor=\"start\" x=\"4111\" y=\"-52.8\" font-family=\"Helvetica,sans-Serif\" font-size=\"14.00\" fill=\"#000000\">gini = 0.036</text>\n<text text-anchor=\"start\" x=\"4097\" y=\"-37.8\" font-family=\"Helvetica,sans-Serif\" font-size=\"14.00\" fill=\"#000000\">samples = 1154</text>\n<text text-anchor=\"start\" x=\"4083\" y=\"-22.8\" font-family=\"Helvetica,sans-Serif\" font-size=\"14.00\" fill=\"#000000\">value = [21, 1133, 0]</text>\n<text text-anchor=\"start\" x=\"4114.5\" y=\"-7.8\" font-family=\"Helvetica,sans-Serif\" font-size=\"14.00\" fill=\"#000000\">class = No</text>\n</g>\n<!-- 55&#45;&gt;56 -->\n<g id=\"edge56\" class=\"edge\">\n<title>55&#45;&gt;56</title>\n<path fill=\"none\" stroke=\"#000000\" d=\"M4195.4451,-103.9815C4189.5285,-95.0666 4183.2665,-85.6313 4177.3213,-76.6734\"/>\n<polygon fill=\"#000000\" stroke=\"#000000\" points=\"4180.186,-74.6602 4171.74,-68.2637 4174.3536,-78.5311 4180.186,-74.6602\"/>\n</g>\n<!-- 57 -->\n<g id=\"node58\" class=\"node\">\n<title>57</title>\n<path fill=\"#3fe685\" stroke=\"#000000\" d=\"M4352.5,-68C4352.5,-68 4253.5,-68 4253.5,-68 4247.5,-68 4241.5,-62 4241.5,-56 4241.5,-56 4241.5,-12 4241.5,-12 4241.5,-6 4247.5,0 4253.5,0 4253.5,0 4352.5,0 4352.5,0 4358.5,0 4364.5,-6 4364.5,-12 4364.5,-12 4364.5,-56 4364.5,-56 4364.5,-62 4358.5,-68 4352.5,-68\"/>\n<text text-anchor=\"start\" x=\"4265\" y=\"-52.8\" font-family=\"Helvetica,sans-Serif\" font-size=\"14.00\" fill=\"#000000\">gini = 0.056</text>\n<text text-anchor=\"start\" x=\"4259\" y=\"-37.8\" font-family=\"Helvetica,sans-Serif\" font-size=\"14.00\" fill=\"#000000\">samples = 35</text>\n<text text-anchor=\"start\" x=\"4249.5\" y=\"-22.8\" font-family=\"Helvetica,sans-Serif\" font-size=\"14.00\" fill=\"#000000\">value = [1, 34, 0]</text>\n<text text-anchor=\"start\" x=\"4268.5\" y=\"-7.8\" font-family=\"Helvetica,sans-Serif\" font-size=\"14.00\" fill=\"#000000\">class = No</text>\n</g>\n<!-- 55&#45;&gt;57 -->\n<g id=\"edge57\" class=\"edge\">\n<title>55&#45;&gt;57</title>\n<path fill=\"none\" stroke=\"#000000\" d=\"M4252.789,-103.9815C4259.2514,-94.9747 4266.0948,-85.4367 4272.581,-76.3965\"/>\n<polygon fill=\"#000000\" stroke=\"#000000\" points=\"4275.4303,-78.4291 4278.4162,-68.2637 4269.7428,-74.3483 4275.4303,-78.4291\"/>\n</g>\n<!-- 59 -->\n<g id=\"node60\" class=\"node\">\n<title>59</title>\n<path fill=\"#39e581\" stroke=\"#000000\" d=\"M4485.5,-68C4485.5,-68 4394.5,-68 4394.5,-68 4388.5,-68 4382.5,-62 4382.5,-56 4382.5,-56 4382.5,-12 4382.5,-12 4382.5,-6 4388.5,0 4394.5,0 4394.5,0 4485.5,0 4485.5,0 4491.5,0 4497.5,-6 4497.5,-12 4497.5,-12 4497.5,-56 4497.5,-56 4497.5,-62 4491.5,-68 4485.5,-68\"/>\n<text text-anchor=\"start\" x=\"4410.5\" y=\"-52.8\" font-family=\"Helvetica,sans-Serif\" font-size=\"14.00\" fill=\"#000000\">gini = 0.0</text>\n<text text-anchor=\"start\" x=\"4400.5\" y=\"-37.8\" font-family=\"Helvetica,sans-Serif\" font-size=\"14.00\" fill=\"#000000\">samples = 1</text>\n<text text-anchor=\"start\" x=\"4390.5\" y=\"-22.8\" font-family=\"Helvetica,sans-Serif\" font-size=\"14.00\" fill=\"#000000\">value = [0, 1, 0]</text>\n<text text-anchor=\"start\" x=\"4405.5\" y=\"-7.8\" font-family=\"Helvetica,sans-Serif\" font-size=\"14.00\" fill=\"#000000\">class = No</text>\n</g>\n<!-- 58&#45;&gt;59 -->\n<g id=\"edge59\" class=\"edge\">\n<title>58&#45;&gt;59</title>\n<path fill=\"none\" stroke=\"#000000\" d=\"M4440,-103.9815C4440,-95.618 4440,-86.7965 4440,-78.3409\"/>\n<polygon fill=\"#000000\" stroke=\"#000000\" points=\"4443.5001,-78.2636 4440,-68.2637 4436.5001,-78.2637 4443.5001,-78.2636\"/>\n</g>\n<!-- 60 -->\n<g id=\"node61\" class=\"node\">\n<title>60</title>\n<path fill=\"#7beeab\" stroke=\"#000000\" d=\"M4618.5,-68C4618.5,-68 4527.5,-68 4527.5,-68 4521.5,-68 4515.5,-62 4515.5,-56 4515.5,-56 4515.5,-12 4515.5,-12 4515.5,-6 4521.5,0 4527.5,0 4527.5,0 4618.5,0 4618.5,0 4624.5,0 4630.5,-6 4630.5,-12 4630.5,-12 4630.5,-56 4630.5,-56 4630.5,-62 4624.5,-68 4618.5,-68\"/>\n<text text-anchor=\"start\" x=\"4535\" y=\"-52.8\" font-family=\"Helvetica,sans-Serif\" font-size=\"14.00\" fill=\"#000000\">gini = 0.375</text>\n<text text-anchor=\"start\" x=\"4533.5\" y=\"-37.8\" font-family=\"Helvetica,sans-Serif\" font-size=\"14.00\" fill=\"#000000\">samples = 4</text>\n<text text-anchor=\"start\" x=\"4523.5\" y=\"-22.8\" font-family=\"Helvetica,sans-Serif\" font-size=\"14.00\" fill=\"#000000\">value = [1, 3, 0]</text>\n<text text-anchor=\"start\" x=\"4538.5\" y=\"-7.8\" font-family=\"Helvetica,sans-Serif\" font-size=\"14.00\" fill=\"#000000\">class = No</text>\n</g>\n<!-- 58&#45;&gt;60 -->\n<g id=\"edge60\" class=\"edge\">\n<title>58&#45;&gt;60</title>\n<path fill=\"none\" stroke=\"#000000\" d=\"M4489.5243,-103.9815C4500.9257,-94.4232 4513.0405,-84.2668 4524.4021,-74.7419\"/>\n<polygon fill=\"#000000\" stroke=\"#000000\" points=\"4526.7147,-77.3704 4532.1294,-68.2637 4522.2175,-72.006 4526.7147,-77.3704\"/>\n</g>\n</g>\n</svg>\n"
          },
          "metadata": {},
          "execution_count": 26
        }
      ]
    },
    {
      "cell_type": "markdown",
      "metadata": {
        "id": "jdsMZEDiNIzF"
      },
      "source": [
        "I realize this is not the optimal answer, but every time I tried to change anything it would break the tree."
      ]
    },
    {
      "cell_type": "code",
      "metadata": {
        "id": "tLdgQpziNSJi"
      },
      "source": [
        ""
      ],
      "execution_count": null,
      "outputs": []
    }
  ]
}
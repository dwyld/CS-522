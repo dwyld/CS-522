{
  "nbformat": 4,
  "nbformat_minor": 0,
  "metadata": {
    "colab": {
      "name": "Traffic_Violation_HW.ipynb",
      "provenance": []
    },
    "kernelspec": {
      "name": "python3",
      "display_name": "Python 3"
    },
    "language_info": {
      "name": "python"
    }
  },
  "cells": [
    {
      "cell_type": "code",
      "metadata": {
        "colab": {
          "base_uri": "https://localhost:8080/"
        },
        "id": "7xcWC4h_ZU7e",
        "outputId": "00e9ae7a-8ec3-4a60-ff24-4b56575a6971"
      },
      "source": [
        "from google.colab import drive\n",
        "drive.mount('/content/drive')"
      ],
      "execution_count": 1,
      "outputs": [
        {
          "output_type": "stream",
          "name": "stdout",
          "text": [
            "Mounted at /content/drive\n"
          ]
        }
      ]
    },
    {
      "cell_type": "code",
      "metadata": {
        "id": "6lg-fsr-Zla9"
      },
      "source": [
        "import pandas as pd\n",
        "import numpy as np"
      ],
      "execution_count": 2,
      "outputs": []
    },
    {
      "cell_type": "code",
      "metadata": {
        "colab": {
          "base_uri": "https://localhost:8080/",
          "height": 656
        },
        "id": "Jk4GkcS9Zr1g",
        "outputId": "bfce5fa7-aa14-4f6d-ecbf-3b152d143ce2"
      },
      "source": [
        "traffic_violations_df = pd.read_csv('/content/drive/MyDrive/Traffic_Violations.csv')\n",
        "traffic_violations_df.head(5)"
      ],
      "execution_count": 7,
      "outputs": [
        {
          "output_type": "stream",
          "name": "stderr",
          "text": [
            "/usr/local/lib/python3.7/dist-packages/IPython/core/interactiveshell.py:2718: DtypeWarning: Columns (26) have mixed types.Specify dtype option on import or set low_memory=False.\n",
            "  interactivity=interactivity, compiler=compiler, result=result)\n"
          ]
        },
        {
          "output_type": "execute_result",
          "data": {
            "text/html": [
              "<div>\n",
              "<style scoped>\n",
              "    .dataframe tbody tr th:only-of-type {\n",
              "        vertical-align: middle;\n",
              "    }\n",
              "\n",
              "    .dataframe tbody tr th {\n",
              "        vertical-align: top;\n",
              "    }\n",
              "\n",
              "    .dataframe thead th {\n",
              "        text-align: right;\n",
              "    }\n",
              "</style>\n",
              "<table border=\"1\" class=\"dataframe\">\n",
              "  <thead>\n",
              "    <tr style=\"text-align: right;\">\n",
              "      <th></th>\n",
              "      <th>Date Of Stop</th>\n",
              "      <th>Time Of Stop</th>\n",
              "      <th>Agency</th>\n",
              "      <th>SubAgency</th>\n",
              "      <th>Description</th>\n",
              "      <th>Location</th>\n",
              "      <th>Latitude</th>\n",
              "      <th>Longitude</th>\n",
              "      <th>Accident</th>\n",
              "      <th>Belts</th>\n",
              "      <th>Personal Injury</th>\n",
              "      <th>Property Damage</th>\n",
              "      <th>Fatal</th>\n",
              "      <th>Commercial License</th>\n",
              "      <th>HAZMAT</th>\n",
              "      <th>Commercial Vehicle</th>\n",
              "      <th>Alcohol</th>\n",
              "      <th>Work Zone</th>\n",
              "      <th>State</th>\n",
              "      <th>VehicleType</th>\n",
              "      <th>Year</th>\n",
              "      <th>Make</th>\n",
              "      <th>Model</th>\n",
              "      <th>Color</th>\n",
              "      <th>Violation Type</th>\n",
              "      <th>Charge</th>\n",
              "      <th>Article</th>\n",
              "      <th>Contributed To Accident</th>\n",
              "      <th>Race</th>\n",
              "      <th>Gender</th>\n",
              "      <th>Driver City</th>\n",
              "      <th>Driver State</th>\n",
              "      <th>DL State</th>\n",
              "      <th>Arrest Type</th>\n",
              "      <th>Geolocation</th>\n",
              "    </tr>\n",
              "  </thead>\n",
              "  <tbody>\n",
              "    <tr>\n",
              "      <th>0</th>\n",
              "      <td>09/24/2013</td>\n",
              "      <td>17:11:00</td>\n",
              "      <td>MCP</td>\n",
              "      <td>3rd district, Silver Spring</td>\n",
              "      <td>DRIVING VEHICLE ON HIGHWAY WITH SUSPENDED REGI...</td>\n",
              "      <td>8804 FLOWER AVE</td>\n",
              "      <td>NaN</td>\n",
              "      <td>NaN</td>\n",
              "      <td>No</td>\n",
              "      <td>No</td>\n",
              "      <td>No</td>\n",
              "      <td>No</td>\n",
              "      <td>No</td>\n",
              "      <td>No</td>\n",
              "      <td>No</td>\n",
              "      <td>No</td>\n",
              "      <td>No</td>\n",
              "      <td>No</td>\n",
              "      <td>MD</td>\n",
              "      <td>02 - Automobile</td>\n",
              "      <td>2008.0</td>\n",
              "      <td>FORD</td>\n",
              "      <td>4S</td>\n",
              "      <td>BLACK</td>\n",
              "      <td>Citation</td>\n",
              "      <td>13-401(h)</td>\n",
              "      <td>Transportation Article</td>\n",
              "      <td>No</td>\n",
              "      <td>BLACK</td>\n",
              "      <td>M</td>\n",
              "      <td>TAKOMA PARK</td>\n",
              "      <td>MD</td>\n",
              "      <td>MD</td>\n",
              "      <td>A - Marked Patrol</td>\n",
              "      <td>NaN</td>\n",
              "    </tr>\n",
              "    <tr>\n",
              "      <th>1</th>\n",
              "      <td>08/29/2017</td>\n",
              "      <td>10:19:00</td>\n",
              "      <td>MCP</td>\n",
              "      <td>2nd district, Bethesda</td>\n",
              "      <td>DRIVER FAILURE TO OBEY PROPERLY PLACED TRAFFIC...</td>\n",
              "      <td>WISCONSIN AVE@ ELM ST</td>\n",
              "      <td>38.981725</td>\n",
              "      <td>-77.092757</td>\n",
              "      <td>No</td>\n",
              "      <td>No</td>\n",
              "      <td>No</td>\n",
              "      <td>No</td>\n",
              "      <td>No</td>\n",
              "      <td>No</td>\n",
              "      <td>No</td>\n",
              "      <td>No</td>\n",
              "      <td>No</td>\n",
              "      <td>No</td>\n",
              "      <td>VA</td>\n",
              "      <td>02 - Automobile</td>\n",
              "      <td>2001.0</td>\n",
              "      <td>TOYOTA</td>\n",
              "      <td>COROLLA</td>\n",
              "      <td>GREEN</td>\n",
              "      <td>Citation</td>\n",
              "      <td>21-201(a1)</td>\n",
              "      <td>Transportation Article</td>\n",
              "      <td>No</td>\n",
              "      <td>WHITE</td>\n",
              "      <td>F</td>\n",
              "      <td>FAIRFAX STATION</td>\n",
              "      <td>VA</td>\n",
              "      <td>VA</td>\n",
              "      <td>A - Marked Patrol</td>\n",
              "      <td>(38.981725, -77.0927566666667)</td>\n",
              "    </tr>\n",
              "    <tr>\n",
              "      <th>2</th>\n",
              "      <td>12/01/2014</td>\n",
              "      <td>12:52:00</td>\n",
              "      <td>MCP</td>\n",
              "      <td>6th district, Gaithersburg / Montgomery Village</td>\n",
              "      <td>FAILURE STOP AND YIELD AT THRU HWY</td>\n",
              "      <td>CHRISTOPHER AVE/MONTGOMERY VILLAGE AVE</td>\n",
              "      <td>39.162888</td>\n",
              "      <td>-77.229088</td>\n",
              "      <td>No</td>\n",
              "      <td>No</td>\n",
              "      <td>No</td>\n",
              "      <td>Yes</td>\n",
              "      <td>No</td>\n",
              "      <td>No</td>\n",
              "      <td>No</td>\n",
              "      <td>No</td>\n",
              "      <td>No</td>\n",
              "      <td>No</td>\n",
              "      <td>MD</td>\n",
              "      <td>02 - Automobile</td>\n",
              "      <td>2001.0</td>\n",
              "      <td>HONDA</td>\n",
              "      <td>ACCORD</td>\n",
              "      <td>SILVER</td>\n",
              "      <td>Citation</td>\n",
              "      <td>21-403(b)</td>\n",
              "      <td>Transportation Article</td>\n",
              "      <td>No</td>\n",
              "      <td>BLACK</td>\n",
              "      <td>F</td>\n",
              "      <td>UPPER MARLBORO</td>\n",
              "      <td>MD</td>\n",
              "      <td>MD</td>\n",
              "      <td>A - Marked Patrol</td>\n",
              "      <td>(39.1628883333333, -77.2290883333333)</td>\n",
              "    </tr>\n",
              "    <tr>\n",
              "      <th>3</th>\n",
              "      <td>08/29/2017</td>\n",
              "      <td>09:22:00</td>\n",
              "      <td>MCP</td>\n",
              "      <td>3rd district, Silver Spring</td>\n",
              "      <td>FAILURE YIELD RIGHT OF WAY ON U TURN</td>\n",
              "      <td>CHERRY HILL RD./CALVERTON BLVD.</td>\n",
              "      <td>39.056975</td>\n",
              "      <td>-76.954633</td>\n",
              "      <td>No</td>\n",
              "      <td>No</td>\n",
              "      <td>No</td>\n",
              "      <td>Yes</td>\n",
              "      <td>No</td>\n",
              "      <td>No</td>\n",
              "      <td>No</td>\n",
              "      <td>No</td>\n",
              "      <td>No</td>\n",
              "      <td>No</td>\n",
              "      <td>MD</td>\n",
              "      <td>02 - Automobile</td>\n",
              "      <td>1998.0</td>\n",
              "      <td>DODG</td>\n",
              "      <td>DAKOTA</td>\n",
              "      <td>WHITE</td>\n",
              "      <td>Citation</td>\n",
              "      <td>21-402(b)</td>\n",
              "      <td>Transportation Article</td>\n",
              "      <td>No</td>\n",
              "      <td>BLACK</td>\n",
              "      <td>M</td>\n",
              "      <td>FORT WASHINGTON</td>\n",
              "      <td>MD</td>\n",
              "      <td>MD</td>\n",
              "      <td>A - Marked Patrol</td>\n",
              "      <td>(39.056975, -76.9546333333333)</td>\n",
              "    </tr>\n",
              "    <tr>\n",
              "      <th>4</th>\n",
              "      <td>08/28/2017</td>\n",
              "      <td>23:41:00</td>\n",
              "      <td>MCP</td>\n",
              "      <td>6th district, Gaithersburg / Montgomery Village</td>\n",
              "      <td>FAILURE OF DR. TO MAKE LANE CHANGE TO AVAIL. L...</td>\n",
              "      <td>355 @ SOUTH WESTLAND DRIVE</td>\n",
              "      <td>NaN</td>\n",
              "      <td>NaN</td>\n",
              "      <td>No</td>\n",
              "      <td>No</td>\n",
              "      <td>No</td>\n",
              "      <td>No</td>\n",
              "      <td>No</td>\n",
              "      <td>No</td>\n",
              "      <td>No</td>\n",
              "      <td>No</td>\n",
              "      <td>No</td>\n",
              "      <td>No</td>\n",
              "      <td>MD</td>\n",
              "      <td>02 - Automobile</td>\n",
              "      <td>2015.0</td>\n",
              "      <td>MINI COOPER</td>\n",
              "      <td>2S</td>\n",
              "      <td>WHITE</td>\n",
              "      <td>Citation</td>\n",
              "      <td>21-405(e1)</td>\n",
              "      <td>Transportation Article</td>\n",
              "      <td>No</td>\n",
              "      <td>WHITE</td>\n",
              "      <td>M</td>\n",
              "      <td>GAITHERSBURG</td>\n",
              "      <td>MD</td>\n",
              "      <td>MD</td>\n",
              "      <td>A - Marked Patrol</td>\n",
              "      <td>NaN</td>\n",
              "    </tr>\n",
              "  </tbody>\n",
              "</table>\n",
              "</div>"
            ],
            "text/plain": [
              "  Date Of Stop  ...                            Geolocation\n",
              "0   09/24/2013  ...                                    NaN\n",
              "1   08/29/2017  ...         (38.981725, -77.0927566666667)\n",
              "2   12/01/2014  ...  (39.1628883333333, -77.2290883333333)\n",
              "3   08/29/2017  ...         (39.056975, -76.9546333333333)\n",
              "4   08/28/2017  ...                                    NaN\n",
              "\n",
              "[5 rows x 35 columns]"
            ]
          },
          "metadata": {},
          "execution_count": 7
        }
      ]
    },
    {
      "cell_type": "code",
      "metadata": {
        "colab": {
          "base_uri": "https://localhost:8080/"
        },
        "id": "zyj-oMgJe8fO",
        "outputId": "16874bc7-5341-41fc-e3ed-24e86c7333bf"
      },
      "source": [
        "traffic_violations_df.columns"
      ],
      "execution_count": 8,
      "outputs": [
        {
          "output_type": "execute_result",
          "data": {
            "text/plain": [
              "Index(['Date Of Stop', 'Time Of Stop', 'Agency', 'SubAgency', 'Description',\n",
              "       'Location', 'Latitude', 'Longitude', 'Accident', 'Belts',\n",
              "       'Personal Injury', 'Property Damage', 'Fatal', 'Commercial License',\n",
              "       'HAZMAT', 'Commercial Vehicle', 'Alcohol', 'Work Zone', 'State',\n",
              "       'VehicleType', 'Year', 'Make', 'Model', 'Color', 'Violation Type',\n",
              "       'Charge', 'Article', 'Contributed To Accident', 'Race', 'Gender',\n",
              "       'Driver City', 'Driver State', 'DL State', 'Arrest Type',\n",
              "       'Geolocation'],\n",
              "      dtype='object')"
            ]
          },
          "metadata": {},
          "execution_count": 8
        }
      ]
    },
    {
      "cell_type": "markdown",
      "metadata": {
        "id": "mobhecS8gcbX"
      },
      "source": [
        "# New Section \n",
        "Homework Question 1"
      ]
    },
    {
      "cell_type": "code",
      "metadata": {
        "id": "YoAqGIldfJnS"
      },
      "source": [
        "color_df = traffic_violations_df['Color']"
      ],
      "execution_count": 10,
      "outputs": []
    },
    {
      "cell_type": "code",
      "metadata": {
        "colab": {
          "base_uri": "https://localhost:8080/"
        },
        "id": "SoJZSjHZfesU",
        "outputId": "b3521acb-07f2-43de-9f03-7c67f89a93a7"
      },
      "source": [
        "color_df.head()"
      ],
      "execution_count": 11,
      "outputs": [
        {
          "output_type": "execute_result",
          "data": {
            "text/plain": [
              "0     BLACK\n",
              "1     GREEN\n",
              "2    SILVER\n",
              "3     WHITE\n",
              "4     WHITE\n",
              "Name: Color, dtype: object"
            ]
          },
          "metadata": {},
          "execution_count": 11
        }
      ]
    },
    {
      "cell_type": "code",
      "metadata": {
        "colab": {
          "base_uri": "https://localhost:8080/"
        },
        "id": "PqFAxg-hgB3Z",
        "outputId": "adc0eacc-26b8-4899-9e64-f0988fe6b959"
      },
      "source": [
        "color_df.value_counts()"
      ],
      "execution_count": 12,
      "outputs": [
        {
          "output_type": "execute_result",
          "data": {
            "text/plain": [
              "BLACK          259499\n",
              "SILVER         236828\n",
              "WHITE          197558\n",
              "GRAY           141092\n",
              "RED            101733\n",
              "BLUE            94814\n",
              "GREEN           49520\n",
              "GOLD            41177\n",
              "BLUE, DARK      27111\n",
              "TAN             27015\n",
              "MAROON          22408\n",
              "BLUE, LIGHT     17221\n",
              "BEIGE           15047\n",
              "GREEN, DK       14457\n",
              "GREEN, LGT       7345\n",
              "BROWN            6021\n",
              "YELLOW           4889\n",
              "ORANGE           4538\n",
              "BRONZE           2964\n",
              "PURPLE           2524\n",
              "MULTICOLOR       1021\n",
              "CREAM             837\n",
              "COPPER            414\n",
              "PINK              188\n",
              "CHROME             27\n",
              "CAMOUFLAGE         24\n",
              "Name: Color, dtype: int64"
            ]
          },
          "metadata": {},
          "execution_count": 12
        }
      ]
    },
    {
      "cell_type": "markdown",
      "metadata": {
        "id": "XqyXlfZbgZAI"
      },
      "source": [
        "According to the reults of the function used above, black colored vehicles have the most amount of traffic violations."
      ]
    },
    {
      "cell_type": "markdown",
      "metadata": {
        "id": "WWhUiKfAg2A3"
      },
      "source": [
        "# New Section\n",
        "Homework Question 2"
      ]
    },
    {
      "cell_type": "code",
      "metadata": {
        "colab": {
          "base_uri": "https://localhost:8080/"
        },
        "id": "s-xrrwwOg7VY",
        "outputId": "eb0b498b-4532-4a96-c418-146af5ad0a8a"
      },
      "source": [
        "model_df = traffic_violations_df['Model']\n",
        "model_df.head()"
      ],
      "execution_count": 14,
      "outputs": [
        {
          "output_type": "execute_result",
          "data": {
            "text/plain": [
              "0         4S\n",
              "1    COROLLA\n",
              "2     ACCORD\n",
              "3     DAKOTA\n",
              "4         2S\n",
              "Name: Model, dtype: object"
            ]
          },
          "metadata": {},
          "execution_count": 14
        }
      ]
    },
    {
      "cell_type": "code",
      "metadata": {
        "colab": {
          "base_uri": "https://localhost:8080/"
        },
        "id": "_9ZkRopPhHt1",
        "outputId": "fcf622e2-a79b-4e8f-82dc-83458645255f"
      },
      "source": [
        "model_df.value_counts()"
      ],
      "execution_count": 15,
      "outputs": [
        {
          "output_type": "execute_result",
          "data": {
            "text/plain": [
              "4S               144337\n",
              "TK                84159\n",
              "ACCORD            47388\n",
              "CIVIC             44291\n",
              "CAMRY             43232\n",
              "                  ...  \n",
              "RENDEZVOUUS           1\n",
              "199                   1\n",
              "XB 4D SW              1\n",
              "TSX 4 DOOR            1\n",
              "TK GRND CHEER         1\n",
              "Name: Model, Length: 17560, dtype: int64"
            ]
          },
          "metadata": {},
          "execution_count": 15
        }
      ]
    },
    {
      "cell_type": "markdown",
      "metadata": {
        "id": "sVE1pL6mhSYS"
      },
      "source": [
        "According to the results of the function, the car model with the most traffic violations is the \"4S\"."
      ]
    },
    {
      "cell_type": "markdown",
      "metadata": {
        "id": "uTcJRNhkhb9K"
      },
      "source": [
        "# New Section\n",
        "Fun Analysis:\n",
        "\n",
        "I was able to answer the simple questions and load the dataset using Google Collab, but when I tried to make some fun graphs and \"wow\" you, it kept crashing or just loading forever.  (I waited over an hour for a simple bar graph that never loaded.)"
      ]
    },
    {
      "cell_type": "code",
      "metadata": {
        "id": "UEJnnChxngBY"
      },
      "source": [
        ""
      ],
      "execution_count": null,
      "outputs": []
    }
  ]
}
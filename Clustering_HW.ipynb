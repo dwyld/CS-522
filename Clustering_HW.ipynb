{
  "nbformat": 4,
  "nbformat_minor": 0,
  "metadata": {
    "colab": {
      "name": "Clustering_HW",
      "provenance": [],
      "authorship_tag": "ABX9TyPupvFpHObuG85haJ9IKWKw",
      "include_colab_link": true
    },
    "kernelspec": {
      "name": "python3",
      "display_name": "Python 3"
    },
    "language_info": {
      "name": "python"
    }
  },
  "cells": [
    {
      "cell_type": "markdown",
      "metadata": {
        "id": "view-in-github",
        "colab_type": "text"
      },
      "source": [
        "<a href=\"https://colab.research.google.com/github/dwyld/CS-522/blob/main/Clustering_HW.ipynb\" target=\"_parent\"><img src=\"https://colab.research.google.com/assets/colab-badge.svg\" alt=\"Open In Colab\"/></a>"
      ]
    },
    {
      "cell_type": "code",
      "metadata": {
        "colab": {
          "base_uri": "https://localhost:8080/"
        },
        "id": "hB-M1isBjTFR",
        "outputId": "fc15a460-7ae9-4592-9fd5-108d18931b61"
      },
      "source": [
        "from google.colab import drive\n",
        "drive.mount('/content/drive')"
      ],
      "execution_count": 1,
      "outputs": [
        {
          "output_type": "stream",
          "name": "stdout",
          "text": [
            "Mounted at /content/drive\n"
          ]
        }
      ]
    },
    {
      "cell_type": "code",
      "metadata": {
        "id": "aDTHzB4WjsZ9"
      },
      "source": [
        "import pandas as pd\n",
        "import numpy as np"
      ],
      "execution_count": 2,
      "outputs": []
    },
    {
      "cell_type": "markdown",
      "metadata": {
        "id": "KOgZgb0aj420"
      },
      "source": [
        "I found a data set with all of the zip codes along with their corresponding longitude and lattitude."
      ]
    },
    {
      "cell_type": "code",
      "metadata": {
        "colab": {
          "base_uri": "https://localhost:8080/",
          "height": 205
        },
        "id": "koeC-JPDj1uu",
        "outputId": "ea2260ae-f7b7-4c40-d6b2-01b2ab8bda89"
      },
      "source": [
        "zipcodes = pd.read_csv('/content/drive/MyDrive/cities.csv')\n",
        "zipcodes.head(5)"
      ],
      "execution_count": 3,
      "outputs": [
        {
          "output_type": "execute_result",
          "data": {
            "text/html": [
              "<div>\n",
              "<style scoped>\n",
              "    .dataframe tbody tr th:only-of-type {\n",
              "        vertical-align: middle;\n",
              "    }\n",
              "\n",
              "    .dataframe tbody tr th {\n",
              "        vertical-align: top;\n",
              "    }\n",
              "\n",
              "    .dataframe thead th {\n",
              "        text-align: right;\n",
              "    }\n",
              "</style>\n",
              "<table border=\"1\" class=\"dataframe\">\n",
              "  <thead>\n",
              "    <tr style=\"text-align: right;\">\n",
              "      <th></th>\n",
              "      <th>city</th>\n",
              "      <th>st</th>\n",
              "      <th>state</th>\n",
              "      <th>lat</th>\n",
              "      <th>lon</th>\n",
              "      <th>county</th>\n",
              "      <th>zip</th>\n",
              "    </tr>\n",
              "  </thead>\n",
              "  <tbody>\n",
              "    <tr>\n",
              "      <th>0</th>\n",
              "      <td>Abbeville</td>\n",
              "      <td>AL</td>\n",
              "      <td>Alabama</td>\n",
              "      <td>31.56639</td>\n",
              "      <td>-85.25139</td>\n",
              "      <td>Henry</td>\n",
              "      <td>36310</td>\n",
              "    </tr>\n",
              "    <tr>\n",
              "      <th>1</th>\n",
              "      <td>Adamsville</td>\n",
              "      <td>AL</td>\n",
              "      <td>Alabama</td>\n",
              "      <td>33.59028</td>\n",
              "      <td>-86.94917</td>\n",
              "      <td>Jefferson</td>\n",
              "      <td>35005</td>\n",
              "    </tr>\n",
              "    <tr>\n",
              "      <th>2</th>\n",
              "      <td>Addison</td>\n",
              "      <td>AL</td>\n",
              "      <td>Alabama</td>\n",
              "      <td>34.20000</td>\n",
              "      <td>-87.17778</td>\n",
              "      <td>Winston</td>\n",
              "      <td>35540</td>\n",
              "    </tr>\n",
              "    <tr>\n",
              "      <th>3</th>\n",
              "      <td>Akron</td>\n",
              "      <td>AL</td>\n",
              "      <td>Alabama</td>\n",
              "      <td>32.87639</td>\n",
              "      <td>-87.74083</td>\n",
              "      <td>Hale</td>\n",
              "      <td>35441</td>\n",
              "    </tr>\n",
              "    <tr>\n",
              "      <th>4</th>\n",
              "      <td>Alabaster</td>\n",
              "      <td>AL</td>\n",
              "      <td>Alabama</td>\n",
              "      <td>33.23111</td>\n",
              "      <td>-86.82361</td>\n",
              "      <td>Shelby</td>\n",
              "      <td>35007, 35114</td>\n",
              "    </tr>\n",
              "  </tbody>\n",
              "</table>\n",
              "</div>"
            ],
            "text/plain": [
              "         city  st    state       lat       lon     county           zip\n",
              "0   Abbeville  AL  Alabama  31.56639 -85.25139      Henry         36310\n",
              "1  Adamsville  AL  Alabama  33.59028 -86.94917  Jefferson         35005\n",
              "2     Addison  AL  Alabama  34.20000 -87.17778    Winston         35540\n",
              "3       Akron  AL  Alabama  32.87639 -87.74083       Hale         35441\n",
              "4   Alabaster  AL  Alabama  33.23111 -86.82361     Shelby  35007, 35114"
            ]
          },
          "metadata": {},
          "execution_count": 3
        }
      ]
    },
    {
      "cell_type": "markdown",
      "metadata": {
        "id": "Ip18OY3vkPs_"
      },
      "source": [
        "I will remove all information from Hawaii and Alaska per the instructions of the HW.  Before removing the data the shape of the dataframe is:"
      ]
    },
    {
      "cell_type": "code",
      "metadata": {
        "colab": {
          "base_uri": "https://localhost:8080/"
        },
        "id": "siFygKhvkVo6",
        "outputId": "bc103835-20a3-4a00-c6c2-cbf04d221415"
      },
      "source": [
        "zipcodes.shape"
      ],
      "execution_count": 5,
      "outputs": [
        {
          "output_type": "execute_result",
          "data": {
            "text/plain": [
              "(19502, 7)"
            ]
          },
          "metadata": {},
          "execution_count": 5
        }
      ]
    },
    {
      "cell_type": "code",
      "metadata": {
        "id": "W0lqxDa2k1y5"
      },
      "source": [
        "zipcodes49 = zipcodes[zipcodes.st != 'AK']"
      ],
      "execution_count": 35,
      "outputs": []
    },
    {
      "cell_type": "code",
      "metadata": {
        "colab": {
          "base_uri": "https://localhost:8080/"
        },
        "id": "eGagOVvfnVgp",
        "outputId": "31a1702b-d8e3-4072-ba74-5fa54d54b9c0"
      },
      "source": [
        "zipcodes49.shape"
      ],
      "execution_count": 36,
      "outputs": [
        {
          "output_type": "execute_result",
          "data": {
            "text/plain": [
              "(19353, 7)"
            ]
          },
          "metadata": {},
          "execution_count": 36
        }
      ]
    },
    {
      "cell_type": "code",
      "metadata": {
        "id": "Xuy1pk7In_xc"
      },
      "source": [
        "zipcodes48 = zipcodes49[zipcodes49.st != 'HI']"
      ],
      "execution_count": 37,
      "outputs": []
    },
    {
      "cell_type": "code",
      "metadata": {
        "colab": {
          "base_uri": "https://localhost:8080/"
        },
        "id": "p4e7YJvwoPGc",
        "outputId": "5de8bdb1-4ee7-408c-8a46-48292dda5da7"
      },
      "source": [
        "zipcodes48.shape"
      ],
      "execution_count": 38,
      "outputs": [
        {
          "output_type": "execute_result",
          "data": {
            "text/plain": [
              "(19352, 7)"
            ]
          },
          "metadata": {},
          "execution_count": 38
        }
      ]
    },
    {
      "cell_type": "markdown",
      "metadata": {
        "id": "ZJeKmQEYoTY0"
      },
      "source": [
        "The data frame zipcodes48 will be the dataframe we are working with the remainder of this file.  As you can see from the checking shown above, the size of the frame has changed, confirming the necessary rows have been removed."
      ]
    },
    {
      "cell_type": "code",
      "metadata": {
        "id": "s3wDlrnKoiPu"
      },
      "source": [
        "import matplotlib.pyplot as plt"
      ],
      "execution_count": 22,
      "outputs": []
    },
    {
      "cell_type": "code",
      "metadata": {
        "colab": {
          "base_uri": "https://localhost:8080/",
          "height": 283
        },
        "id": "4UhYvwINpHyi",
        "outputId": "8a2069e0-9627-4100-e774-79692fc2a18d"
      },
      "source": [
        "zipcodes48.plot(x ='lon', y='lat', kind = 'scatter')\n",
        "plt.xlim(-128,-60)\n",
        "plt.ylim(20,50)\n",
        "plt.show()"
      ],
      "execution_count": 39,
      "outputs": [
        {
          "output_type": "display_data",
          "data": {
            "image/png": "[encoded data removed]",
            "text/plain": [
              "<Figure size 432x288 with 1 Axes>"
            ]
          },
          "metadata": {
            "needs_background": "light"
          }
        }
      ]
    },
    {
      "cell_type": "markdown",
      "metadata": {
        "id": "2PYxxP7UpXne"
      },
      "source": [
        "As you can see there is a clear image of the united states created by plotting the longitude and lattitude of each zipcode."
      ]
    },
    {
      "cell_type": "markdown",
      "metadata": {
        "id": "h6etzKTarPGo"
      },
      "source": [
        "Now I will try to use a k-means clustering algorithm with 10 clusters to try to pinpoint the top 10 cities."
      ]
    },
    {
      "cell_type": "code",
      "metadata": {
        "id": "PYV2AdjZpjdR"
      },
      "source": [
        "from sklearn.cluster import KMeans"
      ],
      "execution_count": 27,
      "outputs": []
    },
    {
      "cell_type": "code",
      "metadata": {
        "id": "dAXeKhAUsLNL"
      },
      "source": [
        "kmeans = KMeans(10)"
      ],
      "execution_count": 44,
      "outputs": []
    },
    {
      "cell_type": "markdown",
      "metadata": {
        "id": "gzbTBfLpzyv0"
      },
      "source": [
        "This creates 10 clusters to attempt to pinpoint the location of the most dense zipcode areas to locate the top 10 cities."
      ]
    },
    {
      "cell_type": "code",
      "metadata": {
        "colab": {
          "base_uri": "https://localhost:8080/",
          "height": 205
        },
        "id": "fA7Dxa2DwY3U",
        "outputId": "f262c35b-6ce5-4ecc-c10d-e2e2f85e522f"
      },
      "source": [
        "kmeans_df = zipcodes48[['lon', 'lat']]\n",
        "kmeans_df.head()"
      ],
      "execution_count": 51,
      "outputs": [
        {
          "output_type": "execute_result",
          "data": {
            "text/html": [
              "<div>\n",
              "<style scoped>\n",
              "    .dataframe tbody tr th:only-of-type {\n",
              "        vertical-align: middle;\n",
              "    }\n",
              "\n",
              "    .dataframe tbody tr th {\n",
              "        vertical-align: top;\n",
              "    }\n",
              "\n",
              "    .dataframe thead th {\n",
              "        text-align: right;\n",
              "    }\n",
              "</style>\n",
              "<table border=\"1\" class=\"dataframe\">\n",
              "  <thead>\n",
              "    <tr style=\"text-align: right;\">\n",
              "      <th></th>\n",
              "      <th>lon</th>\n",
              "      <th>lat</th>\n",
              "    </tr>\n",
              "  </thead>\n",
              "  <tbody>\n",
              "    <tr>\n",
              "      <th>0</th>\n",
              "      <td>-85.25139</td>\n",
              "      <td>31.56639</td>\n",
              "    </tr>\n",
              "    <tr>\n",
              "      <th>1</th>\n",
              "      <td>-86.94917</td>\n",
              "      <td>33.59028</td>\n",
              "    </tr>\n",
              "    <tr>\n",
              "      <th>2</th>\n",
              "      <td>-87.17778</td>\n",
              "      <td>34.20000</td>\n",
              "    </tr>\n",
              "    <tr>\n",
              "      <th>3</th>\n",
              "      <td>-87.74083</td>\n",
              "      <td>32.87639</td>\n",
              "    </tr>\n",
              "    <tr>\n",
              "      <th>4</th>\n",
              "      <td>-86.82361</td>\n",
              "      <td>33.23111</td>\n",
              "    </tr>\n",
              "  </tbody>\n",
              "</table>\n",
              "</div>"
            ],
            "text/plain": [
              "        lon       lat\n",
              "0 -85.25139  31.56639\n",
              "1 -86.94917  33.59028\n",
              "2 -87.17778  34.20000\n",
              "3 -87.74083  32.87639\n",
              "4 -86.82361  33.23111"
            ]
          },
          "metadata": {},
          "execution_count": 51
        }
      ]
    },
    {
      "cell_type": "code",
      "metadata": {
        "colab": {
          "base_uri": "https://localhost:8080/"
        },
        "id": "saNRVniExgJ1",
        "outputId": "19d06257-090b-4918-eedb-1c28afca37cd"
      },
      "source": [
        "kmeans.fit(kmeans_df)"
      ],
      "execution_count": 55,
      "outputs": [
        {
          "output_type": "execute_result",
          "data": {
            "text/plain": [
              "KMeans(algorithm='auto', copy_x=True, init='k-means++', max_iter=300,\n",
              "       n_clusters=10, n_init=10, n_jobs=None, precompute_distances='auto',\n",
              "       random_state=None, tol=0.0001, verbose=0)"
            ]
          },
          "metadata": {},
          "execution_count": 55
        }
      ]
    },
    {
      "cell_type": "code",
      "metadata": {
        "colab": {
          "base_uri": "https://localhost:8080/"
        },
        "id": "mznsxfwGxx_r",
        "outputId": "87646032-0bcb-4db3-df19-27bd142ebccf"
      },
      "source": [
        "kmeans.cluster_centers_"
      ],
      "execution_count": 59,
      "outputs": [
        {
          "output_type": "execute_result",
          "data": {
            "text/plain": [
              "array([[-8.38162806e+01,  3.28633322e+01],\n",
              "       [ 5.96855898e-13, -4.54747351e-13],\n",
              "       [-1.08153464e+02,  4.00592808e+01],\n",
              "       [-7.60657189e+01,  4.03623500e+01],\n",
              "       [-8.99941524e+01,  4.04034338e+01],\n",
              "       [-9.58559983e+01,  3.36587624e+01],\n",
              "       [-9.63523799e+01,  4.35499985e+01],\n",
              "       [-8.33715070e+01,  4.03843483e+01],\n",
              "       [-1.19316003e+02,  3.59502764e+01],\n",
              "       [-1.19994208e+02,  4.59707569e+01]])"
            ]
          },
          "metadata": {},
          "execution_count": 59
        }
      ]
    },
    {
      "cell_type": "markdown",
      "metadata": {
        "id": "99cBnp2nyssy"
      },
      "source": [
        "I have tried multiple implementations of kmeans algorithms, but this is the only way I could get through it with no errors.  However, this code does run all the way through, but did not work as intended as these coordinates are in the middle of the ocean and not even in the united states.  I am not sure if I did not allow for enough iterations due to the large amount of data or where I went wrong but I wanted to have at least something to turn in because I did spend a lot of time failing to even get the code to execute for the kmeans algorithm.  This means I cannot really give a top 10 cities list because my results do not help me in any way.  It was interesting to see the plot of just the zip codes to see clear places in the US where there are less zipcodes and a smaller population as the graph was more sparse in some areas in the midwest and southwest."
      ]
    }
  ]
}